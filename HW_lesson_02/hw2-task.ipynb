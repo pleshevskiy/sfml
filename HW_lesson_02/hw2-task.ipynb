{
 "cells": [
  {
   "cell_type": "markdown",
   "metadata": {},
   "source": [
    "# SkillFactory\n",
    "## Введение в ML, введение в sklearn"
   ]
  },
  {
   "cell_type": "markdown",
   "metadata": {},
   "source": [
    "В этом задании мы с вами рассмотрим данные с конкурса [Задача предсказания отклика клиентов ОТП Банка](http://www.machinelearning.ru/wiki/index.php?title=%D0%97%D0%B0%D0%B4%D0%B0%D1%87%D0%B0_%D0%BF%D1%80%D0%B5%D0%B4%D1%81%D0%BA%D0%B0%D0%B7%D0%B0%D0%BD%D0%B8%D1%8F_%D0%BE%D1%82%D0%BA%D0%BB%D0%B8%D0%BA%D0%B0_%D0%BA%D0%BB%D0%B8%D0%B5%D0%BD%D1%82%D0%BE%D0%B2_%D0%9E%D0%A2%D0%9F_%D0%91%D0%B0%D0%BD%D0%BA%D0%B0_%28%D0%BA%D0%BE%D0%BD%D0%BA%D1%83%D1%80%D1%81%29)"
   ]
  },
  {
   "cell_type": "code",
   "execution_count": 1,
   "metadata": {},
   "outputs": [],
   "source": [
    "import pandas as pd\n",
    "import numpy as np\n",
    "import matplotlib.pyplot as plt\n",
    "\n",
    "%matplotlib inline\n",
    "\n",
    "plt.style.use('ggplot')\n",
    "plt.rcParams['figure.figsize'] = (12,5)"
   ]
  },
  {
   "cell_type": "markdown",
   "metadata": {},
   "source": [
    "### Грузим данные"
   ]
  },
  {
   "cell_type": "markdown",
   "metadata": {},
   "source": [
    "Считаем описание данных"
   ]
  },
  {
   "cell_type": "code",
   "execution_count": 2,
   "metadata": {},
   "outputs": [],
   "source": [
    "\n",
    "df_descr = pd.read_csv('data/otp_description.csv', sep='\\t', encoding='utf8')"
   ]
  },
  {
   "cell_type": "code",
   "execution_count": 3,
   "metadata": {},
   "outputs": [
    {
     "data": {
      "text/html": [
       "<div>\n",
       "<style scoped>\n",
       "    .dataframe tbody tr th:only-of-type {\n",
       "        vertical-align: middle;\n",
       "    }\n",
       "\n",
       "    .dataframe tbody tr th {\n",
       "        vertical-align: top;\n",
       "    }\n",
       "\n",
       "    .dataframe thead th {\n",
       "        text-align: right;\n",
       "    }\n",
       "</style>\n",
       "<table border=\"1\" class=\"dataframe\">\n",
       "  <thead>\n",
       "    <tr style=\"text-align: right;\">\n",
       "      <th></th>\n",
       "      <th>ПОЛЕ</th>\n",
       "      <th>ОПИСАНИЕ</th>\n",
       "    </tr>\n",
       "  </thead>\n",
       "  <tbody>\n",
       "    <tr>\n",
       "      <th>0</th>\n",
       "      <td>AGREEMENT_RK</td>\n",
       "      <td>уникальный идентификатор объекта в выборке</td>\n",
       "    </tr>\n",
       "    <tr>\n",
       "      <th>1</th>\n",
       "      <td>AGE</td>\n",
       "      <td>возраст клиента</td>\n",
       "    </tr>\n",
       "    <tr>\n",
       "      <th>2</th>\n",
       "      <td>SOCSTATUS_WORK_FL</td>\n",
       "      <td>социальный статус клиента относительно работы ...</td>\n",
       "    </tr>\n",
       "    <tr>\n",
       "      <th>3</th>\n",
       "      <td>SOCSTATUS_PENS_FL</td>\n",
       "      <td>социальный статус клиента относительно пенсии ...</td>\n",
       "    </tr>\n",
       "    <tr>\n",
       "      <th>4</th>\n",
       "      <td>GENDER</td>\n",
       "      <td>пол клиента (1- женщины, 0-мужчины)</td>\n",
       "    </tr>\n",
       "    <tr>\n",
       "      <th>5</th>\n",
       "      <td>CHILD_TOTAL</td>\n",
       "      <td>количество детей клиента</td>\n",
       "    </tr>\n",
       "    <tr>\n",
       "      <th>6</th>\n",
       "      <td>DEPENDANTS</td>\n",
       "      <td>количество иждивенцев клиента</td>\n",
       "    </tr>\n",
       "    <tr>\n",
       "      <th>7</th>\n",
       "      <td>EDUCATION</td>\n",
       "      <td>образование</td>\n",
       "    </tr>\n",
       "    <tr>\n",
       "      <th>8</th>\n",
       "      <td>MARITAL_STATUS</td>\n",
       "      <td>семейное положение</td>\n",
       "    </tr>\n",
       "    <tr>\n",
       "      <th>9</th>\n",
       "      <td>GEN_INDUSTRY</td>\n",
       "      <td>отрасль работы клиента</td>\n",
       "    </tr>\n",
       "    <tr>\n",
       "      <th>10</th>\n",
       "      <td>GEN_TITLE</td>\n",
       "      <td>должность</td>\n",
       "    </tr>\n",
       "    <tr>\n",
       "      <th>11</th>\n",
       "      <td>ORG_TP_STATE</td>\n",
       "      <td>форма собственности компании</td>\n",
       "    </tr>\n",
       "    <tr>\n",
       "      <th>12</th>\n",
       "      <td>ORG_TP_FCAPITAL</td>\n",
       "      <td>отношение к иностранному капиталу</td>\n",
       "    </tr>\n",
       "    <tr>\n",
       "      <th>13</th>\n",
       "      <td>JOB_DIR</td>\n",
       "      <td>направление деятельности в нутри компании</td>\n",
       "    </tr>\n",
       "    <tr>\n",
       "      <th>14</th>\n",
       "      <td>FAMILY_INCOME</td>\n",
       "      <td>семейный доход (несколько категорий)</td>\n",
       "    </tr>\n",
       "    <tr>\n",
       "      <th>15</th>\n",
       "      <td>PERSONAL_INCOME</td>\n",
       "      <td>личный доход клиента (в рублях)</td>\n",
       "    </tr>\n",
       "    <tr>\n",
       "      <th>16</th>\n",
       "      <td>REG_ADDRESS_PROVINCE</td>\n",
       "      <td>область регистрации клиента</td>\n",
       "    </tr>\n",
       "    <tr>\n",
       "      <th>17</th>\n",
       "      <td>FACT_ADDRESS_PROVINCE</td>\n",
       "      <td>область фактического пребывания клиента</td>\n",
       "    </tr>\n",
       "    <tr>\n",
       "      <th>18</th>\n",
       "      <td>POSTAL_ADDRESS_PROVINCE</td>\n",
       "      <td>почтовый адрес область</td>\n",
       "    </tr>\n",
       "    <tr>\n",
       "      <th>19</th>\n",
       "      <td>TP_PROVINCE</td>\n",
       "      <td>область торговой точки, где клиент брал послед...</td>\n",
       "    </tr>\n",
       "    <tr>\n",
       "      <th>20</th>\n",
       "      <td>REGION_NM</td>\n",
       "      <td>регион РФ</td>\n",
       "    </tr>\n",
       "    <tr>\n",
       "      <th>21</th>\n",
       "      <td>REG_FACT_FL</td>\n",
       "      <td>адрес регистрации и адрес фактического пребыва...</td>\n",
       "    </tr>\n",
       "    <tr>\n",
       "      <th>22</th>\n",
       "      <td>FACT_POST_FL</td>\n",
       "      <td>адрес фактического пребывания клиента и его по...</td>\n",
       "    </tr>\n",
       "    <tr>\n",
       "      <th>23</th>\n",
       "      <td>REG_POST_FL</td>\n",
       "      <td>адрес регистрации клиента и его почтовый адрес...</td>\n",
       "    </tr>\n",
       "    <tr>\n",
       "      <th>24</th>\n",
       "      <td>REG_FACT_POST_FL</td>\n",
       "      <td>почтовый, фактический и адрес регистрации совп...</td>\n",
       "    </tr>\n",
       "    <tr>\n",
       "      <th>25</th>\n",
       "      <td>REG_FACT_POST_TP_FL</td>\n",
       "      <td>область регистрации, фактического пребывания, ...</td>\n",
       "    </tr>\n",
       "    <tr>\n",
       "      <th>26</th>\n",
       "      <td>FL_PRESENCE_FL</td>\n",
       "      <td>наличие в собственности квартиры (1 - есть, 0 ...</td>\n",
       "    </tr>\n",
       "    <tr>\n",
       "      <th>27</th>\n",
       "      <td>OWN_AUTO</td>\n",
       "      <td>кол-во автомобилей в собственности</td>\n",
       "    </tr>\n",
       "    <tr>\n",
       "      <th>28</th>\n",
       "      <td>AUTO_RUS_FL</td>\n",
       "      <td>наличие в собственности автомобиля российского...</td>\n",
       "    </tr>\n",
       "    <tr>\n",
       "      <th>29</th>\n",
       "      <td>HS_PRESENCE_FL</td>\n",
       "      <td>наличие в собственности загородного дома (1 - ...</td>\n",
       "    </tr>\n",
       "    <tr>\n",
       "      <th>30</th>\n",
       "      <td>COT_PRESENCE_FL</td>\n",
       "      <td>наличие в собственности котеджа (1 - есть, 0 -...</td>\n",
       "    </tr>\n",
       "    <tr>\n",
       "      <th>31</th>\n",
       "      <td>GAR_PRESENCE_FL</td>\n",
       "      <td>наличие в собственности гаража (1 - есть, 0 - ...</td>\n",
       "    </tr>\n",
       "    <tr>\n",
       "      <th>32</th>\n",
       "      <td>LAND_PRESENCE_FL</td>\n",
       "      <td>наличие в собственности земельного участка (1 ...</td>\n",
       "    </tr>\n",
       "    <tr>\n",
       "      <th>33</th>\n",
       "      <td>CREDIT</td>\n",
       "      <td>сумма последнего кредита клиента (в рублях)</td>\n",
       "    </tr>\n",
       "    <tr>\n",
       "      <th>34</th>\n",
       "      <td>TERM</td>\n",
       "      <td>срок кредита</td>\n",
       "    </tr>\n",
       "    <tr>\n",
       "      <th>35</th>\n",
       "      <td>FST_PAYMENT</td>\n",
       "      <td>первоначальный взнос (в рублях)</td>\n",
       "    </tr>\n",
       "    <tr>\n",
       "      <th>36</th>\n",
       "      <td>DL_DOCUMENT_FL</td>\n",
       "      <td>в анкете клиент указал водительское удостовере...</td>\n",
       "    </tr>\n",
       "    <tr>\n",
       "      <th>37</th>\n",
       "      <td>GPF_DOCUMENT_FL</td>\n",
       "      <td>в анкете клиен указал ГПФ (1 - указал, 0 - не ...</td>\n",
       "    </tr>\n",
       "    <tr>\n",
       "      <th>38</th>\n",
       "      <td>FACT_LIVING_TERM</td>\n",
       "      <td>количество месяцев проживания по месту фактиче...</td>\n",
       "    </tr>\n",
       "    <tr>\n",
       "      <th>39</th>\n",
       "      <td>WORK_TIME</td>\n",
       "      <td>время работы на текущем месте (в месяцах)</td>\n",
       "    </tr>\n",
       "    <tr>\n",
       "      <th>40</th>\n",
       "      <td>FACT_PHONE_FL</td>\n",
       "      <td>наличие в заявке телефона по фактическому мест...</td>\n",
       "    </tr>\n",
       "    <tr>\n",
       "      <th>41</th>\n",
       "      <td>REG_PHONE_FL</td>\n",
       "      <td>наличие в заявке телефона по месту регистрации</td>\n",
       "    </tr>\n",
       "    <tr>\n",
       "      <th>42</th>\n",
       "      <td>GEN_PHONE_FL</td>\n",
       "      <td>наличие в заявке рабочего телефона</td>\n",
       "    </tr>\n",
       "    <tr>\n",
       "      <th>43</th>\n",
       "      <td>LOAN_NUM_TOTAL</td>\n",
       "      <td>количество ссуд клиента</td>\n",
       "    </tr>\n",
       "    <tr>\n",
       "      <th>44</th>\n",
       "      <td>LOAN_NUM_CLOSED</td>\n",
       "      <td>количество погашенных ссуд клиента</td>\n",
       "    </tr>\n",
       "    <tr>\n",
       "      <th>45</th>\n",
       "      <td>LOAN_NUM_PAYM</td>\n",
       "      <td>количество платежей, которые сделал клиент</td>\n",
       "    </tr>\n",
       "    <tr>\n",
       "      <th>46</th>\n",
       "      <td>LOAN_DLQ_NUM</td>\n",
       "      <td>количество просрочек, допущенных клиентом</td>\n",
       "    </tr>\n",
       "    <tr>\n",
       "      <th>47</th>\n",
       "      <td>LOAN_MAX_DLQ</td>\n",
       "      <td>номер максимальной просрочки, допущенной клиентом</td>\n",
       "    </tr>\n",
       "    <tr>\n",
       "      <th>48</th>\n",
       "      <td>LOAN_AVG_DLQ_AMT</td>\n",
       "      <td>средняя сумма просрочки (в рублях)</td>\n",
       "    </tr>\n",
       "    <tr>\n",
       "      <th>49</th>\n",
       "      <td>LOAN_MAX_DLQ_AMT</td>\n",
       "      <td>максимальная сумма просрочки (в рублях)</td>\n",
       "    </tr>\n",
       "    <tr>\n",
       "      <th>50</th>\n",
       "      <td>PREVIOUS_CARD_NUM_UTILIZED</td>\n",
       "      <td>количество уже утилизированных карт ( если пус...</td>\n",
       "    </tr>\n",
       "  </tbody>\n",
       "</table>\n",
       "</div>"
      ],
      "text/plain": [
       "                          ПОЛЕ  \\\n",
       "0                 AGREEMENT_RK   \n",
       "1                          AGE   \n",
       "2            SOCSTATUS_WORK_FL   \n",
       "3            SOCSTATUS_PENS_FL   \n",
       "4                       GENDER   \n",
       "5                  CHILD_TOTAL   \n",
       "6                   DEPENDANTS   \n",
       "7                    EDUCATION   \n",
       "8               MARITAL_STATUS   \n",
       "9                 GEN_INDUSTRY   \n",
       "10                   GEN_TITLE   \n",
       "11                ORG_TP_STATE   \n",
       "12             ORG_TP_FCAPITAL   \n",
       "13                     JOB_DIR   \n",
       "14               FAMILY_INCOME   \n",
       "15             PERSONAL_INCOME   \n",
       "16        REG_ADDRESS_PROVINCE   \n",
       "17       FACT_ADDRESS_PROVINCE   \n",
       "18     POSTAL_ADDRESS_PROVINCE   \n",
       "19                 TP_PROVINCE   \n",
       "20                   REGION_NM   \n",
       "21                 REG_FACT_FL   \n",
       "22                FACT_POST_FL   \n",
       "23                 REG_POST_FL   \n",
       "24            REG_FACT_POST_FL   \n",
       "25         REG_FACT_POST_TP_FL   \n",
       "26              FL_PRESENCE_FL   \n",
       "27                    OWN_AUTO   \n",
       "28                 AUTO_RUS_FL   \n",
       "29              HS_PRESENCE_FL   \n",
       "30             COT_PRESENCE_FL   \n",
       "31             GAR_PRESENCE_FL   \n",
       "32            LAND_PRESENCE_FL   \n",
       "33                      CREDIT   \n",
       "34                        TERM   \n",
       "35                 FST_PAYMENT   \n",
       "36              DL_DOCUMENT_FL   \n",
       "37             GPF_DOCUMENT_FL   \n",
       "38            FACT_LIVING_TERM   \n",
       "39                   WORK_TIME   \n",
       "40               FACT_PHONE_FL   \n",
       "41                REG_PHONE_FL   \n",
       "42                GEN_PHONE_FL   \n",
       "43              LOAN_NUM_TOTAL   \n",
       "44             LOAN_NUM_CLOSED   \n",
       "45               LOAN_NUM_PAYM   \n",
       "46                LOAN_DLQ_NUM   \n",
       "47                LOAN_MAX_DLQ   \n",
       "48            LOAN_AVG_DLQ_AMT   \n",
       "49            LOAN_MAX_DLQ_AMT   \n",
       "50  PREVIOUS_CARD_NUM_UTILIZED   \n",
       "\n",
       "                                             ОПИСАНИЕ  \n",
       "0          уникальный идентификатор объекта в выборке  \n",
       "1                                     возраст клиента  \n",
       "2   социальный статус клиента относительно работы ...  \n",
       "3   социальный статус клиента относительно пенсии ...  \n",
       "4                 пол клиента (1- женщины, 0-мужчины)  \n",
       "5                            количество детей клиента  \n",
       "6                       количество иждивенцев клиента  \n",
       "7                                         образование  \n",
       "8                                  семейное положение  \n",
       "9                              отрасль работы клиента  \n",
       "10                                          должность  \n",
       "11                       форма собственности компании  \n",
       "12                  отношение к иностранному капиталу  \n",
       "13          направление деятельности в нутри компании  \n",
       "14               семейный доход (несколько категорий)  \n",
       "15                    личный доход клиента (в рублях)  \n",
       "16                        область регистрации клиента  \n",
       "17            область фактического пребывания клиента  \n",
       "18                             почтовый адрес область  \n",
       "19  область торговой точки, где клиент брал послед...  \n",
       "20                                          регион РФ  \n",
       "21  адрес регистрации и адрес фактического пребыва...  \n",
       "22  адрес фактического пребывания клиента и его по...  \n",
       "23  адрес регистрации клиента и его почтовый адрес...  \n",
       "24  почтовый, фактический и адрес регистрации совп...  \n",
       "25  область регистрации, фактического пребывания, ...  \n",
       "26  наличие в собственности квартиры (1 - есть, 0 ...  \n",
       "27                кол-во автомобилей в собственности   \n",
       "28  наличие в собственности автомобиля российского...  \n",
       "29  наличие в собственности загородного дома (1 - ...  \n",
       "30  наличие в собственности котеджа (1 - есть, 0 -...  \n",
       "31  наличие в собственности гаража (1 - есть, 0 - ...  \n",
       "32  наличие в собственности земельного участка (1 ...  \n",
       "33        сумма последнего кредита клиента (в рублях)  \n",
       "34                                       срок кредита  \n",
       "35                    первоначальный взнос (в рублях)  \n",
       "36  в анкете клиент указал водительское удостовере...  \n",
       "37  в анкете клиен указал ГПФ (1 - указал, 0 - не ...  \n",
       "38  количество месяцев проживания по месту фактиче...  \n",
       "39          время работы на текущем месте (в месяцах)  \n",
       "40  наличие в заявке телефона по фактическому мест...  \n",
       "41     наличие в заявке телефона по месту регистрации  \n",
       "42                 наличие в заявке рабочего телефона  \n",
       "43                            количество ссуд клиента  \n",
       "44                 количество погашенных ссуд клиента  \n",
       "45         количество платежей, которые сделал клиент  \n",
       "46          количество просрочек, допущенных клиентом  \n",
       "47  номер максимальной просрочки, допущенной клиентом  \n",
       "48                 средняя сумма просрочки (в рублях)  \n",
       "49            максимальная сумма просрочки (в рублях)  \n",
       "50  количество уже утилизированных карт ( если пус...  "
      ]
     },
     "execution_count": 3,
     "metadata": {},
     "output_type": "execute_result"
    }
   ],
   "source": [
    "df_descr"
   ]
  },
  {
   "cell_type": "markdown",
   "metadata": {},
   "source": [
    "Считаем обучающую выборки и тестовую (которую мы как бы не видим)"
   ]
  },
  {
   "cell_type": "code",
   "execution_count": 4,
   "metadata": {},
   "outputs": [],
   "source": [
    "df_train = pd.read_csv('data/otp_train.csv', sep='\\t', encoding='utf8')"
   ]
  },
  {
   "cell_type": "code",
   "execution_count": 5,
   "metadata": {},
   "outputs": [
    {
     "data": {
      "text/plain": [
       "(15223, 52)"
      ]
     },
     "execution_count": 5,
     "metadata": {},
     "output_type": "execute_result"
    }
   ],
   "source": [
    "df_train.shape"
   ]
  },
  {
   "cell_type": "code",
   "execution_count": 6,
   "metadata": {},
   "outputs": [],
   "source": [
    "df_test = pd.read_csv('data/otp_test.csv', sep='\\t', encoding='utf8')"
   ]
  },
  {
   "cell_type": "code",
   "execution_count": 7,
   "metadata": {},
   "outputs": [
    {
     "data": {
      "text/plain": [
       "(14910, 52)"
      ]
     },
     "execution_count": 7,
     "metadata": {},
     "output_type": "execute_result"
    }
   ],
   "source": [
    "df_test.shape"
   ]
  },
  {
   "cell_type": "code",
   "execution_count": 8,
   "metadata": {},
   "outputs": [
    {
     "data": {
      "text/html": [
       "<div>\n",
       "<style scoped>\n",
       "    .dataframe tbody tr th:only-of-type {\n",
       "        vertical-align: middle;\n",
       "    }\n",
       "\n",
       "    .dataframe tbody tr th {\n",
       "        vertical-align: top;\n",
       "    }\n",
       "\n",
       "    .dataframe thead th {\n",
       "        text-align: right;\n",
       "    }\n",
       "</style>\n",
       "<table border=\"1\" class=\"dataframe\">\n",
       "  <thead>\n",
       "    <tr style=\"text-align: right;\">\n",
       "      <th></th>\n",
       "      <th>AGREEMENT_RK</th>\n",
       "      <th>TARGET</th>\n",
       "      <th>AGE</th>\n",
       "      <th>SOCSTATUS_WORK_FL</th>\n",
       "      <th>SOCSTATUS_PENS_FL</th>\n",
       "      <th>GENDER</th>\n",
       "      <th>CHILD_TOTAL</th>\n",
       "      <th>DEPENDANTS</th>\n",
       "      <th>EDUCATION</th>\n",
       "      <th>MARITAL_STATUS</th>\n",
       "      <th>...</th>\n",
       "      <th>REG_PHONE_FL</th>\n",
       "      <th>GEN_PHONE_FL</th>\n",
       "      <th>LOAN_NUM_TOTAL</th>\n",
       "      <th>LOAN_NUM_CLOSED</th>\n",
       "      <th>LOAN_NUM_PAYM</th>\n",
       "      <th>LOAN_DLQ_NUM</th>\n",
       "      <th>LOAN_MAX_DLQ</th>\n",
       "      <th>LOAN_AVG_DLQ_AMT</th>\n",
       "      <th>LOAN_MAX_DLQ_AMT</th>\n",
       "      <th>PREVIOUS_CARD_NUM_UTILIZED</th>\n",
       "    </tr>\n",
       "  </thead>\n",
       "  <tbody>\n",
       "    <tr>\n",
       "      <th>0</th>\n",
       "      <td>59910150</td>\n",
       "      <td>0</td>\n",
       "      <td>49</td>\n",
       "      <td>1</td>\n",
       "      <td>0</td>\n",
       "      <td>1</td>\n",
       "      <td>2</td>\n",
       "      <td>1</td>\n",
       "      <td>Среднее специальное</td>\n",
       "      <td>Состою в браке</td>\n",
       "      <td>...</td>\n",
       "      <td>0</td>\n",
       "      <td>1</td>\n",
       "      <td>1</td>\n",
       "      <td>1</td>\n",
       "      <td>6</td>\n",
       "      <td>2</td>\n",
       "      <td>1</td>\n",
       "      <td>1580</td>\n",
       "      <td>1580</td>\n",
       "      <td>NaN</td>\n",
       "    </tr>\n",
       "    <tr>\n",
       "      <th>1</th>\n",
       "      <td>59910230</td>\n",
       "      <td>0</td>\n",
       "      <td>32</td>\n",
       "      <td>1</td>\n",
       "      <td>0</td>\n",
       "      <td>1</td>\n",
       "      <td>3</td>\n",
       "      <td>3</td>\n",
       "      <td>Среднее</td>\n",
       "      <td>Состою в браке</td>\n",
       "      <td>...</td>\n",
       "      <td>0</td>\n",
       "      <td>1</td>\n",
       "      <td>1</td>\n",
       "      <td>1</td>\n",
       "      <td>6</td>\n",
       "      <td>1</td>\n",
       "      <td>1</td>\n",
       "      <td>4020</td>\n",
       "      <td>4020</td>\n",
       "      <td>NaN</td>\n",
       "    </tr>\n",
       "    <tr>\n",
       "      <th>2</th>\n",
       "      <td>59910525</td>\n",
       "      <td>0</td>\n",
       "      <td>52</td>\n",
       "      <td>1</td>\n",
       "      <td>0</td>\n",
       "      <td>1</td>\n",
       "      <td>4</td>\n",
       "      <td>0</td>\n",
       "      <td>Неполное среднее</td>\n",
       "      <td>Состою в браке</td>\n",
       "      <td>...</td>\n",
       "      <td>0</td>\n",
       "      <td>1</td>\n",
       "      <td>2</td>\n",
       "      <td>1</td>\n",
       "      <td>11</td>\n",
       "      <td>0</td>\n",
       "      <td>0</td>\n",
       "      <td>0</td>\n",
       "      <td>0</td>\n",
       "      <td>NaN</td>\n",
       "    </tr>\n",
       "    <tr>\n",
       "      <th>3</th>\n",
       "      <td>59910803</td>\n",
       "      <td>0</td>\n",
       "      <td>39</td>\n",
       "      <td>1</td>\n",
       "      <td>0</td>\n",
       "      <td>1</td>\n",
       "      <td>1</td>\n",
       "      <td>1</td>\n",
       "      <td>Высшее</td>\n",
       "      <td>Состою в браке</td>\n",
       "      <td>...</td>\n",
       "      <td>1</td>\n",
       "      <td>1</td>\n",
       "      <td>1</td>\n",
       "      <td>1</td>\n",
       "      <td>6</td>\n",
       "      <td>3</td>\n",
       "      <td>1</td>\n",
       "      <td>1589,92333333333</td>\n",
       "      <td>1590</td>\n",
       "      <td>NaN</td>\n",
       "    </tr>\n",
       "    <tr>\n",
       "      <th>4</th>\n",
       "      <td>59911781</td>\n",
       "      <td>0</td>\n",
       "      <td>30</td>\n",
       "      <td>1</td>\n",
       "      <td>0</td>\n",
       "      <td>0</td>\n",
       "      <td>0</td>\n",
       "      <td>0</td>\n",
       "      <td>Среднее</td>\n",
       "      <td>Состою в браке</td>\n",
       "      <td>...</td>\n",
       "      <td>0</td>\n",
       "      <td>1</td>\n",
       "      <td>2</td>\n",
       "      <td>1</td>\n",
       "      <td>16</td>\n",
       "      <td>2</td>\n",
       "      <td>1</td>\n",
       "      <td>1152,15</td>\n",
       "      <td>2230</td>\n",
       "      <td>NaN</td>\n",
       "    </tr>\n",
       "  </tbody>\n",
       "</table>\n",
       "<p>5 rows × 52 columns</p>\n",
       "</div>"
      ],
      "text/plain": [
       "   AGREEMENT_RK  TARGET  AGE  SOCSTATUS_WORK_FL  SOCSTATUS_PENS_FL  GENDER  \\\n",
       "0      59910150       0   49                  1                  0       1   \n",
       "1      59910230       0   32                  1                  0       1   \n",
       "2      59910525       0   52                  1                  0       1   \n",
       "3      59910803       0   39                  1                  0       1   \n",
       "4      59911781       0   30                  1                  0       0   \n",
       "\n",
       "   CHILD_TOTAL  DEPENDANTS            EDUCATION  MARITAL_STATUS  \\\n",
       "0            2           1  Среднее специальное  Состою в браке   \n",
       "1            3           3              Среднее  Состою в браке   \n",
       "2            4           0     Неполное среднее  Состою в браке   \n",
       "3            1           1               Высшее  Состою в браке   \n",
       "4            0           0              Среднее  Состою в браке   \n",
       "\n",
       "             ...             REG_PHONE_FL GEN_PHONE_FL LOAN_NUM_TOTAL  \\\n",
       "0            ...                        0            1              1   \n",
       "1            ...                        0            1              1   \n",
       "2            ...                        0            1              2   \n",
       "3            ...                        1            1              1   \n",
       "4            ...                        0            1              2   \n",
       "\n",
       "  LOAN_NUM_CLOSED LOAN_NUM_PAYM LOAN_DLQ_NUM LOAN_MAX_DLQ  LOAN_AVG_DLQ_AMT  \\\n",
       "0               1             6            2            1              1580   \n",
       "1               1             6            1            1              4020   \n",
       "2               1            11            0            0                 0   \n",
       "3               1             6            3            1  1589,92333333333   \n",
       "4               1            16            2            1           1152,15   \n",
       "\n",
       "  LOAN_MAX_DLQ_AMT PREVIOUS_CARD_NUM_UTILIZED  \n",
       "0             1580                        NaN  \n",
       "1             4020                        NaN  \n",
       "2                0                        NaN  \n",
       "3             1590                        NaN  \n",
       "4             2230                        NaN  \n",
       "\n",
       "[5 rows x 52 columns]"
      ]
     },
     "execution_count": 8,
     "metadata": {},
     "output_type": "execute_result"
    }
   ],
   "source": [
    "df_train.head()"
   ]
  },
  {
   "cell_type": "code",
   "execution_count": 9,
   "metadata": {},
   "outputs": [
    {
     "data": {
      "text/html": [
       "<div>\n",
       "<style scoped>\n",
       "    .dataframe tbody tr th:only-of-type {\n",
       "        vertical-align: middle;\n",
       "    }\n",
       "\n",
       "    .dataframe tbody tr th {\n",
       "        vertical-align: top;\n",
       "    }\n",
       "\n",
       "    .dataframe thead th {\n",
       "        text-align: right;\n",
       "    }\n",
       "</style>\n",
       "<table border=\"1\" class=\"dataframe\">\n",
       "  <thead>\n",
       "    <tr style=\"text-align: right;\">\n",
       "      <th></th>\n",
       "      <th>0</th>\n",
       "      <th>1</th>\n",
       "      <th>2</th>\n",
       "      <th>3</th>\n",
       "      <th>4</th>\n",
       "    </tr>\n",
       "  </thead>\n",
       "  <tbody>\n",
       "    <tr>\n",
       "      <th>AGREEMENT_RK</th>\n",
       "      <td>59910150</td>\n",
       "      <td>59910230</td>\n",
       "      <td>59910525</td>\n",
       "      <td>59910803</td>\n",
       "      <td>59911781</td>\n",
       "    </tr>\n",
       "    <tr>\n",
       "      <th>TARGET</th>\n",
       "      <td>0</td>\n",
       "      <td>0</td>\n",
       "      <td>0</td>\n",
       "      <td>0</td>\n",
       "      <td>0</td>\n",
       "    </tr>\n",
       "    <tr>\n",
       "      <th>AGE</th>\n",
       "      <td>49</td>\n",
       "      <td>32</td>\n",
       "      <td>52</td>\n",
       "      <td>39</td>\n",
       "      <td>30</td>\n",
       "    </tr>\n",
       "    <tr>\n",
       "      <th>SOCSTATUS_WORK_FL</th>\n",
       "      <td>1</td>\n",
       "      <td>1</td>\n",
       "      <td>1</td>\n",
       "      <td>1</td>\n",
       "      <td>1</td>\n",
       "    </tr>\n",
       "    <tr>\n",
       "      <th>SOCSTATUS_PENS_FL</th>\n",
       "      <td>0</td>\n",
       "      <td>0</td>\n",
       "      <td>0</td>\n",
       "      <td>0</td>\n",
       "      <td>0</td>\n",
       "    </tr>\n",
       "    <tr>\n",
       "      <th>GENDER</th>\n",
       "      <td>1</td>\n",
       "      <td>1</td>\n",
       "      <td>1</td>\n",
       "      <td>1</td>\n",
       "      <td>0</td>\n",
       "    </tr>\n",
       "    <tr>\n",
       "      <th>CHILD_TOTAL</th>\n",
       "      <td>2</td>\n",
       "      <td>3</td>\n",
       "      <td>4</td>\n",
       "      <td>1</td>\n",
       "      <td>0</td>\n",
       "    </tr>\n",
       "    <tr>\n",
       "      <th>DEPENDANTS</th>\n",
       "      <td>1</td>\n",
       "      <td>3</td>\n",
       "      <td>0</td>\n",
       "      <td>1</td>\n",
       "      <td>0</td>\n",
       "    </tr>\n",
       "    <tr>\n",
       "      <th>EDUCATION</th>\n",
       "      <td>Среднее специальное</td>\n",
       "      <td>Среднее</td>\n",
       "      <td>Неполное среднее</td>\n",
       "      <td>Высшее</td>\n",
       "      <td>Среднее</td>\n",
       "    </tr>\n",
       "    <tr>\n",
       "      <th>MARITAL_STATUS</th>\n",
       "      <td>Состою в браке</td>\n",
       "      <td>Состою в браке</td>\n",
       "      <td>Состою в браке</td>\n",
       "      <td>Состою в браке</td>\n",
       "      <td>Состою в браке</td>\n",
       "    </tr>\n",
       "    <tr>\n",
       "      <th>GEN_INDUSTRY</th>\n",
       "      <td>Торговля</td>\n",
       "      <td>Торговля</td>\n",
       "      <td>Информационные технологии</td>\n",
       "      <td>Образование</td>\n",
       "      <td>Государственная служба</td>\n",
       "    </tr>\n",
       "    <tr>\n",
       "      <th>GEN_TITLE</th>\n",
       "      <td>Рабочий</td>\n",
       "      <td>Рабочий</td>\n",
       "      <td>Специалист</td>\n",
       "      <td>Руководитель среднего звена</td>\n",
       "      <td>Специалист</td>\n",
       "    </tr>\n",
       "    <tr>\n",
       "      <th>ORG_TP_STATE</th>\n",
       "      <td>Частная компания</td>\n",
       "      <td>Индивидуальный предприниматель</td>\n",
       "      <td>Государственная комп./учреж.</td>\n",
       "      <td>Государственная комп./учреж.</td>\n",
       "      <td>Государственная комп./учреж.</td>\n",
       "    </tr>\n",
       "    <tr>\n",
       "      <th>ORG_TP_FCAPITAL</th>\n",
       "      <td>Без участия</td>\n",
       "      <td>Без участия</td>\n",
       "      <td>Без участия</td>\n",
       "      <td>Без участия</td>\n",
       "      <td>Без участия</td>\n",
       "    </tr>\n",
       "    <tr>\n",
       "      <th>JOB_DIR</th>\n",
       "      <td>Вспомогательный техперсонал</td>\n",
       "      <td>Участие в основ. деятельности</td>\n",
       "      <td>Участие в основ. деятельности</td>\n",
       "      <td>Участие в основ. деятельности</td>\n",
       "      <td>Участие в основ. деятельности</td>\n",
       "    </tr>\n",
       "    <tr>\n",
       "      <th>FAMILY_INCOME</th>\n",
       "      <td>от 10000 до 20000 руб.</td>\n",
       "      <td>от 10000 до 20000 руб.</td>\n",
       "      <td>от 10000 до 20000 руб.</td>\n",
       "      <td>от 20000 до 50000 руб.</td>\n",
       "      <td>от 10000 до 20000 руб.</td>\n",
       "    </tr>\n",
       "    <tr>\n",
       "      <th>PERSONAL_INCOME</th>\n",
       "      <td>5000</td>\n",
       "      <td>12000</td>\n",
       "      <td>9000</td>\n",
       "      <td>25000</td>\n",
       "      <td>12000</td>\n",
       "    </tr>\n",
       "    <tr>\n",
       "      <th>REG_ADDRESS_PROVINCE</th>\n",
       "      <td>Оренбургская область</td>\n",
       "      <td>Кабардино-Балкария</td>\n",
       "      <td>Иркутская область</td>\n",
       "      <td>Ростовская область</td>\n",
       "      <td>Кабардино-Балкария</td>\n",
       "    </tr>\n",
       "    <tr>\n",
       "      <th>FACT_ADDRESS_PROVINCE</th>\n",
       "      <td>Оренбургская область</td>\n",
       "      <td>Кабардино-Балкария</td>\n",
       "      <td>Иркутская область</td>\n",
       "      <td>Ростовская область</td>\n",
       "      <td>Кабардино-Балкария</td>\n",
       "    </tr>\n",
       "    <tr>\n",
       "      <th>POSTAL_ADDRESS_PROVINCE</th>\n",
       "      <td>Оренбургская область</td>\n",
       "      <td>Кабардино-Балкария</td>\n",
       "      <td>Иркутская область</td>\n",
       "      <td>Ростовская область</td>\n",
       "      <td>Кабардино-Балкария</td>\n",
       "    </tr>\n",
       "    <tr>\n",
       "      <th>TP_PROVINCE</th>\n",
       "      <td>Оренбургская область</td>\n",
       "      <td>Ставропольский край</td>\n",
       "      <td>Иркутская область</td>\n",
       "      <td>Ростовская область</td>\n",
       "      <td>Ставропольский край</td>\n",
       "    </tr>\n",
       "    <tr>\n",
       "      <th>REGION_NM</th>\n",
       "      <td>ПОВОЛЖСКИЙ</td>\n",
       "      <td>ЮЖНЫЙ</td>\n",
       "      <td>ВОСТОЧНО-СИБИРСКИЙ</td>\n",
       "      <td>ЮЖНЫЙ</td>\n",
       "      <td>ЮЖНЫЙ</td>\n",
       "    </tr>\n",
       "    <tr>\n",
       "      <th>REG_FACT_FL</th>\n",
       "      <td>1</td>\n",
       "      <td>1</td>\n",
       "      <td>1</td>\n",
       "      <td>0</td>\n",
       "      <td>1</td>\n",
       "    </tr>\n",
       "    <tr>\n",
       "      <th>FACT_POST_FL</th>\n",
       "      <td>1</td>\n",
       "      <td>1</td>\n",
       "      <td>1</td>\n",
       "      <td>1</td>\n",
       "      <td>1</td>\n",
       "    </tr>\n",
       "    <tr>\n",
       "      <th>REG_POST_FL</th>\n",
       "      <td>1</td>\n",
       "      <td>1</td>\n",
       "      <td>1</td>\n",
       "      <td>0</td>\n",
       "      <td>1</td>\n",
       "    </tr>\n",
       "    <tr>\n",
       "      <th>REG_FACT_POST_FL</th>\n",
       "      <td>1</td>\n",
       "      <td>1</td>\n",
       "      <td>1</td>\n",
       "      <td>0</td>\n",
       "      <td>1</td>\n",
       "    </tr>\n",
       "    <tr>\n",
       "      <th>REG_FACT_POST_TP_FL</th>\n",
       "      <td>1</td>\n",
       "      <td>0</td>\n",
       "      <td>1</td>\n",
       "      <td>1</td>\n",
       "      <td>0</td>\n",
       "    </tr>\n",
       "    <tr>\n",
       "      <th>FL_PRESENCE_FL</th>\n",
       "      <td>0</td>\n",
       "      <td>0</td>\n",
       "      <td>0</td>\n",
       "      <td>1</td>\n",
       "      <td>0</td>\n",
       "    </tr>\n",
       "    <tr>\n",
       "      <th>OWN_AUTO</th>\n",
       "      <td>0</td>\n",
       "      <td>0</td>\n",
       "      <td>0</td>\n",
       "      <td>0</td>\n",
       "      <td>0</td>\n",
       "    </tr>\n",
       "    <tr>\n",
       "      <th>AUTO_RUS_FL</th>\n",
       "      <td>0</td>\n",
       "      <td>0</td>\n",
       "      <td>0</td>\n",
       "      <td>0</td>\n",
       "      <td>0</td>\n",
       "    </tr>\n",
       "    <tr>\n",
       "      <th>HS_PRESENCE_FL</th>\n",
       "      <td>0</td>\n",
       "      <td>0</td>\n",
       "      <td>1</td>\n",
       "      <td>0</td>\n",
       "      <td>1</td>\n",
       "    </tr>\n",
       "    <tr>\n",
       "      <th>COT_PRESENCE_FL</th>\n",
       "      <td>0</td>\n",
       "      <td>0</td>\n",
       "      <td>0</td>\n",
       "      <td>0</td>\n",
       "      <td>0</td>\n",
       "    </tr>\n",
       "    <tr>\n",
       "      <th>GAR_PRESENCE_FL</th>\n",
       "      <td>0</td>\n",
       "      <td>0</td>\n",
       "      <td>0</td>\n",
       "      <td>0</td>\n",
       "      <td>0</td>\n",
       "    </tr>\n",
       "    <tr>\n",
       "      <th>LAND_PRESENCE_FL</th>\n",
       "      <td>0</td>\n",
       "      <td>0</td>\n",
       "      <td>0</td>\n",
       "      <td>0</td>\n",
       "      <td>0</td>\n",
       "    </tr>\n",
       "    <tr>\n",
       "      <th>CREDIT</th>\n",
       "      <td>8000</td>\n",
       "      <td>21650</td>\n",
       "      <td>33126</td>\n",
       "      <td>8491,82</td>\n",
       "      <td>21990</td>\n",
       "    </tr>\n",
       "    <tr>\n",
       "      <th>TERM</th>\n",
       "      <td>6</td>\n",
       "      <td>6</td>\n",
       "      <td>12</td>\n",
       "      <td>6</td>\n",
       "      <td>12</td>\n",
       "    </tr>\n",
       "    <tr>\n",
       "      <th>FST_PAYMENT</th>\n",
       "      <td>8650</td>\n",
       "      <td>4000</td>\n",
       "      <td>4000</td>\n",
       "      <td>5000</td>\n",
       "      <td>4000</td>\n",
       "    </tr>\n",
       "    <tr>\n",
       "      <th>DL_DOCUMENT_FL</th>\n",
       "      <td>0</td>\n",
       "      <td>0</td>\n",
       "      <td>0</td>\n",
       "      <td>0</td>\n",
       "      <td>0</td>\n",
       "    </tr>\n",
       "    <tr>\n",
       "      <th>GPF_DOCUMENT_FL</th>\n",
       "      <td>1</td>\n",
       "      <td>1</td>\n",
       "      <td>1</td>\n",
       "      <td>0</td>\n",
       "      <td>1</td>\n",
       "    </tr>\n",
       "    <tr>\n",
       "      <th>FACT_LIVING_TERM</th>\n",
       "      <td>220</td>\n",
       "      <td>137</td>\n",
       "      <td>251</td>\n",
       "      <td>36</td>\n",
       "      <td>83</td>\n",
       "    </tr>\n",
       "    <tr>\n",
       "      <th>WORK_TIME</th>\n",
       "      <td>18</td>\n",
       "      <td>97</td>\n",
       "      <td>84</td>\n",
       "      <td>168</td>\n",
       "      <td>101</td>\n",
       "    </tr>\n",
       "    <tr>\n",
       "      <th>FACT_PHONE_FL</th>\n",
       "      <td>0</td>\n",
       "      <td>1</td>\n",
       "      <td>0</td>\n",
       "      <td>1</td>\n",
       "      <td>1</td>\n",
       "    </tr>\n",
       "    <tr>\n",
       "      <th>REG_PHONE_FL</th>\n",
       "      <td>0</td>\n",
       "      <td>0</td>\n",
       "      <td>0</td>\n",
       "      <td>1</td>\n",
       "      <td>0</td>\n",
       "    </tr>\n",
       "    <tr>\n",
       "      <th>GEN_PHONE_FL</th>\n",
       "      <td>1</td>\n",
       "      <td>1</td>\n",
       "      <td>1</td>\n",
       "      <td>1</td>\n",
       "      <td>1</td>\n",
       "    </tr>\n",
       "    <tr>\n",
       "      <th>LOAN_NUM_TOTAL</th>\n",
       "      <td>1</td>\n",
       "      <td>1</td>\n",
       "      <td>2</td>\n",
       "      <td>1</td>\n",
       "      <td>2</td>\n",
       "    </tr>\n",
       "    <tr>\n",
       "      <th>LOAN_NUM_CLOSED</th>\n",
       "      <td>1</td>\n",
       "      <td>1</td>\n",
       "      <td>1</td>\n",
       "      <td>1</td>\n",
       "      <td>1</td>\n",
       "    </tr>\n",
       "    <tr>\n",
       "      <th>LOAN_NUM_PAYM</th>\n",
       "      <td>6</td>\n",
       "      <td>6</td>\n",
       "      <td>11</td>\n",
       "      <td>6</td>\n",
       "      <td>16</td>\n",
       "    </tr>\n",
       "    <tr>\n",
       "      <th>LOAN_DLQ_NUM</th>\n",
       "      <td>2</td>\n",
       "      <td>1</td>\n",
       "      <td>0</td>\n",
       "      <td>3</td>\n",
       "      <td>2</td>\n",
       "    </tr>\n",
       "    <tr>\n",
       "      <th>LOAN_MAX_DLQ</th>\n",
       "      <td>1</td>\n",
       "      <td>1</td>\n",
       "      <td>0</td>\n",
       "      <td>1</td>\n",
       "      <td>1</td>\n",
       "    </tr>\n",
       "    <tr>\n",
       "      <th>LOAN_AVG_DLQ_AMT</th>\n",
       "      <td>1580</td>\n",
       "      <td>4020</td>\n",
       "      <td>0</td>\n",
       "      <td>1589,92333333333</td>\n",
       "      <td>1152,15</td>\n",
       "    </tr>\n",
       "    <tr>\n",
       "      <th>LOAN_MAX_DLQ_AMT</th>\n",
       "      <td>1580</td>\n",
       "      <td>4020</td>\n",
       "      <td>0</td>\n",
       "      <td>1590</td>\n",
       "      <td>2230</td>\n",
       "    </tr>\n",
       "    <tr>\n",
       "      <th>PREVIOUS_CARD_NUM_UTILIZED</th>\n",
       "      <td>NaN</td>\n",
       "      <td>NaN</td>\n",
       "      <td>NaN</td>\n",
       "      <td>NaN</td>\n",
       "      <td>NaN</td>\n",
       "    </tr>\n",
       "  </tbody>\n",
       "</table>\n",
       "</div>"
      ],
      "text/plain": [
       "                                                      0  \\\n",
       "AGREEMENT_RK                                   59910150   \n",
       "TARGET                                                0   \n",
       "AGE                                                  49   \n",
       "SOCSTATUS_WORK_FL                                     1   \n",
       "SOCSTATUS_PENS_FL                                     0   \n",
       "GENDER                                                1   \n",
       "CHILD_TOTAL                                           2   \n",
       "DEPENDANTS                                            1   \n",
       "EDUCATION                           Среднее специальное   \n",
       "MARITAL_STATUS                           Состою в браке   \n",
       "GEN_INDUSTRY                                   Торговля   \n",
       "GEN_TITLE                                       Рабочий   \n",
       "ORG_TP_STATE                           Частная компания   \n",
       "ORG_TP_FCAPITAL                             Без участия   \n",
       "JOB_DIR                     Вспомогательный техперсонал   \n",
       "FAMILY_INCOME                    от 10000 до 20000 руб.   \n",
       "PERSONAL_INCOME                                    5000   \n",
       "REG_ADDRESS_PROVINCE               Оренбургская область   \n",
       "FACT_ADDRESS_PROVINCE              Оренбургская область   \n",
       "POSTAL_ADDRESS_PROVINCE            Оренбургская область   \n",
       "TP_PROVINCE                        Оренбургская область   \n",
       "REGION_NM                                    ПОВОЛЖСКИЙ   \n",
       "REG_FACT_FL                                           1   \n",
       "FACT_POST_FL                                          1   \n",
       "REG_POST_FL                                           1   \n",
       "REG_FACT_POST_FL                                      1   \n",
       "REG_FACT_POST_TP_FL                                   1   \n",
       "FL_PRESENCE_FL                                        0   \n",
       "OWN_AUTO                                              0   \n",
       "AUTO_RUS_FL                                           0   \n",
       "HS_PRESENCE_FL                                        0   \n",
       "COT_PRESENCE_FL                                       0   \n",
       "GAR_PRESENCE_FL                                       0   \n",
       "LAND_PRESENCE_FL                                      0   \n",
       "CREDIT                                             8000   \n",
       "TERM                                                  6   \n",
       "FST_PAYMENT                                        8650   \n",
       "DL_DOCUMENT_FL                                        0   \n",
       "GPF_DOCUMENT_FL                                       1   \n",
       "FACT_LIVING_TERM                                    220   \n",
       "WORK_TIME                                            18   \n",
       "FACT_PHONE_FL                                         0   \n",
       "REG_PHONE_FL                                          0   \n",
       "GEN_PHONE_FL                                          1   \n",
       "LOAN_NUM_TOTAL                                        1   \n",
       "LOAN_NUM_CLOSED                                       1   \n",
       "LOAN_NUM_PAYM                                         6   \n",
       "LOAN_DLQ_NUM                                          2   \n",
       "LOAN_MAX_DLQ                                          1   \n",
       "LOAN_AVG_DLQ_AMT                                   1580   \n",
       "LOAN_MAX_DLQ_AMT                                   1580   \n",
       "PREVIOUS_CARD_NUM_UTILIZED                          NaN   \n",
       "\n",
       "                                                         1  \\\n",
       "AGREEMENT_RK                                      59910230   \n",
       "TARGET                                                   0   \n",
       "AGE                                                     32   \n",
       "SOCSTATUS_WORK_FL                                        1   \n",
       "SOCSTATUS_PENS_FL                                        0   \n",
       "GENDER                                                   1   \n",
       "CHILD_TOTAL                                              3   \n",
       "DEPENDANTS                                               3   \n",
       "EDUCATION                                          Среднее   \n",
       "MARITAL_STATUS                              Состою в браке   \n",
       "GEN_INDUSTRY                                      Торговля   \n",
       "GEN_TITLE                                          Рабочий   \n",
       "ORG_TP_STATE                Индивидуальный предприниматель   \n",
       "ORG_TP_FCAPITAL                                Без участия   \n",
       "JOB_DIR                      Участие в основ. деятельности   \n",
       "FAMILY_INCOME                       от 10000 до 20000 руб.   \n",
       "PERSONAL_INCOME                                      12000   \n",
       "REG_ADDRESS_PROVINCE                    Кабардино-Балкария   \n",
       "FACT_ADDRESS_PROVINCE                   Кабардино-Балкария   \n",
       "POSTAL_ADDRESS_PROVINCE                 Кабардино-Балкария   \n",
       "TP_PROVINCE                            Ставропольский край   \n",
       "REGION_NM                                            ЮЖНЫЙ   \n",
       "REG_FACT_FL                                              1   \n",
       "FACT_POST_FL                                             1   \n",
       "REG_POST_FL                                              1   \n",
       "REG_FACT_POST_FL                                         1   \n",
       "REG_FACT_POST_TP_FL                                      0   \n",
       "FL_PRESENCE_FL                                           0   \n",
       "OWN_AUTO                                                 0   \n",
       "AUTO_RUS_FL                                              0   \n",
       "HS_PRESENCE_FL                                           0   \n",
       "COT_PRESENCE_FL                                          0   \n",
       "GAR_PRESENCE_FL                                          0   \n",
       "LAND_PRESENCE_FL                                         0   \n",
       "CREDIT                                               21650   \n",
       "TERM                                                     6   \n",
       "FST_PAYMENT                                           4000   \n",
       "DL_DOCUMENT_FL                                           0   \n",
       "GPF_DOCUMENT_FL                                          1   \n",
       "FACT_LIVING_TERM                                       137   \n",
       "WORK_TIME                                               97   \n",
       "FACT_PHONE_FL                                            1   \n",
       "REG_PHONE_FL                                             0   \n",
       "GEN_PHONE_FL                                             1   \n",
       "LOAN_NUM_TOTAL                                           1   \n",
       "LOAN_NUM_CLOSED                                          1   \n",
       "LOAN_NUM_PAYM                                            6   \n",
       "LOAN_DLQ_NUM                                             1   \n",
       "LOAN_MAX_DLQ                                             1   \n",
       "LOAN_AVG_DLQ_AMT                                      4020   \n",
       "LOAN_MAX_DLQ_AMT                                      4020   \n",
       "PREVIOUS_CARD_NUM_UTILIZED                             NaN   \n",
       "\n",
       "                                                        2  \\\n",
       "AGREEMENT_RK                                     59910525   \n",
       "TARGET                                                  0   \n",
       "AGE                                                    52   \n",
       "SOCSTATUS_WORK_FL                                       1   \n",
       "SOCSTATUS_PENS_FL                                       0   \n",
       "GENDER                                                  1   \n",
       "CHILD_TOTAL                                             4   \n",
       "DEPENDANTS                                              0   \n",
       "EDUCATION                                Неполное среднее   \n",
       "MARITAL_STATUS                             Состою в браке   \n",
       "GEN_INDUSTRY                    Информационные технологии   \n",
       "GEN_TITLE                                      Специалист   \n",
       "ORG_TP_STATE                 Государственная комп./учреж.   \n",
       "ORG_TP_FCAPITAL                               Без участия   \n",
       "JOB_DIR                     Участие в основ. деятельности   \n",
       "FAMILY_INCOME                      от 10000 до 20000 руб.   \n",
       "PERSONAL_INCOME                                      9000   \n",
       "REG_ADDRESS_PROVINCE                    Иркутская область   \n",
       "FACT_ADDRESS_PROVINCE                   Иркутская область   \n",
       "POSTAL_ADDRESS_PROVINCE                 Иркутская область   \n",
       "TP_PROVINCE                             Иркутская область   \n",
       "REGION_NM                              ВОСТОЧНО-СИБИРСКИЙ   \n",
       "REG_FACT_FL                                             1   \n",
       "FACT_POST_FL                                            1   \n",
       "REG_POST_FL                                             1   \n",
       "REG_FACT_POST_FL                                        1   \n",
       "REG_FACT_POST_TP_FL                                     1   \n",
       "FL_PRESENCE_FL                                          0   \n",
       "OWN_AUTO                                                0   \n",
       "AUTO_RUS_FL                                             0   \n",
       "HS_PRESENCE_FL                                          1   \n",
       "COT_PRESENCE_FL                                         0   \n",
       "GAR_PRESENCE_FL                                         0   \n",
       "LAND_PRESENCE_FL                                        0   \n",
       "CREDIT                                              33126   \n",
       "TERM                                                   12   \n",
       "FST_PAYMENT                                          4000   \n",
       "DL_DOCUMENT_FL                                          0   \n",
       "GPF_DOCUMENT_FL                                         1   \n",
       "FACT_LIVING_TERM                                      251   \n",
       "WORK_TIME                                              84   \n",
       "FACT_PHONE_FL                                           0   \n",
       "REG_PHONE_FL                                            0   \n",
       "GEN_PHONE_FL                                            1   \n",
       "LOAN_NUM_TOTAL                                          2   \n",
       "LOAN_NUM_CLOSED                                         1   \n",
       "LOAN_NUM_PAYM                                          11   \n",
       "LOAN_DLQ_NUM                                            0   \n",
       "LOAN_MAX_DLQ                                            0   \n",
       "LOAN_AVG_DLQ_AMT                                        0   \n",
       "LOAN_MAX_DLQ_AMT                                        0   \n",
       "PREVIOUS_CARD_NUM_UTILIZED                            NaN   \n",
       "\n",
       "                                                        3  \\\n",
       "AGREEMENT_RK                                     59910803   \n",
       "TARGET                                                  0   \n",
       "AGE                                                    39   \n",
       "SOCSTATUS_WORK_FL                                       1   \n",
       "SOCSTATUS_PENS_FL                                       0   \n",
       "GENDER                                                  1   \n",
       "CHILD_TOTAL                                             1   \n",
       "DEPENDANTS                                              1   \n",
       "EDUCATION                                          Высшее   \n",
       "MARITAL_STATUS                             Состою в браке   \n",
       "GEN_INDUSTRY                                  Образование   \n",
       "GEN_TITLE                     Руководитель среднего звена   \n",
       "ORG_TP_STATE                 Государственная комп./учреж.   \n",
       "ORG_TP_FCAPITAL                               Без участия   \n",
       "JOB_DIR                     Участие в основ. деятельности   \n",
       "FAMILY_INCOME                      от 20000 до 50000 руб.   \n",
       "PERSONAL_INCOME                                     25000   \n",
       "REG_ADDRESS_PROVINCE                   Ростовская область   \n",
       "FACT_ADDRESS_PROVINCE                  Ростовская область   \n",
       "POSTAL_ADDRESS_PROVINCE                Ростовская область   \n",
       "TP_PROVINCE                            Ростовская область   \n",
       "REGION_NM                                           ЮЖНЫЙ   \n",
       "REG_FACT_FL                                             0   \n",
       "FACT_POST_FL                                            1   \n",
       "REG_POST_FL                                             0   \n",
       "REG_FACT_POST_FL                                        0   \n",
       "REG_FACT_POST_TP_FL                                     1   \n",
       "FL_PRESENCE_FL                                          1   \n",
       "OWN_AUTO                                                0   \n",
       "AUTO_RUS_FL                                             0   \n",
       "HS_PRESENCE_FL                                          0   \n",
       "COT_PRESENCE_FL                                         0   \n",
       "GAR_PRESENCE_FL                                         0   \n",
       "LAND_PRESENCE_FL                                        0   \n",
       "CREDIT                                            8491,82   \n",
       "TERM                                                    6   \n",
       "FST_PAYMENT                                          5000   \n",
       "DL_DOCUMENT_FL                                          0   \n",
       "GPF_DOCUMENT_FL                                         0   \n",
       "FACT_LIVING_TERM                                       36   \n",
       "WORK_TIME                                             168   \n",
       "FACT_PHONE_FL                                           1   \n",
       "REG_PHONE_FL                                            1   \n",
       "GEN_PHONE_FL                                            1   \n",
       "LOAN_NUM_TOTAL                                          1   \n",
       "LOAN_NUM_CLOSED                                         1   \n",
       "LOAN_NUM_PAYM                                           6   \n",
       "LOAN_DLQ_NUM                                            3   \n",
       "LOAN_MAX_DLQ                                            1   \n",
       "LOAN_AVG_DLQ_AMT                         1589,92333333333   \n",
       "LOAN_MAX_DLQ_AMT                                     1590   \n",
       "PREVIOUS_CARD_NUM_UTILIZED                            NaN   \n",
       "\n",
       "                                                        4  \n",
       "AGREEMENT_RK                                     59911781  \n",
       "TARGET                                                  0  \n",
       "AGE                                                    30  \n",
       "SOCSTATUS_WORK_FL                                       1  \n",
       "SOCSTATUS_PENS_FL                                       0  \n",
       "GENDER                                                  0  \n",
       "CHILD_TOTAL                                             0  \n",
       "DEPENDANTS                                              0  \n",
       "EDUCATION                                         Среднее  \n",
       "MARITAL_STATUS                             Состою в браке  \n",
       "GEN_INDUSTRY                       Государственная служба  \n",
       "GEN_TITLE                                      Специалист  \n",
       "ORG_TP_STATE                 Государственная комп./учреж.  \n",
       "ORG_TP_FCAPITAL                               Без участия  \n",
       "JOB_DIR                     Участие в основ. деятельности  \n",
       "FAMILY_INCOME                      от 10000 до 20000 руб.  \n",
       "PERSONAL_INCOME                                     12000  \n",
       "REG_ADDRESS_PROVINCE                   Кабардино-Балкария  \n",
       "FACT_ADDRESS_PROVINCE                  Кабардино-Балкария  \n",
       "POSTAL_ADDRESS_PROVINCE                Кабардино-Балкария  \n",
       "TP_PROVINCE                           Ставропольский край  \n",
       "REGION_NM                                           ЮЖНЫЙ  \n",
       "REG_FACT_FL                                             1  \n",
       "FACT_POST_FL                                            1  \n",
       "REG_POST_FL                                             1  \n",
       "REG_FACT_POST_FL                                        1  \n",
       "REG_FACT_POST_TP_FL                                     0  \n",
       "FL_PRESENCE_FL                                          0  \n",
       "OWN_AUTO                                                0  \n",
       "AUTO_RUS_FL                                             0  \n",
       "HS_PRESENCE_FL                                          1  \n",
       "COT_PRESENCE_FL                                         0  \n",
       "GAR_PRESENCE_FL                                         0  \n",
       "LAND_PRESENCE_FL                                        0  \n",
       "CREDIT                                              21990  \n",
       "TERM                                                   12  \n",
       "FST_PAYMENT                                          4000  \n",
       "DL_DOCUMENT_FL                                          0  \n",
       "GPF_DOCUMENT_FL                                         1  \n",
       "FACT_LIVING_TERM                                       83  \n",
       "WORK_TIME                                             101  \n",
       "FACT_PHONE_FL                                           1  \n",
       "REG_PHONE_FL                                            0  \n",
       "GEN_PHONE_FL                                            1  \n",
       "LOAN_NUM_TOTAL                                          2  \n",
       "LOAN_NUM_CLOSED                                         1  \n",
       "LOAN_NUM_PAYM                                          16  \n",
       "LOAN_DLQ_NUM                                            2  \n",
       "LOAN_MAX_DLQ                                            1  \n",
       "LOAN_AVG_DLQ_AMT                                  1152,15  \n",
       "LOAN_MAX_DLQ_AMT                                     2230  \n",
       "PREVIOUS_CARD_NUM_UTILIZED                            NaN  "
      ]
     },
     "execution_count": 9,
     "metadata": {},
     "output_type": "execute_result"
    }
   ],
   "source": [
    "df_train.head().T"
   ]
  },
  {
   "cell_type": "markdown",
   "metadata": {},
   "source": [
    "## Объединим две выборки\n",
    "\n",
    "Так как пока мы пока не умеем работать sklearn  Pipeline, то для того, чтобы после предобработки столбцы в двух выборках находились на своих местах.\n",
    "\n",
    "Для того, чтобы в дальнейшем отделить их введем новый столбец \"sample\""
   ]
  },
  {
   "cell_type": "code",
   "execution_count": 10,
   "metadata": {},
   "outputs": [],
   "source": [
    "df_train.loc[:, 'sample'] = 'train'\n",
    "df_test.loc[:, 'sample'] = 'test'"
   ]
  },
  {
   "cell_type": "code",
   "execution_count": 11,
   "metadata": {},
   "outputs": [],
   "source": [
    "df = df_test.append(df_train).reset_index(drop=True)"
   ]
  },
  {
   "cell_type": "code",
   "execution_count": 12,
   "metadata": {},
   "outputs": [
    {
     "data": {
      "text/plain": [
       "(30133, 53)"
      ]
     },
     "execution_count": 12,
     "metadata": {},
     "output_type": "execute_result"
    }
   ],
   "source": [
    "df.shape"
   ]
  },
  {
   "cell_type": "markdown",
   "metadata": {},
   "source": [
    "### Чуть-чуть посмотрим на данные"
   ]
  },
  {
   "cell_type": "markdown",
   "metadata": {
    "collapsed": true
   },
   "source": [
    "Посмотрим типы данных и их заполняемость"
   ]
  },
  {
   "cell_type": "code",
   "execution_count": 13,
   "metadata": {
    "scrolled": false
   },
   "outputs": [
    {
     "name": "stdout",
     "output_type": "stream",
     "text": [
      "<class 'pandas.core.frame.DataFrame'>\n",
      "RangeIndex: 30133 entries, 0 to 30132\n",
      "Data columns (total 53 columns):\n",
      "AGREEMENT_RK                  30133 non-null int64\n",
      "TARGET                        30133 non-null int64\n",
      "AGE                           30133 non-null int64\n",
      "SOCSTATUS_WORK_FL             30133 non-null int64\n",
      "SOCSTATUS_PENS_FL             30133 non-null int64\n",
      "GENDER                        30133 non-null int64\n",
      "CHILD_TOTAL                   30133 non-null int64\n",
      "DEPENDANTS                    30133 non-null int64\n",
      "EDUCATION                     30133 non-null object\n",
      "MARITAL_STATUS                30133 non-null object\n",
      "GEN_INDUSTRY                  27420 non-null object\n",
      "GEN_TITLE                     27420 non-null object\n",
      "ORG_TP_STATE                  27420 non-null object\n",
      "ORG_TP_FCAPITAL               27425 non-null object\n",
      "JOB_DIR                       27420 non-null object\n",
      "FAMILY_INCOME                 30133 non-null object\n",
      "PERSONAL_INCOME               30133 non-null object\n",
      "REG_ADDRESS_PROVINCE          30133 non-null object\n",
      "FACT_ADDRESS_PROVINCE         30133 non-null object\n",
      "POSTAL_ADDRESS_PROVINCE       30133 non-null object\n",
      "TP_PROVINCE                   29543 non-null object\n",
      "REGION_NM                     30131 non-null object\n",
      "REG_FACT_FL                   30133 non-null int64\n",
      "FACT_POST_FL                  30133 non-null int64\n",
      "REG_POST_FL                   30133 non-null int64\n",
      "REG_FACT_POST_FL              30133 non-null int64\n",
      "REG_FACT_POST_TP_FL           30133 non-null int64\n",
      "FL_PRESENCE_FL                30133 non-null int64\n",
      "OWN_AUTO                      30133 non-null int64\n",
      "AUTO_RUS_FL                   30133 non-null int64\n",
      "HS_PRESENCE_FL                30133 non-null int64\n",
      "COT_PRESENCE_FL               30133 non-null int64\n",
      "GAR_PRESENCE_FL               30133 non-null int64\n",
      "LAND_PRESENCE_FL              30133 non-null int64\n",
      "CREDIT                        30133 non-null object\n",
      "TERM                          30133 non-null int64\n",
      "FST_PAYMENT                   30133 non-null object\n",
      "DL_DOCUMENT_FL                30133 non-null int64\n",
      "GPF_DOCUMENT_FL               30133 non-null int64\n",
      "FACT_LIVING_TERM              30133 non-null int64\n",
      "WORK_TIME                     27416 non-null float64\n",
      "FACT_PHONE_FL                 30133 non-null int64\n",
      "REG_PHONE_FL                  30133 non-null int64\n",
      "GEN_PHONE_FL                  30133 non-null int64\n",
      "LOAN_NUM_TOTAL                30133 non-null int64\n",
      "LOAN_NUM_CLOSED               30133 non-null int64\n",
      "LOAN_NUM_PAYM                 30133 non-null int64\n",
      "LOAN_DLQ_NUM                  30133 non-null int64\n",
      "LOAN_MAX_DLQ                  30133 non-null int64\n",
      "LOAN_AVG_DLQ_AMT              30133 non-null object\n",
      "LOAN_MAX_DLQ_AMT              30133 non-null object\n",
      "PREVIOUS_CARD_NUM_UTILIZED    600 non-null float64\n",
      "sample                        30133 non-null object\n",
      "dtypes: float64(2), int64(32), object(19)\n",
      "memory usage: 12.2+ MB\n"
     ]
    }
   ],
   "source": [
    "df.info()"
   ]
  },
  {
   "cell_type": "markdown",
   "metadata": {
    "collapsed": true
   },
   "source": [
    "Видим, что часть данных - object, скорее всего стоки.\n",
    "\n",
    "\n",
    "Давайте выведем эти значения для каждого столбца"
   ]
  },
  {
   "cell_type": "code",
   "execution_count": 14,
   "metadata": {},
   "outputs": [
    {
     "name": "stdout",
     "output_type": "stream",
     "text": [
      "==========\n",
      "EDUCATION\n",
      "{'Среднее специальное', 'Два и более высших образования', 'Высшее', 'Ученая степень', 'Неполное среднее', 'Неоконченное высшее', 'Среднее'}\n",
      "\n",
      "\n",
      "==========\n",
      "MARITAL_STATUS\n",
      "{'Вдовец/Вдова', 'Разведен(а)', 'Гражданский брак', 'Состою в браке', 'Не состоял в браке'}\n",
      "\n",
      "\n",
      "==========\n",
      "GEN_INDUSTRY\n",
      "{'Государственная служба', nan, 'Строительство', 'Ресторанный бизнес/Общественное питание', 'Сборочные производства', 'Транспорт', 'Маркетинг', 'Энергетика', 'Банк/Финансы', 'Сельское хозяйство', 'Информационные услуги', 'Металлургия/Промышленность/Машиностроение', 'ЧОП/Детективная д-ть', 'Недвижимость', 'Салоны красоты и здоровья', 'Юридические услуги/нотариальные услуги', 'Информационные технологии', 'Другие сферы', 'Нефтегазовая промышленность', 'Химия/Парфюмерия/Фармацевтика', 'Подбор персонала', 'Логистика', 'Туризм', 'Управляющая компания', 'Здравоохранение', 'Образование', 'Коммунальное хоз-во/Дорожные службы', 'СМИ/Реклама/PR-агенства', 'Страхование', 'Наука', 'Торговля', 'Развлечения/Искусство'}\n",
      "\n",
      "\n",
      "==========\n",
      "GEN_TITLE\n",
      "{'Индивидуальный предприниматель', nan, 'Руководитель низшего звена', 'Другое', 'Рабочий', 'Военнослужащий по контракту', 'Служащий', 'Руководитель среднего звена', 'Руководитель высшего звена', 'Высококвалифиц. специалист', 'Партнер', 'Специалист', 'Работник сферы услуг'}\n",
      "\n",
      "\n",
      "==========\n",
      "ORG_TP_STATE\n",
      "{'Индивидуальный предприниматель', nan, 'Государственная комп./учреж.', 'Частная ком. с инос. капиталом', 'Некоммерческая организация', 'Частная компания'}\n",
      "\n",
      "\n",
      "==========\n",
      "ORG_TP_FCAPITAL\n",
      "{nan, 'Без участия', 'С участием'}\n",
      "\n",
      "\n",
      "==========\n",
      "JOB_DIR\n",
      "{nan, 'Служба безопасности', 'Участие в основ. деятельности', 'Адм-хоз. и трансп. службы', 'Кадровая служба и секретариат', 'Бухгалтерия, финансы, планир.', 'Юридическая служба', 'Пр-техн. обесп. и телеком.', 'Реклама и маркетинг', 'Снабжение и сбыт', 'Вспомогательный техперсонал'}\n",
      "\n",
      "\n",
      "==========\n",
      "FAMILY_INCOME\n",
      "{'от 5000 до 10000 руб.', 'до 5000 руб.', 'от 10000 до 20000 руб.', 'от 20000 до 50000 руб.', 'свыше 50000 руб.'}\n",
      "\n",
      "\n",
      "==========\n",
      "PERSONAL_INCOME\n",
      "{'12000', '17500', '9400', '13800', '17000', '10000', '22000', '9700', '10800', '150000', '4515', '12300', '13000', '25000', '4800', '9300', '8700', '6100', '20500', '10900', '100000', '18500', '32000', '17900', '16100', '6180', '16050', '18200', '7250', '56000', '92000', '22500', '26000', '15380', '15000', '8000', '6200', '8350', '23800', '9800', '22955', '14300', '67700', '24800', '3500', '13200', '51000', '38000', '1950', '17700', '16500', '10500', '13500', '14000', '7800', '14800', '50000', '11300', '5088', '54000', '44000', '16200', '7300', '19300', '33000', '13400', '6608', '5050', '13160', '28000', '2300', '7500', '24', '2100', '40000', '27000', '24500', '8726', '12800', '5100', '7700', '46000', '7650', '9330', '5230', '7220', '29000', '7850', '7900', '16000', '8600', '7400', '5600', '5200', '24000', '7640', '5300', '27300', '48000', '9100', '17200', '6359', '2000', '15500', '11000', '42000', '5500', '11500', '13300', '15400', '16900', '6400', '9628', '110000', '34000', '4200', '11700', '12650', '15200', '9500', '3400', '7000', '6600', '3100', '7550', '10600', '6000', '7830', '21800', '5460', '8300', '250000', '10400', '12400', '21500', '53000', '10300', '18000', '8400', '49000', '5680', '36000', '80000', '18600', '3300', '13900', '6700', '7050', '5339', '55000', '15300', '6900', '160000', '4400', '20000', '5360', '8500', '7200', '13150', '3900', '23000', '13700', '60000', '14358', '25800', '12900', '19500', '32640', '5350', '23500', '8100', '5400', '10200', '11900', '23100', '43000', '12100', '39000', '75000', '4900', '11640', '4340', '42500', '26500', '220000', '29800', '4330', '14500', '8200', '3200', '35000', '11600', '11800', '4590', '9240', '170000', '2800', '19700', '13450', '6800', '15560', '5425', '10700', '9900', '15600', '41000', '17600', '6500', '7600', '9200', '5900', '4700', '70000', '8800', '11200', '47000', '5800', '77000', '29500', '7100', '3600', '16700', '7101', '5700', '52000', '12600', '9340', '45000', '67000', '17800', '19000', '5446', '8900', '4360', '3700', '13600', '20646,16', '3000', '65000', '5790', '41900', '4300', '31000', '4000', '9600', '7251', '10100', '30000', '68000', '4600', '14700', '11400', '4500', '4950', '12700', '28300', '3800', '6299,19', '5582', '17404', '8250', '19800', '5000', '12500', '21000', '6300', '18700', '8066', '19600', '4100', '9000', '16800', '6670', '37000'}\n",
      "\n",
      "\n",
      "==========\n",
      "REG_ADDRESS_PROVINCE\n",
      "{'Тульская область', 'Челябинская область', 'Приморский край', 'Калужская область', 'Оренбургская область', 'Адыгея', 'Кировская область', 'Усть-Ордынский Бурятский АО', 'Орловская область', 'Читинская область', 'Рязанская область', 'Удмуртия', 'Северная Осетия', 'Костромская область', 'Еврейская АО', 'Магаданская область', 'Смоленская область', 'Владимирская область', 'Татарстан', 'Тверская область', 'Ростовская область', 'Курганская область', 'Тамбовская область', 'Московская область', 'Марийская республика', 'Новосибирская область', 'Томская область', 'Камчатская область', 'Курская область', 'Белгородская область', 'Нижегородская область', 'Омская область', 'Кемеровская область', 'Архангельская область', 'Пермская область', 'Ивановская область', 'Астраханская область', 'Чувашия', 'Хабаровский край', 'Краснодарский край', 'Эвенкийский АО', 'Свердловская область', 'Псковская область', 'Ямало-Ненецкий АО', 'Тюменская область', 'Карелия', 'Москва', 'Мурманская область', 'Саратовская область', 'Ставропольский край', 'Якутия', 'Ульяновская область', 'Самарская область', 'Липецкая область', 'Коми', 'Калмыкия', 'Бурятия', 'Новгородская область', 'Вологодская область', 'Санкт-Петербург', 'Ханты-Мансийский АО', 'Калининградская область', 'Воронежская область', 'Дагестан', 'Красноярский край', 'Ярославская область', 'Мордовская республика', 'Брянская область', 'Волгоградская область', 'Агинский Бурятский АО', 'Алтайский край', 'Пензенская область', 'Сахалинская область', 'Горный Алтай', 'Карачаево-Черкесия', 'Хакасия', 'Кабардино-Балкария', 'Амурская область', 'Иркутская область', 'Башкирия', 'Ленинградская область'}\n",
      "\n",
      "\n",
      "==========\n",
      "FACT_ADDRESS_PROVINCE\n",
      "{'Тульская область', 'Челябинская область', 'Приморский край', 'Калужская область', 'Оренбургская область', 'Адыгея', 'Кировская область', 'Усть-Ордынский Бурятский АО', 'Орловская область', 'Читинская область', 'Рязанская область', 'Удмуртия', 'Северная Осетия', 'Костромская область', 'Еврейская АО', 'Магаданская область', 'Смоленская область', 'Владимирская область', 'Татарстан', 'Тверская область', 'Ростовская область', 'Московская область', 'Тамбовская область', 'Курганская область', 'Марийская республика', 'Новосибирская область', 'Томская область', 'Камчатская область', 'Курская область', 'Белгородская область', 'Нижегородская область', 'Омская область', 'Кемеровская область', 'Чувашия', 'Пермская область', 'Ивановская область', 'Астраханская область', 'Архангельская область', 'Хабаровский край', 'Краснодарский край', 'Эвенкийский АО', 'Свердловская область', 'Псковская область', 'Ямало-Ненецкий АО', 'Тюменская область', 'Карелия', 'Москва', 'Мурманская область', 'Саратовская область', 'Ставропольский край', 'Якутия', 'Ульяновская область', 'Самарская область', 'Липецкая область', 'Коми', 'Калмыкия', 'Бурятия', 'Новгородская область', 'Вологодская область', 'Санкт-Петербург', 'Ханты-Мансийский АО', 'Калининградская область', 'Воронежская область', 'Дагестан', 'Красноярский край', 'Ярославская область', 'Мордовская республика', 'Брянская область', 'Волгоградская область', 'Агинский Бурятский АО', 'Алтайский край', 'Пензенская область', 'Сахалинская область', 'Горный Алтай', 'Карачаево-Черкесия', 'Хакасия', 'Кабардино-Балкария', 'Амурская область', 'Иркутская область', 'Башкирия', 'Ленинградская область'}\n",
      "\n",
      "\n",
      "==========\n",
      "POSTAL_ADDRESS_PROVINCE\n",
      "{'Тульская область', 'Челябинская область', 'Приморский край', 'Калужская область', 'Оренбургская область', 'Адыгея', 'Кировская область', 'Усть-Ордынский Бурятский АО', 'Орловская область', 'Читинская область', 'Рязанская область', 'Удмуртия', 'Северная Осетия', 'Костромская область', 'Еврейская АО', 'Магаданская область', 'Смоленская область', 'Владимирская область', 'Татарстан', 'Тверская область', 'Ростовская область', 'Московская область', 'Тамбовская область', 'Курганская область', 'Марийская республика', 'Новосибирская область', 'Томская область', 'Камчатская область', 'Курская область', 'Белгородская область', 'Нижегородская область', 'Омская область', 'Кемеровская область', 'Чувашия', 'Пермская область', 'Ивановская область', 'Астраханская область', 'Архангельская область', 'Хабаровский край', 'Краснодарский край', 'Эвенкийский АО', 'Свердловская область', 'Псковская область', 'Ямало-Ненецкий АО', 'Тюменская область', 'Карелия', 'Москва', 'Мурманская область', 'Саратовская область', 'Ставропольский край', 'Якутия', 'Ульяновская область', 'Самарская область', 'Липецкая область', 'Коми', 'Калмыкия', 'Бурятия', 'Новгородская область', 'Вологодская область', 'Санкт-Петербург', 'Ханты-Мансийский АО', 'Калининградская область', 'Воронежская область', 'Красноярский край', 'Ярославская область', 'Мордовская республика', 'Брянская область', 'Волгоградская область', 'Агинский Бурятский АО', 'Алтайский край', 'Пензенская область', 'Сахалинская область', 'Горный Алтай', 'Карачаево-Черкесия', 'Хакасия', 'Кабардино-Балкария', 'Амурская область', 'Иркутская область', 'Башкирия', 'Ленинградская область'}\n",
      "\n",
      "\n",
      "==========\n",
      "TP_PROVINCE\n",
      "{nan, 'Тульская область', 'Челябинская область', 'Приморский край', 'Калужская область', 'Оренбургская область', 'Адыгея', 'Кировская область', 'Орловская область', 'Читинская область', 'Рязанская область', 'Удмуртия', 'Костромская область', 'Еврейская АО', 'Магаданская область', 'Смоленская область', 'Владимирская область', 'Татарстан', 'Тверская область', 'Ростовская область', 'Курганская область', 'Тамбовская область', 'Марийская республика', 'Кабардино-Балкария', 'Новосибирская область', 'Томская область', 'Камчатская область', 'Курская область', 'Белгородская область', 'Нижегородская область', 'Омская область', 'Кемеровская область', 'Чувашия', 'Пермская область', 'Ивановская область', 'Астраханская область', 'Архангельская область', 'Хабаровский край', 'Краснодарский край', 'Свердловская область', 'Псковская область', 'Тюменская область', 'Карелия', 'Москва', 'Ставропольский край', 'Мурманская область', 'Саратовская область', 'Якутия', 'Ульяновская область', 'Самарская область', 'Липецкая область', 'Бурятия', 'Новгородская область', 'Вологодская область', 'Санкт-Петербург', 'Ханты-Мансийский АО', 'Калининградская область', 'Воронежская область', 'Красноярский край', 'Ярославская область', 'Мордовская республика', 'Брянская область', 'Волгоградская область', 'Алтайский край', 'Пензенская область', 'Сахалинская область', 'Горный Алтай', 'Коми', 'Амурская область', 'Иркутская область', 'Башкирия'}\n",
      "\n",
      "\n",
      "==========\n",
      "REGION_NM\n",
      "{nan, 'ЮЖНЫЙ', 'ПОВОЛЖСКИЙ', 'ВОСТОЧНО-СИБИРСКИЙ', 'ПРИВОЛЖСКИЙ', 'ЦЕНТРАЛЬНЫЙ ОФИС', 'ДАЛЬНЕВОСТОЧНЫЙ', 'СЕВЕРО-ЗАПАДНЫЙ', 'ЦЕНТРАЛЬНЫЙ 1', 'ЦЕНТРАЛЬНЫЙ 2', 'УРАЛЬСКИЙ', 'ЗАПАДНО-СИБИРСКИЙ'}\n",
      "\n",
      "\n",
      "==========\n",
      "CREDIT\n",
      "{'14910', '6839', '17599', '13499', '14651', '10185', '4369', '4250', '54738', '21479', '13356', '5390', '5060', '56000', '11698', '6021', '23659', '37150', '30999', '14849', '12640', '5799,2', '9282', '7394', '87600', '20658,2', '4276', '7047', '17778', '4208', '6170', '46695', '27360', '14646', '10158', '24239', '11576', '19560', '24711', '23297', '20179,3', '62000', '24000', '6330', '28955', '9100', '20753', '9610', '25068,94', '11690', '4610', '9690', '17091,9', '14781', '18693', '19720', '17561,8', '22962', '38406', '49500', '22860', '24281', '45863', '5535', '15186', '6967', '10938', '9664,5', '14758', '4630', '11190', '35332', '3541', '12210', '32990', '32508,2', '5189', '16540', '2619', '11524,79', '3731', '14609', '14090', '41000', '25898', '18080', '25167', '9774', '21665', '8396', '9053', '4244', '32650', '26034', '25625', '7787', '4596', '29206', '18491', '21381,12', '17050', '16105', '4570', '44700', '12953', '3555', '22497', '9823', '22750', '17500', '34740', '10105', '69282', '7790', '11416', '15470', '18497', '25990', '40490,91', '15067', '8290', '26000', '25570', '10290', '26395', '52930', '19797,1', '31833', '17097', '7430', '3308', '14513', '17279,2', '27020', '12908', '3110', '29294', '21506', '47691', '15010', '13390', '5517', '11148', '28417', '6893', '20343', '32670,79', '32940', '15099', '21578', '16781', '5607', '8879', '28241', '21440', '6125', '22662', '8076', '39638', '16900', '8268', '4020', '6835', '40080', '11441', '34000', '7380', '19324', '8499', '7863', '5510', '9949', '27096', '11049', '5859', '10191', '4319', '4077', '13900', '25440', '8289', '22214,69', '22390', '6585', '25540', '12508,2', '7516', '4475', '6105', '19079', '65629,5', '2090', '25508', '18910', '21865', '11565', '5757,1', '8698', '7667', '44900', '14160', '13399', '5085', '9050', '89200', '18096', '30738', '6622', '18624', '34020', '17272', '4074', '2599', '12639', '9577,8', '3700', '24344', '9080', '6136,58', '28755', '16194', '8244', '8536', '15240', '10424,6', '8869', '60080', '19800', '18198', '2555', '5340', '3876', '9019', '37790', '35598', '16605', '8725', '25290', '23094', '8078', '86041', '2224,8', '30951', '4890', '64660', '18547', '16519,02', '42740', '7107', '7250', '5636', '19040', '63271', '11394', '31491', '7690', '6348', '26346', '4387', '32850', '12390', '18580', '16879', '6892', '10500', '16240', '14840', '21464', '12506', '12762', '13670', '16834', '56340', '7030', '4978', '13460', '18270', '11150', '24864', '4150', '9412', '3750', '15927', '29622', '8669', '8950', '30520', '12393', '75500', '10836', '16977', '19286', '5544', '17981,9', '6918,34', '15512', '8117', '7448', '20536,1', '15350', '8530', '3660', '18190', '26695,8', '2104', '7407', '10925', '28460', '18602', '8480', '12454', '8955', '29380', '13332', '6273', '4842', '4850', '42746', '17380', '16070,5', '11490', '15575', '29997,24', '21840', '12304', '15875', '3509', '25400', '8490,92', '10580', '2412', '3109', '6138', '19187', '15442', '5389', '23121', '12360', '5665', '12989', '89196', '17815', '6469', '3051', '26355', '21250', '6643', '7486,1', '13360', '9457', '12284', '19184', '3909', '13030', '12597', '11529', '4125', '10339', '31910', '16899', '4492', '5936', '6590', '4575', '7848', '7559', '21480', '8389', '29677', '7795', '11817', '9622,77', '13728', '24450', '30697', '8055', '46729', '4450', '41100', '18150', '4746', '8619', '19945,35', '93890', '13880', '26339', '3490', '17422', '11620', '5849', '16450,71', '6191', '3538', '25812,5', '9117', '7586', '3420', '2797', '9595', '39690', '8210', '3222', '36350', '5366', '31646', '22803', '21083', '25145,79', '4095', '11450', '9837', '24750', '22800', '11500', '21726', '13770', '21728', '23050', '17970', '28162', '25020', '11477', '7000', '9820', '17045', '12330', '25991', '32914,31', '5005', '18068', '12646', '11289', '6997', '2610', '9498', '4994', '17483', '17575', '17875', '14189', '16833', '39254', '11842', '31800', '13150', '29384', '9169', '20140', '4403', '11776', '28431', '6027', '11949', '17140', '4730', '60500', '4299', '6420', '10660', '7201', '3690,92', '11800', '81743,87', '7980', '2569', '14990,95', '16370', '14991', '61915', '16284', '2135,14', '24003', '12509,9', '2007', '10697', '32114', '11646', '4652', '32292', '30615', '6033', '7968', '9592', '18984', '35992', '3800', '5097', '9461,5', '13590', '5000', '11070', '44697', '9825', '21128', '3424', '2930', '6023,7', '7847', '12265', '25263', '9390', '11280', '22200', '8292', '15629', '19930', '2151', '3159', '11665', '6545', '21850,94', '16448', '19880', '7224', '5155', '10708', '13570', '4135', '5723', '22955', '6101', '13566', '14047', '76360', '18398', '4140,2', '8825', '6120', '23170', '9130', '51685', '3883', '7703,1', '6662', '5721', '9450', '3779', '5456', '11300', '21195', '36800', '28402', '10352', '16440', '35326', '15616', '24179', '5940', '9702', '28350', '78550', '6440', '11488', '17324', '24667', '5860', '17572,68', '23575', '20900', '29663', '23410', '62550', '18180', '28242', '7550', '9420', '31596,92', '34140', '7830', '37710', '16002', '19897,1', '11871', '49798,1', '14209', '6919', '6390', '6295', '14978', '10767', '10884', '5222', '5560', '23720', '7988', '38850', '14168', '13665', '14658', '25641', '7478,2', '19615', '11635', '7373', '38880', '35943', '31580', '10690', '3860', '5487', '23397', '19769', '17600', '11063', '17250', '27744', '11586', '9298', '7637,63', '5960', '52000', '22400', '7556', '17800', '7410', '20871', '21927', '27347', '6377', '28039', '6299,2', '10890', '4769', '17952', '11798', '53162', '30224', '56899', '3599', '16175', '3220', '29200', '37531', '23304,6', '29942', '6758', '15790', '4607', '3070', '5639', '17020', '11692', '5408', '14083', '6537', '5299', '18350', '2290,7', '12972', '12845', '7975', '11691', '51570', '90747,9', '9180', '6672', '28990,91', '4941', '17873,75', '25887', '21204', '14494', '7867', '17851', '10874', '10089', '16547,3', '4315', '23737', '7281,94', '2048', '37016', '5610', '16200', '3537', '25225', '14845', '7492', '28050', '19781', '25137', '42436', '4479', '28900', '11050', '12195', '13635', '19589', '4896', '7999', '21654', '18603', '31610', '21190', '27714', '17631', '21989', '7651', '23980', '12451', '23351', '23950', '4804', '10536', '23399,2', '9061', '27796', '7560', '15269', '4188', '3117', '12170', '25829,1', '12100', '9809', '4018', '12038', '21877', '3480', '10714', '5496', '11322', '7750', '12835', '2243,7', '27012', '22645', '28224', '20826', '28273', '15859', '5160', '35201', '5306', '3740', '26790', '23690,91', '17320', '15780', '32846', '16598', '79679', '3280', '11308', '32348', '10100', '25313', '20750', '4500', '7190', '10381,5', '20294', '4520', '6397', '11571', '27124', '27895', '6966', '5197', '28728', '4262', '15128', '35767,4', '16950', '7885', '4673', '16875', '11778', '15033', '7558', '11350', '12896', '19540', '7954', '11677', '3711', '7597', '15696', '16160', '13591', '7497', '18689', '11748,2', '12566', '15247', '12309', '10354', '19145', '5797', '16020', '16290', '5977', '21827', '15856', '6499', '27905', '4345', '40000', '13978', '17885', '25317', '9347', '25168', '4252', '82910', '11730', '14860', '8918', '8754', '35610', '21919', '15299', '80973', '20660', '25340', '6678', '12310,91', '25140', '18286', '4248', '3886', '29471', '8038', '10550', '6700', '7523', '4674', '17756', '11687', '10040', '19860', '10260', '52469,87', '11510', '3474', '9621', '24889', '17520', '15003', '17622', '9550,82', '11551', '12695', '25599', '9009', '31672', '15503', '10837', '6498', '16030', '22850', '17190', '7420', '12899', '31587', '13409', '17270', '32975,3', '6893,7', '7600', '18197', '22085', '7386,75', '11385', '19457', '4576,5', '7610', '4743', '10575', '6246', '15336', '13325', '5936,81', '35960', '8440', '8355', '18463', '12219', '2559', '22830', '2590', '16820', '18692', '23890', '22600', '19797', '3616', '4302', '12300', '3311', '14999', '11589', '4910', '46600', '63776', '17448', '8299', '8849', '4169', '19315', '33340', '4878', '13230', '18632', '4642', '9917', '18414', '7035', '28640', '10225', '3294', '15045', '14938', '9212', '12713', '21809', '27854', '27580', '31696', '4750', '30340', '37881', '27228', '21810', '8098', '59009', '16736', '12690', '22495', '10930,52', '19464', '5500', '3950', '2635', '10075', '15280', '7011', '12474', '10630', '6610', '23411', '19133', '14044', '3670', '6411,72', '6323,33', '12980', '30299', '16460', '28308', '6865', '6058,1', '10248,2', '22460', '6596', '6245', '3900', '20910', '8432', '8320', '19269', '7604', '15647', '17247', '14493', '7910', '18696', '40084', '8790', '11615,4', '5715', '13494', '6665', '28933', '19700', '3996,9', '8984', '11466', '5984', '3575', '19547', '3827', '5076', '2699', '20790', '14140', '7982', '8148', '8595', '20296', '25936', '32415', '4240', '10584', '33475', '28490', '14522', '15084', '4284', '9000', '23696', '6199', '3890', '58947', '6848', '15098', '31400', '3904,3', '5594', '16199,2', '18329', '19150', '2998', '6928', '38520', '12434', '12672', '5030', '12742', '5995', '39090', '25299', '6819', '62700', '15291', '5545', '4281', '20670', '78400', '24587', '18230', '8116', '16479', '5178', '23539', '5570', '6964', '19300', '18972', '19046', '7417,5', '18668', '9315', '14669', '22244', '22139', '2100', '23029', '6883', '13257', '35530', '4098', '85270', '5989', '14050', '36701', '13615', '12550', '13653', '52295', '8980', '15036', '10046', '23160', '13100', '19170', '4292', '3137', '6624', '23475', '2310', '4148', '2690', '19899', '31020', '20800', '14994', '5738', '29630', '11502', '8935', '4653', '14250', '17640', '30974', '9977', '6887', '18000', '12211', '16949', '20995', '9504', '24495', '8419', '10971', '6479', '14856', '4661', '6703', '17399,1', '13435', '23550', '24125', '3674', '16005', '32955', '13981,8', '28220', '6313', '2165,16', '29526,12', '10422', '16450', '12696', '17420', '9371', '26595', '45900', '24840', '27986', '20601', '3630', '18610', '10457', '6407,5', '15427', '27945', '21042', '24850', '13541', '28294', '17466', '20620', '12396', '40499', '9718', '16039', '16988', '28778,3', '8730', '19316', '30198', '6570', '6880', '22792', '4389', '13315', '19490', '7752', '21736,2', '26100', '15690', '10611', '2928', '12898', '21710', '7130', '3340', '18650', '4785', '42940', '7682', '4212,8', '4775', '4680', '5832', '7422', '4940', '20268', '2871', '7500', '14550', '6770', '37517', '2580', '22944', '3307', '6504', '33598', '16766', '63306', '3528', '16660', '23749,76', '28338', '34280', '11290', '23485', '14574', '7978', '5968', '13141', '21771', '24145', '3610', '7183', '11259', '5877', '3059', '90590', '9438', '10960', '15390', '5399', '27472', '14610', '10969', '4485', '2578', '22145,1', '10590', '5040', '6945', '17660', '17347', '17763', '3173', '18857', '13157', '2680', '39830', '14796', '6500', '13680', '8951', '14387', '21673', '4801', '8745', '5508', '15920', '25765', '10287', '24962', '13489', '24198,2', '23598', '81423', '28079,84', '22330', '10520', '15221', '13640', '6103', '14441', '3520', '2633', '35522', '4689', '16765', '5232,2', '11302', '11025', '3138', '6863', '19591,36', '12518,5', '4265', '23920', '13389', '11753', '5688', '10566', '15948', '19843', '16715', '17906', '35793', '15430', '21586', '3190', '33725', '18360', '5670', '13410', '13793', '4140', '18185', '17697', '3548', '4522', '3520,8', '12159', '11456', '12610', '6219', '2745', '5330', '17780', '10349', '15863', '9614', '3448,8', '8547', '13699', '7207', '14110', '6944', '34766', '17568,3', '2360', '23347', '6920', '7563', '10773', '3916', '36000', '18631', '10310', '7350', '8424', '16063', '12914', '22536', '4042', '6749', '11390', '20646', '30729', '8453', '10238', '6109', '3312', '9365', '6916', '11978', '12710', '2165,4', '5179', '10061', '26120', '18598', '16064', '14725', '21717', '23128', '6460', '8901', '48580', '16425', '81612', '35145', '13229', '4428,1', '3628', '12889', '28238', '10497', '21240', '5592', '14700', '5640', '16576,2', '24346', '19430', '14680', '14280', '20600', '8568', '12411', '4099,9', '19980', '15730', '9246', '18999,2', '5889', '24362', '24283', '13351', '5410', '24330', '16245', '4118', '39800', '15883', '2999', '2089', '11305', '24130', '8680', '9515', '26379', '2759', '8598', '6980', '11853', '7040,92', '3745', '20133', '19602', '5176,8', '18934', '14096', '7581', '8549,9', '3271,5', '7174,6', '2238', '16657', '10990', '21880', '15985', '15838', '17428', '18750', '13644', '9719', '3390', '33680', '3050', '7404', '14950', '20680', '5287', '15500', '11217', '11787', '5195', '10188', '12650', '6525', '8630', '97026', '16300', '15127,38', '4177', '9654', '5221', '4816', '3322', '9360', '22520', '8405', '22091', '12061', '19470', '15300', '4270', '16561', '27342,5', '19630', '28059,81', '16733', '39160', '7360', '11830', '10670', '17060', '19143', '18498', '21347', '4405', '31190', '6715,2', '13441', '25870', '34999', '7574', '19572,1', '8644', '7513', '6289', '5588', '19011', '9846', '5391', '9891', '3877', '3149', '21340', '15120', '4488', '4918', '3824', '30196', '5478', '5199', '4207', '16449', '3840', '15214', '22310', '13248', '3143', '6796', '35990', '16849', '13599', '13990', '6260', '14560', '7032', '39276', '18890', '34295', '26910', '22286', '18119', '25350', '32175', '25640', '83000', '10280', '22692,96', '8912', '13235', '12425', '8088', '7105', '3984', '23511', '38810', '36490', '9759', '5184', '20200', '3590', '6345', '8697', '4898', '17010', '33700', '27750', '3808', '18861', '31474', '23137', '22672', '11751', '14570', '23393', '7995', '38070', '43996', '13421', '22799', '57593', '15450', '16824', '10655', '22413', '29782', '18217', '16065', '6876', '17690', '20298', '5955', '4241', '8658', '6513', '21640', '3470', '8750', '10248', '14046', '16169', '13021', '7920', '8064', '89640', '28410', '21482', '24771', '17610', '11389,2', '6822', '4493', '24300', '33344', '4858,1', '7063', '5772', '55000', '18206', '9840', '8753', '13366,2', '9470', '9140', '28970', '13999', '17895', '17039,91', '4703', '8041', '7088', '10791', '21721,1', '15832', '16512', '5105,7', '17496', '8540', '9240', '14349', '17920', '13920', '31702', '5912', '66504', '22264', '14399', '15865,65', '23516,84', '4644', '4035,2', '21330', '5312', '35142', '13350', '17400', '4726', '12331', '13280', '22011', '8091', '19520', '16669,84', '39741', '16613', '3710', '15555', '32770', '5110', '44660', '11986', '16395', '15299,9', '5095', '7798', '11383', '20598', '9700', '33280', '30110', '6797', '16191', '25360', '18649', '9389', '21658', '7977', '15980', '3040', '7755', '10256,1', '4560', '8625', '18022', '26580', '9551', '7870', '11085', '19301', '14848', '21943', '34630', '50568', '18784', '16312', '2638', '24768', '24682', '21740', '17956', '21050', '22870', '6780', '33470', '3392', '9263', '8860', '7416', '5599', '16980', '2263', '16960', '3128,2', '10738,5', '11333', '24367', '9876', '10170', '3646', '14130', '3290', '7940', '31500', '21630', '25538', '4841', '5999', '18990,5', '21800', '31070', '15199', '16010', '29460', '26896', '9198', '8132', '59629', '28950', '19358', '10699', '8720', '14570,01', '14885', '12910', '7469', '16081', '44440', '29285', '9444', '18690', '13420', '29334', '69188', '12080', '8844', '18399', '9629', '3980', '8033', '26340', '15602', '2255,4', '9813', '32100', '12581,89', '45000', '23290', '23200', '30825', '6396', '18445', '7209', '16420', '6264', '10323', '15440', '8835', '14193', '26479', '19626', '7799', '6697', '4835', '18220', '35750', '8948', '10720', '3743', '4005', '16060', '7645', '16070', '30879,55', '9448', '2000,51', '13200', '6675', '21994', '8380', '30681', '12290,94', '18899', '6491', '11590,92', '24717', '28922', '21320', '25840', '3930', '12140', '17240', '24835', '12512', '44415', '7900', '6489', '5990', '14190', '20698', '39500', '11672', '16999', '4921', '14361', '18528', '16199', '13965', '8097', '18138', '10617', '21300', '22102', '24475', '6036', '6870', '6118', '24923', '29750', '12262', '9870', '22040', '15398', '13846', '7197', '5345', '18224', '23774', '22896', '9484', '19500', '9349', '26462', '6616', '7084', '6181', '27372', '4290', '96200', '9814', '40200', '14497', '27769', '6116', '3145', '12070', '4619', '15192', '23377', '13841', '11175', '5520', '29650', '17480', '23992', '26872', '11434', '16882', '64670', '7173', '83194', '3870', '3230', '2428,2', '11430', '19590', '17999', '31509', '13267', '15960', '3160', '46881', '9793', '5839', '3820', '19169', '5908', '9290,91', '13598', '9955', '13492', '5632', '18130', '5131', '13302', '7859', '14755', '40970', '4212', '2125', '17991', '19959', '21920', '3179', '20249', '15843', '84500', '20400', '4890,2', '9730', '17997', '29475', '3134', '4274', '3329', '4928,96', '28600', '4460', '12945', '20475', '11764', '6163', '63700', '17911', '4243', '9533', '4436', '23109', '27736', '4683', '13300', '27200', '17850', '30735', '22898', '34641', '32450', '40756', '4320', '98644', '13447', '6342', '15490', '11330', '27196,1', '25584', '18481', '18896', '23780', '96000', '29600', '32310', '10805', '5309', '19791', '11940', '14360', '6070', '4386', '16985', '20561', '39000', '4900', '9280', '13465', '32391', '23971', '16285', '14540,04', '15621', '12339', '76730', '5929,95', '8994', '10467,1', '24506', '5377', '17530', '35100', '24030', '13992', '13443', '5620', '22302', '10440', '12670', '6190,92', '9580', '28090', '8850', '11601', '6854', '18085', '7313', '20530', '16992', '5279', '5162', '9899,1', '77762', '5294', '13080', '3570', '21124', '9526', '13689,86', '12546', '13995', '6475', '7433', '88000', '27980', '8491,82', '12340', '7272', '18960', '8308,35', '2060', '6959', '9250', '24340', '9310', '37500', '13498', '29697', '3489', '4909', '27550', '15745', '16786', '7181', '5364', '85100', '8556', '5409', '17397', '12490', '21650', '6053', '23793', '20290', '9393', '9445', '18010', '3545', '9898', '12385', '17540', '5276', '7180,9', '21930', '33850', '3196', '27490', '24502', '49000', '24881', '12816', '14450', '4275', '23797', '12290', '34195', '20379,5', '18440', '6597', '18251', '21870', '18740,5', '12480', '4312', '39110', '32800', '6960', '12498', '4408', '7824', '21889,92', '22097', '12818', '36400', '10570', '5055', '9278', '4740', '17476', '27600', '21580', '25447', '16796', '30360', '27510', '10419', '4430', '12598', '19341,2', '4752', '6256,8', '6461', '2719,2', '7539', '5435', '11440', '12310', '8929', '10539', '16783', '6048', '28666', '25385', '9260', '7776', '7151', '6699', '21770', '20280', '7068', '20488', '75424', '7619', '9545', '11130', '17609', '4469', '3825', '14169,1', '4879', '6373', '12421', '9858', '10912', '12455', '11911', '59760', '12820', '3998', '17112', '5451', '16872,3', '5745', '12366', '4984', '7452,4', '9230,9', '8459', '13380,56', '28781', '2241', '9675', '55174', '20706', '3415', '6130,8', '3889', '8517', '19765', '17704', '37350', '19748', '30596', '22361', '12097', '23395', '11968', '3063', '3339', '4826', '7169', '16590', '37415', '6732', '23854', '2650', '17499', '15216,06', '6050', '17316', '26555', '2995', '4904', '15615', '8204', '24479', '4789,92', '11227', '13829', '5888', '6885', '11660,93', '7334', '18698', '5949', '6599', '29661', '11900', '21494', '5243', '3385,92', '33862', '14639', '75000', '28421', '5247', '10646,2', '20580', '23735', '4905', '3200', '8999', '3492', '21154', '19128,41', '19116', '33190', '19235', '26020', '15560', '4185', '10700', '18045', '13039', '14766', '10331', '6099', '19205', '13897', '4099', '15030', '38700', '25740', '7947', '16748,1', '15435', '8006,1', '18225', '27448', '17592', '27846', '17531', '4310', '27501', '11159', '22299', '25000', '16052', '30230', '34990', '15732', '13365', '16189,4', '48900', '23226', '4922', '16381', '4504', '6496,1', '7140', '14590', '36570', '2680,4', '30190', '6730', '18575,2', '26380', '21588', '28186', '33660', '13479', '14460', '18458', '7240,5', '19099', '9430,38', '15599', '11765', '21112', '2873', '28745', '9405', '37200', '12760', '11115', '9801', '26650', '39720', '7116', '7150', '12228', '16648', '23954', '16197', '3399', '4892', '16799,4', '9950', '14292', '25227', '5300', '9760', '8878', '5922', '13448', '23126', '5921', '20510', '4633', '5899', '7470', '20330', '10189', '12435', '7892', '3898,1', '7310', '3300', '2268', '13195', '57581', '15389', '36730', '8118', '5430', '16690', '13623', '13989,4', '28310', '26170', '8904', '15100,82', '36267', '8416', '23882', '31790', '9025', '3410', '12608', '11362', '13173', '27995', '11170', '6247,8', '13488', '5210', '12236', '24741', '31090', '12380', '11405', '24070', '9550', '9940', '10447', '3875', '8460', '14636', '9456', '21597,8', '10320', '40534', '30197', '26660,2', '7080', '31250', '5175', '21974', '50940', '18074', '13650', '13895', '17193', '26547,1', '20943', '19050', '19044', '41211', '32819', '11455', '24950', '4525', '4435', '4851,81', '20862', '25080', '9928', '25783', '12130', '5225', '4139', '17308', '13649', '3951', '17700', '9971,89', '3080', '19230', '24520', '11808', '12493', '17888', '29100', '5220', '70047', '5328', '17795', '26049', '9430', '6605', '6630', '16993', '10456', '15602,5', '16550', '23451', '12249', '2881', '9013', '11519,1', '9460', '20590', '26085', '12029', '2200', '16868', '35360', '4195', '21838', '7199', '11370', '24200', '13769,2', '29944', '26390', '8377', '14917', '3897', '17254', '13263', '19745', '4122', '11990,95', '50678', '16730', '14279', '11039', '22999', '5997', '22150', '10616,4', '20710', '18643', '8330', '22180', '3393', '31300', '24380', '5799', '2800', '10820', '10529', '19095', '17290', '12829', '22369', '10910,6', '25300', '9200', '6263', '51750', '5017,9', '5431,2', '14243', '11080', '11790', '3749', '5180', '7194,72', '5857', '7780', '21595', '12755', '3516', '6340', '10233', '40180', '28042', '12289', '6279', '6375', '94358', '12384', '17089,9', '19622', '17714', '9300', '5011', '9278,1', '13882,92', '53400', '4935', '3750,91', '8498', '13733', '23517', '18881', '2934', '6204', '22500', '7642', '15000', '13178', '21328', '23400', '4160', '18782,2', '4970', '23750', '6843', '5965', '44760', '9879', '41470', '21355', '30370', '12919', '13388', '8190', '21295', '24160', '16400', '15999', '10734', '27062', '4510', '10495', '5005,8', '43880', '16317', '15190', '12780', '16011', '75535,08', '11748', '16732', '16995', '21784', '7640', '8421', '14854', '25386', '11749', '9227', '8883', '12725', '18470', '34422', '10610', '9907,2', '10090', '24408', '3540', '21075', '22075', '29470', '5169', '20820,2', '15079,91', '13490,2', '36260', '31484,1', '7498', '11335', '14942', '5037', '12636', '23795', '18209', '17573', '6182', '77210', '4330', '23584', '6950,7', '6947', '5043', '5292', '11240', '2850', '21498', '33500', '23140', '13254', '8741', '11288', '8532', '4563', '9546', '27900', '30100', '5690', '13197', '4887', '23945', '3780', '13208', '11637', '26817', '4000', '2878', '12348', '19047', '7515', '3760', '12328', '12599,9', '34396', '12000', '3701', '9406', '26082', '4869,66', '12959', '10844', '4056', '2660', '4800', '10147', '35250', '3301', '37495,2', '5268,47', '5970', '2990,92', '23790', '4350', '19670', '6381', '49490', '4362', '3550', '51370', '13221', '9913', '14030', '5032', '6990', '7208', '8057', '9540', '22450', '4326', '6424', '20820,44', '10989', '13009', '10338', '83106', '7089', '7357', '11943', '11642,3', '25727', '9850', '28221', '31538', '12745', '6999,9', '3370', '21400', '20053', '29780', '21408', '4870', '17960', '13949', '15755', '26138', '10216', '7291,85', '41600', '21500', '3636,9', '4773', '25109', '6780,95', '12616', '7495', '22950', '5630', '5360', '6492', '3099', '17231', '35940', '18246', '32750', '34699', '19482', '21030', '15984', '39980', '17049', '12209,5', '13456,82', '3798', '33183,4', '7210', '14331', '11600', '4013', '19350', '43573', '49227', '21216', '7084,28', '26550', '12557', '19810', '17940', '4779', '6584', '4117,5', '3493', '5780', '22635', '29336,4', '14980', '19819', '24423', '36500', '17470', '29640', '10240', '14035', '6739', '22320', '19929', '15523', '31317', '17590', '23453', '86071', '58541', '41620', '26099', '30510', '16272', '17624', '84800', '28565', '10001', '28288', '7547,2', '22252', '7258', '27234', '15840', '3923', '26054', '12784', '4919', '7160', '17671,2', '23577', '35955', '12511', '10169', '27890', '9349,92', '5837', '10671', '7981', '2421', '2880', '11750', '79770', '9251', '18940', '10628', '8744', '11936', '6202', '18538', '29300', '18050', '3069,9', '8899', '4115', '18012', '7649', '23700', '13250', '22904', '18850', '27450', '64500', '20129', '13785', '32335', '8360', '5694', '23030', '7077', '3100', '25940', '3547,42', '6367', '14718', '4280', '19597', '5031', '3215', '29075', '6809', '20789', '23000', '4290,9', '4765', '14599', '6280', '13577', '22428', '10057', '21405', '14340', '8718,1', '2065,5', '14930', '5265', '5450', '6161', '17896', '15017', '27589', '23406', '13216', '4629', '47000', '84570', '9755', '7997', '28530', '21660', '36980', '15897', '27518', '27248', '11639', '20987', '25780', '28472', '15890,9', '5480', '5290', '12645', '13990,92', '13063', '2573', '22080', '12500', '23900', '27150', '27939', '5931', '25506,19', '13592', '19580', '15889', '20748', '4021', '13284', '27356', '3060', '17346', '69000', '56130', '8792', '6640', '14481', '12495', '4365', '5505', '2039', '5285', '13830', '29280', '15359', '9997', '2470', '13985', '16773', '11674', '12347', '14004', '7838', '28215', '14144', '5678', '44100', '19950', '12050', '19390', '30630', '3360', '12315', '10704', '30720', '8905', '24220', '23009', '7509', '6898', '13018,1', '6578', '16063,29', '10220', '13294', '9158', '5650', '15784', '39600', '5645', '7794', '12283', '25992', '26600', '3640', '70705,96', '21214', '8529', '9648', '12797', '23998', '22656', '4220', '5455,8', '9059,92', '7137', '21724', '5855', '16399', '25632', '17198', '20520', '3895', '30350', '11560', '11498', '3030', '5573', '5614', '22167,6', '4979', '10779', '23280', '21170', '22070', '2909', '17130', '12488,25', '10330', '19770', '14940', '13496', '17613', '19660', '34150', '22570', '9287', '7370', '27971', '11719', '23480', '7680', '12048', '3407', '4132,5', '7443', '27010', '8285', '9010', '2748', '53673', '28557', '13843', '9999', '2223', '8489', '37456', '36086', '5083', '6510', '11060', '34806', '14625', '7530', '72000', '40410', '13312', '25177', '37880', '29390', '9004', '17339', '29070', '24680', '14600', '8857', '12198', '34905', '2900', '6552', '23820', '25588', '18990', '10268', '18592', '12173', '4477', '23488', '21080', '22522', '12127', '3170', '10860', '4589', '25220', '3460', '3048', '88312', '27456', '3240', '26315', '13326,5', '10752', '18895', '22490', '5879', '24275', '16150', '11368', '18260', '4114', '11518', '23689', '10548', '11725', '15658', '24190', '8856', '87673', '8300', '17117', '20698,2', '23861', '36093', '14891,92', '8492', '17215', '31520', '20000', '26999', '13240', '18797', '30696', '24519', '5415', '6291', '27540', '5397', '7875', '9748', '6969', '9971,3', '14850', '9034', '23130', '41451', '3540,2', '25150', '21600', '37560', '17162', '7166', '22940', '20792', '21570', '13891,5', '7020', '56310', '5700', '8549', '19021', '14773', '76738', '10140', '70360', '6950', '32397', '10508', '5661', '3561', '60829', '56964,6', '7676', '21520', '11429', '19889,92', '58490', '27810', '18700', '10940', '8633,7', '16330', '39865', '10693', '12854', '15481', '14080', '15096', '23425', '18980', '11199', '5605', '16045', '22810', '21730', '6119', '13344', '6991', '6940', '16996', '16114', '3337', '20440', '6415', '16530', '6680', '23661', '13710', '13690', '8184', '23680', '5050', '13641,3', '28775', '13671', '2595', '20277', '5261', '20300', '4672', '14449', '32293', '3892,2', '7439', '20313', '20880', '6269', '7505', '16859', '24272', '6904', '15795', '28055', '28280', '24795', '33292', '5749', '7648', '3718', '10400', '11460', '40500', '13324', '79910', '34391', '25122', '15160', '6247', '9930', '3389', '25720', '4872', '82700,9', '5350', '5751', '29450', '22290', '25158', '18176', '7235', '17451', '6250', '9695', '4990', '10785', '14356', '16897', '4336,2', '14661', '11997,2', '17716', '23647', '21265', '5757', '12460', '6850', '2540', '24778', '11225', '32810', '5190', '9340', '3231', '12239', '24752', '19008', '28208', '23037', '24195', '22700', '14201', '9557,1', '10389', '15237,1', '7090', '30545', '30325', '31091', '8639', '12090', '25406', '13298', '12059,1', '5880', '3140', '12903', '19734', '27130', '6514', '10350', '16634,5', '12213', '7549,89', '27283', '5438', '24929', '3647', '60720', '3061,45', '27040', '11720', '26837', '50330', '16358', '23396', '11138', '22488', '12870', '10780', '10523', '7677', '8420', '14875', '48700', '23355', '16189', '16776', '6035', '12554', '21150', '17720', '30131', '25105,1', '56700', '10479', '11293', '15496', '18330', '9215', '17595', '17510', '6900', '3250', '18067', '15770', '11655', '4743,68', '17091', '10097', '41700', '24059', '22168', '31895,48', '28850', '17459', '18090', '36194', '12012', '10910', '5045', '6040', '10775', '8241', '12044', '32970', '19218', '27350', '14215', '12251', '4770', '15556', '8609,92', '19938', '22692', '10432', '18450,8', '4030', '9150', '16110', '22124', '11211', '11648', '4168,8', '11340', '4986,5', '17000', '26780', '14629', '3380', '4807', '24314', '16544', '34335', '3614', '4040', '35600', '16989,92', '3639', '3310', '9845', '2270', '3130', '44225', '10115', '4134,4', '9176', '14205', '18820', '6719', '22194', '7713', '12417', '9230', '23390,91', '5259', '19129', '8775', '9892', '11724', '30011', '22575', '10695,13', '28340', '10295', '21398', '7066', '17220', '50929,82', '20263', '12530', '27925', '21200', '16745', '10770', '15638', '7965', '20196', '11219', '29037,12', '18240', '5185', '11898', '17752', '10631', '18210', '26091', '23251', '29120', '5707,8', '6290', '30170', '21805', '19730', '70410', '42300', '5680', '20046', '7002', '29490', '5897', '3970', '47600', '4191', '17712', '17802', '3296', '90200', '19498', '9750', '17630', '17980', '22280', '12443', '9669', '11202,3', '26889', '17839,92', '15653', '23715', '4860', '27449', '27759', '2970', '13875', '8717', '6379', '13155', '11113', '14469', '7228,2', '5606', '65747', '5482,3', '24295', '17230', '15912', '6071', '23865', '4487,4', '26330', '3874', '31333', '29742', '28341', '28899', '12197', '23713', '17134', '47529,91', '98996', '35563', '11445', '14472', '9530', '25900', '21762', '17273', '19110', '4186', '9738', '20393', '22000', '20355', '11395', '20079', '18144', '30031', '28026', '4498', '3032', '26260', '2333', '24405,4', '17854', '19060', '19125', '21550', '21948', '20925', '9009,91', '8694', '15040', '29699', '21460', '10373', '19037,2', '27670', '23825', '3949,92', '12057', '4949', '5335', '11266', '37818', '31466', '27598', '6698,3', '8603', '3769', '31294', '14709', '22455', '9588', '27880', '16000', '12478', '24263', '93400', '6691', '12206', '27898', '3076', '20565', '15400', '3861', '13010,94', '6580', '16090', '26461', '8874', '2421,9', '48800', '22233', '7342', '2075', '14245', '17789,2', '12136', '7695', '42180', '15788', '12405', '16398', '11489', '15480', '26820', '19210', '79200', '16499', '4196', '23315', '17556', '10759', '18318', '24833', '13016', '33459', '30813', '20583', '17146', '10803,84', '8170', '11595', '11286', '16908', '4097', '7337', '29400', '13600', '21866', '7540', '35165', '5238', '7440', '6748', '12450', '12850', '98136', '23625', '15110', '17076,2', '7455', '5152', '15756', '15806,5', '33111', '5847', '8295', '35900', '28661', '7279', '46500', '30686', '3703', '2160', '18200', '9890', '13998', '3128', '11303', '20640', '13888', '21907', '30990', '10298', '29975', '19699', '28991', '39627', '7878', '37069', '17379,99', '38553', '7769', '20338', '37480', '9173,88', '10530', '20397', '32387', '7891', '43950', '19254', '26461,91', '4741', '16214', '15309', '21484', '14820', '8698,1', '14385', '13480', '20882', '12160', '10022', '28420', '18171', '8990', '29006', '16198', '17509', '23382', '11619,84', '6108', '6990,92', '23912', '20931', '13198', '6073', '41500', '16098', '21166', '21861', '21015', '21082', '17184', '3195,9', '4640', '6757', '3929', '5542', '8262', '50879,83', '16890', '28999', '3255', '7307', '10200', '23186', '3848', '10322', '46921', '33088,5', '25695', '19977', '9920', '12077', '3619', '2940', '45500', '19620', '24085', '14611', '17361,76', '12947', '10964', '7820', '54700', '26183,5', '22329,67', '7872', '11651', '22263', '8198', '28861', '17549', '2299', '20645', '16390', '10048', '13490', '3510', '4300', '20636,91', '3375', '50950', '18669,2', '4869', '15150', '11910', '24740', '6682', '10231', '38830', '8430', '4885', '12999', '24552', '27816', '7182', '13921,52', '23391', '7580', '31680', '35991', '24570', '3185', '20802', '20505', '13872', '3654', '24600', '32706', '19820', '5211', '17900', '18515,03', '14390,92', '6692', '6360', '20050', '13122', '20430', '8610', '30820', '5424', '6481,8', '5143', '4470', '14960', '17528', '16760', '7679', '12651', '13850', '13580', '28810', '7611', '11795', '8381', '6145', '4390', '5144', '27645', '18290', '8675', '12833', '13887,68', '35825', '32076', '18338', '8406', '11700', '10134', '10151', '7909', '6598', '12591', '61000', '6130', '20989', '6544', '15810', '41837', '9031', '23498', '2072,7', '26819', '26510', '5910', '19083', '11315', '71400', '2855', '7189', '28684', '3789', '4480', '7340', '3430', '31885', '2907', '4962', '23783', '9989', '5064', '13678', '25999', '12790', '8220', '9276', '5355', '24777', '10528,3', '12580', '21290', '5950', '29500', '19925', '16635', '20252', '8228', '5427', '6873', '20874', '5078', '8099', '8398', '15580', '71600', '6562', '61600', '5384', '4175', '2620', '8250', '47704', '29478', '7498,9', '7999,1', '12099,1', '14480', '30599', '10740,64', '5398', '20350', '6503', '10194', '19542', '24980', '4936', '35640', '7128', '24550', '13720', '10540', '31221', '6507', '26543', '21598', '5448', '2070', '30200', '18734', '28842', '12424', '6785', '18999', '25200', '5228', '10374', '5298,1', '31450', '17790', '17199', '62100', '38718', '4497', '9264,69', '32540', '7220', '14355', '14207,1', '2844', '7441', '7720', '2248', '25639', '28700', '20990', '7115', '22621', '15121', '16865', '15880', '21187', '3400', '35950', '3786', '4939', '23040', '11980', '8638', '8400', '2730', '11796', '67950', '24480', '2979', '13679', '13815', '7796', '8906', '21350', '13905', '24210', '20086', '4060', '20609', '15078', '18250', '11499', '13952,73', '30361', '43376', '35000', '6347', '24280', '24721', '12720', '29094', '25420', '7541', '23185', '20903,5', '22509', '29980', '14229', '37437,66', '12750', '8829', '18170', '8373', '3031', '12906', '37466', '30420', '8858,8', '15468', '13232,88', '18789', '4542', '14438', '14177', '7454', '4072', '18962', '21901', '8715', '5129', '22760', '16785', '50400', '5794', '7493', '21473', '10900', '6365', '21123', '6903', '29443', '12830', '2158', '10394', '42320', '26280', '12060', '49100', '4980', '22356', '10340', '63320', '4867', '30946,29', '4581,87', '31990,6', '24990', '4458', '19991', '42928', '29700', '13302,83', '11799', '16141', '25980', '3659,5', '4628', '10920', '18667', '22530', '27340', '2500', '26370', '13392', '3990,92', '5370', '15027', '6282', '15800', '28247', '19220', '13948,2', '9985', '23850', '7858', '21420', '10999', '7660,42', '19502', '6060', '23399', '31694', '8199', '6747', '12948', '4200', '7990', '11996', '5531,8', '13260', '23579', '21760', '3238', '14637', '13265', '25315', '13387', '6712', '9956', '7869,61', '8978', '10656', '8500', '35500', '7180', '16260', '41210', '74482', '5170', '5103', '40050', '4701,6', '7998', '24233', '5568', '78390', '86900', '16840', '22349', '22482', '3180', '7655', '5239', '12325', '26397', '32090', '23389', '13698', '17765', '7083,05', '3305', '9923', '5699', '10555', '27962', '4790', '15990', '8800', '27790', '22105', '11363,99', '12803,4', '21845', '16428', '48920', '16080', '61832', '7249', '7970', '31040', '23940', '21646', '5870', '16789,98', '26022', '2879', '7240', '8080', '3376,8', '24630', '9826', '17006', '4999', '23784', '8550', '8386', '3699', '8127', '5347', '3799', '7763', '22588', '32370', '13326', '16220', '21470', '8995', '3768', '10640', '21895', '13179', '17541', '4738', '3490,92', '7876', '12559', '8068', '13288', '10995', '29880', '9241', '25749', '18468', '8690', '3960', '8543', '24690', '3314', '9670', '20305', '24772', '7290', '10250', '7191', '42669', '9350', '19924', '5742', '6982', '22848', '2457', '15279', '7919', '4968', '15370', '9042', '24370', '3010', '25732,2', '59590', '36308', '20856', '11048', '13989', '5735,7', '11977', '11399', '26920', '8889', '7060', '8340', '15748', '19177', '8185', '14065', '15165', '33678,2', '18880', '58900', '32500', '16099', '13792', '19610', '17988', '15403,02', '12598,1', '10113', '6301', '24059,83', '4454', '11892', '16920', '10463', '32576,5', '2430', '23450', '17649', '14338', '29948', '14770', '20100', '20587', '20477', '7711', '18855', '13890', '10410', '25260', '28845', '19976', '10413', '15822', '35400', '4908', '10439', '29615', '6329', '4648', '6995', '11247', '30300', '19760', '55500', '30673', '3320', '27599', '34200', '16265', '41170', '25081,98', '6255,15', '25960', '14644', '56673', '37508', '3299', '14456', '38120', '31490', '7460', '10990,94', '25937', '5135', '4508', '27166', '11480', '5296', '7039', '10071', '10085,9', '19600', '23990', '30656', '13438,3', '25240', '17099', '11855', '11927', '14620', '14660', '26990', '11470', '5405', '8240', '29234', '13386', '16650', '43200', '28890', '14383', '22410', '5988', '92000', '29052', '15380', '17043', '9866', '14900', '5297', '14290', '9990,91', '45297', '13780,82', '15806', '4761', '21218', '6454,8', '29694', '16190', '12472', '3762', '11270', '10737', '14993', '52200', '8441', '15760', '67500', '11212', '10990,91', '47309', '29990', '8833', '28060', '38300', '22560', '3547', '9749', '18020', '7459', '5080', '22987', '29875', '32844', '7638', '20562,2', '2120', '8544', '3141', '2366', '4080', '18390', '30925', '72885,57', '29690', '20751', '12702', '17379', '11685', '4768', '6004', '20225', '20242', '4440', '19106', '5754', '4951', '6517', '24490', '11999', '26740', '10668', '7317', '11750,31', '9296', '8233,95', '27493', '6800', '13190', '17425', '3894,2', '27820', '8762', '6793', '14052', '16507', '23944', '11317', '6338', '28041', '15850', '14948', '4888', '30471', '13539,2', '25830', '5490', '7629', '5611', '4950', '38625', '8735', '22160', '22598,1', '15705', '15340', '8606', '11583', '11126', '9480', '32481,83', '17360', '17460', '5835', '20540', '19120', '16670', '6393', '5207', '15552', '2450', '22674', '7770', '3770', '37450', '8311,29', '7797,6', '22959', '11860', '15354', '4930', '5088', '23352', '4228', '18720', '4938', '14365', '14528', '35670', '13290', '10730', '27000', '18105', '12250', '6430', '16455', '16350', '33400', '5230', '4915', '7618', '3418,5', '13934', '7735', '11151', '46800', '9120', '20653', '28170', '26560', '16045,2', '6400', '5825', '7895', '22230', '13366', '4788', '4533', '2975', '3103,2', '4428', '8977', '14148', '7812', '9560', '4590,2', '70500', '80000', '45820', '15127,4', '34618', '24897', '20324,92', '11995', '6210', '94720', '16438', '22275', '20209', '31060', '2119', '16704', '13098', '8169,55', '9835', '10262,2', '24458', '3717', '16489,9', '15704', '5077', '4982,4', '3989', '9789', '15680', '17251', '32900', '22528', '6090', '24810', '17538', '30220', '32041', '75581', '21097', '25271', '9342', '26700', '7349', '12631', '6993', '3752,9', '5770', '13495', '29220', '26232', '8361', '15524', '6652', '8770', '25179', '7187', '6776', '24035,5', '10659', '6490,5', '91168', '20179', '14530', '10648', '5824', '11450,9', '3730', '6650', '6658', '9219', '74319', '14330', '3650', '5357', '15034', '28210', '24110', '2219', '50970', '27680', '5193', '5231', '9045', '61487', '17450', '9496', '26590', '21746', '16128', '6039', '9237', '2961', '3239', '15725', '39900', '3720', '8902', '20190', '4314', '14295', '8666', '10347', '15290', '24465', '6165', '8890', '14750', '2282', '29599', '9144', '29388', '5100', '3095', '26950', '3269', '17453', '8399', '5200', '9986', '17388', '69500', '18380', '4491', '4891', '14618', '48572', '33990', '3542', '4399', '24983', '12232', '26818', '5745,12', '10398', '2490', '21648', '17890', '5930', '28722', '5850', '8393', '14598', '31404', '7490', '18240,91', '3930,81', '5778', '2088', '27005', '13941', '27170', '3752', '17430', '3790', '4781', '12749', '21280', '9570', '20700', '21780', '8470', '6007', '7147', '16870', '6820', '12884', '17090', '18400', '7698', '3882', '24103', '42335', '24131', '14880', '3072', '26886', '14288', '88300', '7262', '21890', '21062', '15102', '4339', '10804', '7017', '12110', '9153', '42930', '9573', '6354', '34555', '2180', '4242', '7609,5', '19805', '10585', '19240', '14020', '21380', '9167', '5198', '14081', '23792', '14659,2', '17950', '7247', '24640', '7687', '17100', '9397', '23930', '27381', '13980', '14800', '16185', '28715', '8445', '17770', '5871', '28000', '7022,7', '3885', '9594', '23490', '20630', '17501', '11295', '8487', '7713,42', '4495', '12848', '19289', '12904', '79959', '34120', '4534', '19224', '15998', '10025', '6086', '25760', '16850', '18460', '15899', '19920', '16145', '20390', '6998', '17082', '18121', '13078', '4690', '8788', '17432', '21490', '35060', '13910', '29612', '6056', '8846', '4837', '11195', '6840', '11810', '5773', '14257,91', '20850', '10750', '6941', '79380', '25280', '13630', '3792,92', '12575', '25713', '6575', '21390', '22789', '18615', '9467', '18027', '29382', '11223', '3850,85', '10124', '41994', '11539', '16367', '19799', '4998', '8341', '8120', '38200', '5800', '2380', '33800', '6889', '6168', '26174', '19522', '5963', '14571', '6205', '41171', '27877', '12342', '4375', '41397', '23124', '6297', '17670', '4413', '11558', '9395', '22498', '78000', '7908,1', '17280', '4189', '3680', '12166', '2350', '19877', '21704', '3894', '3114', '8991', '18670', '19260', '4760', '45160', '16280', '37640,77', '16418', '35787', '11690,91', '7289', '31990', '18790', '23800', '24949,09', '29001', '5174', '22195', '11727', '9800', '7788', '11899', '8128', '9620', '4392', '30826', '32765', '34190', '10114', '3682', '4704', '10021,5', '9889', '3898', '9576', '17424', '19719', '27850', '10019', '8230', '21950', '13180', '16498', '26329', '13275', '6452', '4372,2', '10870', '24650', '91536', '18891', '24389', '13087', '13889', '10795', '19751', '6220', '11876', '12680', '13567', '41730', '99308', '3798,9', '16470', '35450', '5720', '20317', '9980', '28070', '27620', '10789', '16621', '16501', '9798', '32617', '5827', '7480', '21881', '17558', '10525,01', '18949', '26970,6', '18280', '36900', '10435', '30603', '23220', '6559', '59224', '32980', '17633', '11670', '5436', '15147', '6740', '4590', '31850', '10359', '15685', '33300', '77000', '6089', '22977', '10423', '21279', '26276', '11680', '26300', '33255', '7285', '10618', '4727', '11926', '24580', '13959', '20648', '16880', '19689', '4047', '11428', '20490', '21086', '10420', '7991', '6834', '119700', '4920', '6069', '21105', '6115', '52561', '4398', '16100', '12318', '29691', '13140', '16662', '7471', '7353', '14185', '12843', '8780', '12597,3', '14107', '3413', '15727', '11804', '27800', '3535', '15065', '29040', '16691', '2936', '17995', '25500', '29933,4', '19999', '4930,95', '15220', '9899', '23358', '6787,8', '6350', '23830', '9839', '19296', '27080', '72890', '30800', '3501', '7170', '10987', '45952', '11391', '19290', '9768', '13669', '30627', '36290', '7019', '31810', '13318', '21847', '5818,5', '12960', '10904', '9341,5', '21670', '5890', '4400', '2689', '14866', '8140', '3090', '2390', '10506,76', '28230', '7749', '18175', '4729,72', '7366', '16838', '22140', '7335', '4572', '4675', '16979', '14400', '5337', '5488', '17173', '8090', '6270', '21220', '14678', '24399', '10917', '3411', '7395', '19840', '7296', '35097,66', '14410', '22212', '14495,35', '10210', '8025', '6429', '5208', '3046', '7132', '57209', '6609', '7362', '11167', '16490', '8998', '11580', '19360', '7715', '37000', '16112', '19886', '4952', '6197', '5432', '3919', '10855', '61250', '6721', '4021,92', '14690', '21505', '16519', '12428,7', '43631', '10174', '3359', '26365,6', '12570', '22747,4', '2751', '15360', '26770', '2599,2', '2691,9', '18566', '17998,2', '54000', '19993,4', '23060', '9217', '14089', '16180', '19736', '10466', '11710', '22236', '17340', '4131', '12995', '8360,92', '15036,21', '6925', '26871', '19521', '26410', '9529', '4064', '17075', '17248', '30940', '26547,3', '15367', '7888', '3222,9', '39020', '18040', '6831', '3879', '22498,2', '6651', '6000', '6860', '2095', '32400', '5577', '26400', '16048', '16596', '3448', '20088', '4031', '4366', '3276', '15750', '10190', '27541', '13278', '3419', '28930', '3396', '8102', '28172', '24328', '19417', '3515', '16649', '32444', '17688', '7369', '20939', '3771', '8581', '3405', '13321', '8171', '3920', '6875', '10430', '8652', '15940', '40313', '5320', '12465', '21696', '7315', '23268', '33830', '9924', '16940', '5380', '16320', '4767', '17080', '4360', '15482', '9107', '24301', '9235', '20464', '11400', '12700', '7478', '2792', '29065', '26055', '13020', '33330', '9525', '14595', '20500', '7880', '13170', '5689', '8260', '18304', '14150', '6529', '9290', '18425', '11243', '26529', '12560,01', '12280', '14588', '27886', '24199', '28820', '11697,1', '6166', '7204', '31014', '11850', '8641', '20160', '6625', '6380', '24500', '19489,91', '46000', '5687', '4110', '13193', '10879', '14204', '9090', '13734', '44879', '13469', '56518', '22394', '15314', '8515,7', '10163', '2910', '13165', '22864', '17367', '15975', '7236', '7198', '37400', '11323', '10978', '16893', '8917', '6399', '4810', '10300', '11718,94', '3350', '11020', '20779', '8763', '22927', '19665', '5736,6', '22951', '11345', '23437', '4580,92', '3549', '7857', '16392', '5090', '49860', '74700', '15272', '2798', '35770', '7578', '23148', '11970', '10024', '15914', '6129', '11650', '22221', '5023', '20205', '15230', '25515', '2570', '18060', '4452,91', '28551', '74650', '3940', '4546', '25950', '17811', '13382', '9367', '36136', '4777', '26930', '6939', '19513', '19795', '16883', '15327', '21940', '22427', '8456', '14430', '4150,95', '34390', '9994', '43010', '31255', '13440', '11514', '5820', '22338,94', '13383', '10265', '22395', '15640', '2950', '29376', '9429', '17860', '34900', '18590', '14219', '5015', '26690', '26800', '10088', '46960', '33821', '20770', '83871', '21690', '5120', '25574', '76300', '3928', '32828', '37656', '5282', '23552', '7400', '4257', '6370', '33760', '43732,8', '14040', '32490', '12991,82', '20433', '21238', '14197', '9902', '7815', '84630', '31817,2', '11897', '10431', '18578', '11297', '26710', '10970', '15035', '6600', '50652,94', '4843', '12095', '8960', '28116', '29789,91', '25298', '14489,2', '23070,6', '2819', '20550', '89344', '3187', '31460', '21410', '18898', '29950', '24599', '12290,9', '7908', '14965', '71500', '17702', '45665', '15315', '19627', '5540', '15740', '17040', '4880', '5760', '42135', '7299', '25785', '25330', '5242,3', '62468', '26060', '8011', '7860', '4889', '25454', '13090', '25904', '25881', '6783', '19404', '13922', '10445', '33570', '16848', '10605', '22960', '13336', '8398,1', '19278', '6272', '24933', '8685', '10665', '22947', '8010', '11755', '7459,6', '4130', '21021,9', '14094', '12734', '7229', '6470', '7507', '8604', '87570', '5676', '9927', '15910', '26999,2', '39025', '26337,6', '26440', '3941', '10525', '29760', '29386', '11769', '6200', '8350', '6726,1', '40037', '4291', '40521', '17399,2', '4967', '19608', '23390', '40900', '4650', '11279', '93947', '3168', '41490', '22617', '4809', '23230', '4620', '37305', '15639', '6567', '8940', '9534', '5708', '4735', '65250', '9097', '94300', '30597', '26080', '26199', '8564', '7280', '12944', '37800', '26499', '21980', '2152', '10116', '3722', '31263', '11930', '3553', '13139', '19570', '15540', '28469', '3663', '13191', '7144', '25301', '22756', '17106', '29830', '9769', '18840', '7123', '7709', '29295', '45280', '4455', '8037', '2860', '15245', '3717,9', '8648,5', '9647', '29198', '2495', '14520', '11938', '8648', '3899', '9655', '9398', '4401', '19375', '21180', '12708', '63000', '9520', '12120', '18450', '23600', '5119', '22599', '11260', '7745', '9729', '2700', '15246', '28879', '14396', '4600', '13289', '19503', '17567', '22384', '6830', '25587', '6449', '4500,95', '14487', '5019', '11768', '6192', '43682', '14446,3', '30390', '14406', '8429', '20169', '9128', '21960', '21120', '4079', '3152', '27686,2', '12572', '19998', '6319', '10769', '21900', '26489', '4758', '4923', '6494', '23300', '23677', '17826', '5712', '51000', '11116', '19839', '39388', '17545', '10635', '9988', '42689', '5346', '19497', '7729', '7425', '14470', '32499', '3591', '25490', '13300,91', '16975', '22198,1', '5600', '8886', '21850', '30430', '20833', '97220', '7488', '13926', '5472', '14443', '12799', '23147', '22419', '19567', '13355', '14780', '12490,9', '12019', '23331', '4290,95', '60000', '3990', '4852', '34990,8', '9497', '22990', '4754', '3880', '15466', '3943', '18648', '22480', '6948', '15895', '8322,77', '7590,31', '20220', '17170', '9468', '13120', '5333', '10980', '21100', '19439', '15250', '24120', '29580', '21915', '27470', '14100', '27990', '8580', '3067', '11099', '21496', '6958,92', '26547', '29877,3', '31000', '14348', '19460', '5706', '3398', '5730', '15347', '21160', '18216', '3690', '13999,2', '51140', '30150', '18724', '11550', '25855', '11779', '36617', '4377', '34162', '6266', '9499', '49653', '4555', '19883', '10029,92', '9651', '21990', '17370', '16860', '53499', '7632,92', '12246', '11495', '2489', '18389', '16480', '16948', '14593', '15897,92', '26538', '31096', '23146', '7747', '18599,4', '16814', '13227,7', '22525', '21688', '14013', '4645', '3879,17', '6080', '27860', '10818', '13439', '7381', '41498', '30500', '4170', '4120', '8793', '6201', '19295', '9574', '16669', '16324', '40700', '14320', '10286', '23057', '16616', '11298', '18115', '44495', '24700', '7112', '25899', '28594', '8448', '15619', '25343', '10478', '9370', '3910', '6445', '11034', '18374', '6299,72', '3499', '19550', '6186,7', '22240', '29177', '14857', '7829', '12699', '7730', '8777,1', '16250', '42228', '17840', '5388', '33996', '4268', '14500', '5270', '8346', '3001', '3285', '13040', '4499,2', '10968', '10073', '5775', '7937', '7110', '9650', '2499', '19782', '21207', '8195', '5928,1', '10429', '11935', '34479', '2520', '34916', '4580', '20295', '11600,6', '9160', '6024', '19983', '16800', '20610', '16218', '18549', '4230', '8840', '24470', '3668', '14947', '7472', '6970', '11398', '8767', '3983', '20498,1', '7327,8', '5865', '2720', '32000', '5018', '3284', '15190,5', '20375', '22890', '14891', '4221', '27400', '98030', '4010', '38000', '6556', '3681', '11528', '42950', '14453', '20229', '6364', '6480', '3045', '7598', '13225', '14787', '44690', '13730', '24647', '8095', '18599', '23990,83', '21475', '4349', '4840', '3199,2', '6690', '4008', '7839', '8180', '26524', '21590', '10551', '8156', '13433', '6741', '9804', '9790', '19200', '19772', '5848', '13695', '27428', '16629', '6561,9', '10274', '44290', '3089', '5942', '3725', '8870', '10360', '15857', '7336,3', '5807', '24236', '94330', '8188,04', '11021', '18030', '12200', '3450', '70245', '24459', '9532', '16364', '19130', '16278', '6744', '31415', '13450', '30344', '11200', '14747,1', '5140', '5900', '3490,91', '15907', '15844', '16416', '31792', '28750', '10315', '10034', '16743', '3933', '20679', '4039', '12320', '27270', '38058', '20980', '6450', '16627', '30918', '59398,2', '22398', '6309', '27208', '6792', '15650', '15215', '13768', '5966,7', '6049', '2781', '11446', '13010', '5070', '3617', '84000', '2031', '14097', '7152', '9396', '20040', '17760', '15700', '4082', '20985,62', '36910', '4462', '24760', '22430', '20768', '26051', '20690', '12092', '4710', '27700', '13507', '2489,4', '29970', '31730,91', '35683', '14921', '27795', '18964', '78120', '16579', '22905', '9990', '10680', '5755', '24061', '33030', '3729', '14270', '6470,9', '9380', '26848', '37360', '8651', '48600', '25897', '8640', '23688', '6539', '22761', '11880', '8435', '22930', '12593,7', '11189', '17350', '2889', '13688', '4899', '15498', '5748,3', '27673', '9996', '25631', '6520', '14580', '8990,9', '18900', '15890', '8286', '77860', '31933', '10650', '5555', '6660', '12412', '10740', '2447', '41125,88', '23100', '6561', '4641', '11954', '18376', '13921,36', '9338', '11699', '3834', '8620', '20699', '38725', '13918', '19035', '10060', '20450', '25662', '8650', '8225', '3675', '16740', '16407', '19085', '4966', '22490,91', '6745', '12598,2', '11789', '23530', '30000', '24940', '17580', '6890', '24858', '23499', '9375', '6477', '18204', '14098,1', '23706', '21619', '5369', '8920', '2372', '2305,8', '4410', '2389', '7766', '23310', '34154', '10366', '23595', '17150', '18049', '18500', '61290', '38778,01', '99540', '13310', '11536', '18490,91', '83407', '30837', '25730', '3580', '5937', '3464', '11250', '4995', '4057', '16750', '2190,2', '5440', '21536', '17650', '16991', '10992', '6978', '12470', '5995,46', '6490', '4934', '70936,32', '2028,56', '73300', '6930', '25623', '21615', '8235', '16436', '3497', '7070', '3735', '6093', '9170', '4830', '20499', '10990,92', '15320', '11833', '10953', '7582', '13456', '29858', '71243', '5301', '84558', '15226', '10560', '20852', '5504', '10599', '5746', '4963', '31498', '22110', '17605', '6790', '12150', '3651', '10990,2', '7874', '6030', '18710', '5602', '25800', '22618', '5150', '5400', '20155', '20999', '20009', '14976', '12537', '19674', '15720,91', '12741', '22090', '17910', '6979', '2872', '80440', '19593', '24112', '23758', '7595', '3987', '3015,2', '27500', '8900', '2050', '24027', '3107,7', '10991', '12053', '38032', '9268', '34700', '14760', '18730', '34821', '19900', '11590', '15625', '13402', '9098', '22550', '26164', '9189', '10799', '3869', '4109', '15201', '49838', '3764', '33126', '6088', '6311', '6180', '16692', '22650', '17505', '8970', '41929', '8389,91', '4911', '15293', '16591', '9599', '7452', '8280', '14998', '19340', '21620', '20480', '9728', '16653', '24800', '39450', '14165', '5550', '11040', '44000', '6522', '12890,92', '22250', '9972', '14632', '16467', '40110', '22515', '30372', '11377', '4209,2', '9555', '4329', '5634', '11100', '29000', '6550', '12998', '21802', '15090', '26457', '38800', '14196', '12655', '10609,2', '23044', '15763', '9597', '22627', '3604', '14005', '15904', '26485', '3598', '12400', '18358', '25278,14', '15210', '14321', '18600', '21388', '7050', '2400', '4996,8', '8723', '5494', '9652', '13463', '9960', '6281', '58670', '25182,4', '6240', '5489', '51300', '9733', '15255', '9443', '10757', '22323', '12782', '9720', '26997', '5932', '15582', '19940', '34557,1', '4351', '45438', '7100', '29900', '8910', '5759', '12590', '21938', '4540', '30796', '14744', '2183', '7740', '12199', '4199', '37235', '6530', '25700', '6495', '2440', '27617,1', '7431', '20250', '9085', '10864', '17838', '31224', '16999,82', '16040', '46649', '17865', '10496', '5987', '15164', '8832', '3335', '13960', '18535', '14994,6', '6298,6', '6619', '32790,9', '2831,97', '41132', '32525', '8102,08', '6543', '9596', '2790', '3868', '21814', '5329', '3500', '7511', '6639', '13860', '13780', '8047,1', '11042', '5852', '13835', '4180', '12350', '6858', '6127', '5994', '6189,3', '4260', '13748', '9477', '26890', '11192', '35775', '4679', '15097', '35700', '26140', '24174', '2439', '23989', '16092', '13950', '12849', '9432', '14765', '28509', '15363', '26596', '13790', '2799', '9040', '61920', '5612', '17366', '25250', '14310', '13745', '19890', '50177', '10852', '34148', '6236', '8830', '17439', '26200', '6075', '8100', '13287', '10939', '14619', '23095', '19446', '4107', '5695', '15824', '4827', '12427,1', '8070', '23020', '4202', '6779', '31499', '18630', '13259', '20720', '18392,91', '19089', '4240,91', '7710', '5562', '19990', '3429', '6097,5', '3123', '6546', '27690', '13489,91', '17398,2', '7599', '5895', '16551', '3205', '19005', '35596', '6999,3', '16961,1', '16700', '50700', '3289', '4239', '4745', '19728', '20069,33', '17966', '16830', '11723,2', '11160', '16140', '4059', '4592', '6710', '3188', '13820', '8892', '11520', '15520', '19746', '3316', '5748', '2511,82', '29590', '19342', '5516', '31882', '14890', '14060', '3440', '60888', '18573', '13166', '4217', '25459,3', '31875,3', '100000', '4050', '8275', '11389', '3150', '11077', '3560', '7890', '15115', '96860', '8811', '10801', '17297,6', '60300', '20659', '9862', '27369', '18800', '9301', '18780', '19320', '31050', '27260', '20575', '21808', '8515', '15739', '9007', '5128', '4041', '5219', '11496', '5300,9', '7390', '7700', '5353,5', '7157', '7302', '26090', '8237', '26865', '17990', '13462', '2000', '11204', '21382', '7348,52', '34650', '10230', '10512', '18517,1', '62800', '18882', '33120', '26241,6', '35669', '9991', '28098', '7760', '18162', '10490', '7810', '29790', '5525', '11487', '34449', '13700', '6696', '74466', '18550', '3245', '28945', '13689', '6935', '16687', '19020', '5580', '4499', '14730', '4780', '3816', '16244,9', '7040', '76550', '23259', '26641', '5906', '7101', '2600', '3357', '31991', '21858', '12240', '4489', '4040,1', '24844', '27780', '86618', '3270', '13686', '13110', '20536', '18004', '44560', '16698', '22293', '23975', '12520', '4390,91', '28590', '30756', '11422', '17842', '15830', '8941', '4048', '19343', '32938', '8700', '13130', '12514', '5579', '14284', '8390', '34500', '24830', '6142', '41936', '9536', '65400', '9963', '6838', '21510', '10020', '5920', '20180', '31900', '5740', '18707,1', '4756,5', '51700,5', '9259', '20272', '10672', '11890', '19475', '37440', '9224', '20143', '7163', '10854', '17276', '6361', '22969', '28160', '11760', '11990', '18239', '12737', '22100', '5805', '15565,5', '17203', '45110', '6647', '4370', '88440', '87880', '7499', '12549,07', '28440', '4535', '19529', '28016', '26774', '21899,94', '95441', '13975', '26875', '22670', '16720', '7450', '23500', '18334', '22561', '26900', '17390', '4165', '28428', '4858', '8200', '19382', '18490', '7399', '7385', '5938', '4658', '18560', '25180', '9345', '27149', '26321', '5793,3', '17880', '30428', '31278', '24466', '3924', '8071', '4293', '30590,92', '10480', '8771', '6419,78', '10972', '5099', '9710', '5590', '11188,14', '2957', '4182', '19740', '16371', '21243', '13455', '11194,06', '4004', '8034,2', '21910', '12345', '25998', '18471', '7614', '14498', '21985', '28450', '20644', '49750', '21038', '6620', '24100,83', '16050', '10428', '6278', '18048', '15695', '8943', '42408', '4611', '25100', '5796', '20698,1', '10840', '25702', '7605', '22317', '3354', '7098', '3383', '12499', '5020', '2498', '33900', '33000', '3906', '24970', '10446', '18319', '18553', '70300', '44500', '11409', '12541', '7590', '10058,5', '10898', '28517', '25520', '4812', '9630', '34720', '15270', '17949', '5931,8', '23660', '4670', '11093', '15393', '5253', '3690,82', '23760', '13624', '28502', '3854', '4608', '16227', '7259', '11740', '3434', '15085', '23608', '16362', '20356', '20310', '27480', '4212,9', '10687', '26219', '18868', '21984,55', '37780', '18099', '24357', '15070', '31726', '7625', '17503', '98042', '22781', '19750', '3935', '18499', '10830', '2190', '18296', '25600', '7739', '6346', '39590', '9586', '7319', '23470', '5404', '4617', '5589', '2009', '19809', '14795', '26708', '23110', '58500', '8049', '9416', '16701', '14398', '7336', '27498', '33450', '17330', '6193', '29788', '9422', '20570', '14316', '23202', '23370', '4366,8', '9679', '44030', '39028', '4579', '22980', '18510', '8508', '11135', '12397', '25627', '11196', '6020', '10782', '15100', '14000', '58640', '34804', '9799', '10417', '13025', '27250', '9908', '20090', '16389', '24871', '3014', '12800', '4799', '7589', '23166', '27088', '9308', '5616,15', '19100', '7850', '11669', '4070', '4297', '3942', '19250', '12599', '28059', '8303', '10112,8', '14119', '20699,1', '15610', '15900', '9680', '24223', '18799', '18495', '4041,9', '27990,91', '9759,4', '32580', '11396', '18582', '10483', '7200', '20326', '34499,2', '13916', '5091', '11623', '19798', '14260', '4744', '6502', '17325', '13148', '22057', '6217', '15789', '23365', '5010', '4947', '5288', '26150', '26941', '16990', '9899,92', '62240', '12810,94', '16447', '34199', '45750', '3892', '12600', '26642', '12822', '18906', '12716', '22015', '13476', '24132', '11081,52', '6146', '9116', '19960', '2947', '7473', '12606', '11321', '6938', '8108', '19419', '14390', '22072', '17769', '5268', '6707', '7120', '2691', '8617', '21700', '53169', '17110', '22590', '35529', '28800', '2435', '29653', '6781', '8278', '17546', '3602', '38570', '52509', '5426', '8755', '11359', '16263', '3715', '6209', '21999,2', '13563', '9425', '41400', '63657', '3865', '14510', '4986', '7092', '30930', '18711,05', '25989', '40480', '6386', '13500', '19850', '38832', '14440', '18777', '3353', '33320', '5798', '17529,91', '2300', '19680', '8490', '10499', '28641', '14990', '5445', '7985', '11304', '20060', '11000', '24420', '3199', '2045', '21237', '10319', '4548', '9931', '3023,58', '17789', '3530', '15950', '6374,78', '23154', '9842', '46156', '17901', '13134', '21060', '27398', '4420', '30590', '14798', '2099', '11310', '9069', '23440', '6139', '5130', '14724', '6288', '17946,2', '10880', '19993', '16107', '23840', '30580', '14949', '20928', '16257', '6141,75', '14388,3', '70000', '97000', '53091', '6975', '3955', '19245', '18997', '21487', '26658,9', '2704', '21589,9', '99313', '9600', '3784', '18654', '11090', '19844', '14200', '47223', '18113', '10021', '35520', '5280', '87786', '29898', '4853', '10418', '4505', '13115', '16965', '13112', '10000', '5625', '8412', '10800', '4311', '9464', '13000', '32822', '16600', '4379', '5988,46', '9325', '26430', '18970', '29592', '6899', '14996', '12024', '25491', '10760', '15887', '5051', '6190', '10675', '14350', '4089', '5724,2', '20424', '11958', '18054', '27706', '6518', '14527', '5830', '6018,39', '13400', '33476', '3033,9', '17750', '14240', '12463', '8590', '10238,82', '6594', '13138', '22121,1', '2679', '13536', '9880', '7950', '29199', '46540', '96490', '30600', '13899', '7984', '21717,92', '6327', '10279', '21246', '14206', '3801', '19440', '5250', '12840', '22324', '11410', '6540', '2800,85', '9295', '53000', '29430', '21592', '23240', '4103', '30422', '5339', '6150', '20495', '21481', '21750', '23667', '6467', '15598', '12902', '3330', '18370', '5304', '37752', '4602', '36805', '6984', '35369,4', '5575', '10538', '12996', '51200', '15600', '13491', '10646', '23822', '8221', '31716', '6237,03', '23745', '14688', '2259,9', '28983', '23108', '41021', '32700', '2322', '5295', '10576', '65000', '29680', '8020', '8188', '5267', '23152', '18361', '3959', '17648', '5829', '5710', '19840,5', '6300', '4598,6', '6136', '6867', '73306', '78800', '23650', '17593', '8369', '13320', '6100', '11269', '2490,92', '13747', '22440', '5149', '25820', '17930', '13847', '13776', '22499', '22345', '12260', '27934', '9326', '10348', '4026,55', '22147', '17310', '6653', '32280', '15771', '17263', '16500', '36527', '18819', '14420', '14133', '55846', '3039', '16998', '50098', '19415', '16780', '8253', '34466,4', '25460', '5660', '14648', '20877', '26115', '10470', '21624', '28500', '4964', '19905', '5109', '11877', '6380,91', '27637', '39327,2', '8570', '11264,25', '48000', '20431', '12148', '26960', '20370', '6985', '13136', '22880', '10150', '10735', '22970', '7020,9', '22920', '25492', '6906', '11133', '6299', '12189', '5681', '19410', '58567', '31200', '20977', '23999', '13199', '6799', '10193', '18410', '82162', '7639', '4879,8', '7544', '22082', '22900', '21009', '26500', '22660', '6181,09', '18810', '13184', '8438', '2676', '14645', '35320', '34891', '23985', '12789', '2572', '6230', '40824', '38244', '8689', '13709', '6983', '14199', '52250', '26750', '3377', '3348', '2974,15', '10846', '23711', '9554', '31560', '40581', '25897,4', '15319', '22050', '14031', '2245', '22225', '16910', '5260', '11349', '27922', '22798', '6789', '22192', '2240', '19080', '19989', '9810', '23025', '28400', '12860', '9447', '26730', '12810', '3498', '8067', '6910', '19854', '14521', '81000', '7189,6', '25199', '4945', '14175', '15570', '21197', '22210', '10205,5', '20409', '17594', '3275', '6228', '16615', '22098', '12872', '89018', '21286', '74690', '13527', '13993', '18825', '9538', '17804', '20063', '10010', '8410', '19051', '21209', '5765', '9427', '4527', '7570', '88555', '15292', '30324', '33510', '10790', '17099,1', '5840', '6720', '5669', '30050', '37017', '18413', '3815', '5016', '25896', '9840,6', '3979', '13727', '10600', '14698', '15547', '21450', '10390', '22558', '11180', '7391', '34695', '10841', '8785', '5533', '12542', '28932', '6519', '24867', '3195', '2890', '5499', '8806', '36177', '4210', '18328,6', '26988', '8450', '6766,4', '14370', '8880', '22458', '14397', '31502', '17261', '9983', '16630', '9021', '33978,63', '22589', '47900', '2990', '16222', '3119', '56277', '11529,91', '6435', '9417', '2529,61', '5898', '37857,2', '28790', '7905', '33097', '5465,26', '12510', '3000', '3034', '10080', '7230', '9973', '18426', '31806', '19280', '15670', '14092', '2629,8', '18530', '21999', '16823', '8560', '13825', '27070', '7368', '12711', '5913', '5869', '8000', '24047', '24017', '23478', '16322', '3737,6', '6756', '27740', '3356', '23104', '27065', '12389', '29445', '50000', '12687', '9072', '18540', '3999', '17820', '10438', '27950', '8160', '11598', '18885', '10448', '9689', '2724', '18472', '8600', '4729', '9490', '13750', '4328,1', '11666', '22640', '9137', '23663', '15020', '2420', '27190', '17073', '14391', '3028', '20786', '17300', '9500', '30418', '11989', '20715', '13740', '6457', '12868', '20979', '17869', '49743', '21597', '10052', '11030', '9440', '33358,84', '20992,78', '21312', '12900', '8979', '18719', '18140', '3237', '18913', '13001', '18660', '22307', '73996', '12132', '82800', '41990', '20592', '4961', '7376', '20237', '26928', '45034', '6081', '26490', '67795', '35580,91', '11630', '6096,13', '5548', '23197', '5272', '3328', '25680', '30060', '25983', '10442', '3033', '4490', '38250', '9567', '7510', '40574', '14696', '17415', '19082,3', '10616', '19966', '7902', '11955', '3748', '2330', '7949', '11296', '35091', '30455', '29266', '26084', '11540', '11754', '4820', '13137', '15624', '3387', '12940', '30313', '51900', '6323', '11689', '9270', '11212,06', '4664', '38108', '19400', '10128,8', '9074', '8442', '11230', '3093', '8129', '24605', '20691', '21936', '46385', '27110', '11376', '34493', '17098,2', '26450', '6856', '10245', '5980', '20059', '20320', '16298', '3442', '10981,82', '17560', '28580', '13005', '32935', '3849', '99000', '8957', '66578', '8298', '27781', '4647', '4550', '24270', '7327', '13550', '23772,27', '16170', '10712', '17775', '18686', '18749', '6560', '3850', '8381,5', '10450', '12990', '33881', '26720', '20863', '5718', '15759', '2955', '29250', '11966', '25146', '11526', '15325', '26760', '18269', '12138', '11950', '5449', '4624', '9538,9', '25966', '34100', '8699', '7632', '9199', '6782', '13050', '4969', '19377', '16571', '28258', '14717', '17298', '13060', '10149', '25390,94', '22872', '14670', '71740', '6283', '31015', '22300', '8997', '10492', '27060', '4983', '9030', '17550', '9998', '37100', '9054', '27180', '21000', '6746', '11392', '8597', '9855', '5941', '4100', '6698', '9400', '9127', '27298', '14927,83', '15750,91', '12220', '20650', '3645', '76000', '38340', '11136', '17810,82', '7845', '22269', '14328', '8056', '4190', '11819', '22469', '18143', '24260', '18340', '29707', '4318,2', '3358', '8110', '23684', '18760,75', '14678,63', '10342', '3484', '31588', '8297', '12447', '10647', '27370', '7300', '33100', '47195,92', '15930', '23103', '12730', '13620', '11055', '9606', '14596', '9095', '19790', '4720', '45672', '12678', '24290', '7741', '2870', '13940', '19420', '29345', '10850', '24900', '10755', '17329,92', '7693', '25498', '19710', '4088', '10130', '20960', '17998', '4290,91', '4638', '28110', '21349', '12398', '5025', '5530', '16310', '9910', '11920', '10706', '15290,7', '16380', '47247', '14989', '19140', '14230', '32449', '10591', '5482', '21685', '8149', '4476', '16379', '6189,92', '12365,2', '39240', '32593', '18702', '21860', '5750', '90000', '19045', '27446', '27313', '16485', '29949,7', '2341', '43515', '17111', '9919', '26961', '41907', '29905', '2030', '19000', '10471', '35744', '8047', '29461,34', '12628,91', '9248', '10490,91', '7899', '14925', '6336', '27570', '20519', '26989', '2671,2', '15041', '10853', '17955', '16647', '9791', '7620', '13930', '2250', '16680', '13800', '6549,83', '13430', '4671', '26379,91', '22945', '11236', '25211', '20381', '4090', '10526', '14490', '18006', '17490', '22616', '5351', '7621', '22188', '18300', '2514', '19491', '27970', '5761,9', '22881', '2899', '14872', '7996', '2189', '7800', '24015', '10935', '3006', '8370', '23204', '4882', '2745,9', '3385', '15313', '10936', '21270', '13520', '24250', '18740', '12950', '11426', '16880,91', '14170', '15170', '17200', '33920', '10198', '6881', '13848', '14006', '10361', '11960', '10084', '5867', '19970', '39780', '92951', '22213', '24675,85', '21298', '15820', '5840,5', '32907,5', '7369,7', '20113', '2150', '4845', '20132', '20755', '21778', '17962', '15518', '29493', '19189', '116360', '9995', '14461', '4595', '14380', '9590', '17398,1', '3744', '18187', '20095', '7514', '4660', '38408', '43373', '19789', '23320', '8589', '7849', '10505,5', '11786,85', '18725', '21499', '46671', '4725', '25320', '6750', '24119', '5684', '6828', '10950', '15016', '3600', '30391', '32200', '20091', '93000', '6455', '12410', '53364', '8988', '9510', '15372', '7593', '47789', '7660', '22047', '2399', '7348', '14847', '11916', '17025', '4838', '9681,5', '54105', '5310', '11489,91', '3385,83', '16520', '27348', '28674', '5768', '78150', '4973', '13719', '3035', '19830', '6538', '21146,4', '25920', '9341', '20443', '66680', '7135', '23216', '13530', '12890', '22711,21', '6999', '21069,8', '15870', '13558', '7630', '13205', '3391', '14300', '18100', '24945', '30980', '6527', '7588', '5240', '9060', '9970', '35550', '20007', '39422', '8050', '5683', '29205', '13006', '7650', '24400', '18849', '19895', '33192', '20767', '12191', '5806', '17372', '4463', '19857', '30920', '10778', '8186', '42000', '30799', '13301', '15200', '5817', '3961', '19650', '20297', '30960', '8270', '9830', '21430', '5789', '9660', '16798,2', '9452,97', '27560', '16620', '73230', '3565', '5089', '22162', '7898', '9754', '28971', '6462', '15460', '29012', '35035,2', '6679', '5359', '5419', '4380', '7917', '17615', '10542', '7551', '12935', '29799', '9900', '9573,1', '6733', '50020', '8797', '25480', '9351', '4700', '25050', '9655,2', '19611', '11154', '8150', '18001,28', '3321', '22770', '5218', '9979', '10998', '20883', '5058', '17863', '25683', '5790', '11325', '61540', '3167', '14337', '4599', '23459', '23852', '5232', '14916', '12317', '16491', '43353', '11098,8'}\n",
      "\n",
      "\n",
      "==========\n",
      "FST_PAYMENT\n",
      "{'2372', '3049', '643', '3570', '1900', '1660', '1479', '2244', '1196', '4250', '1107', '2775', '1493', '6365', '1999', '10900', '1278', '1970', '7794,92', '5060', '2076', '456', '2060', '1875', '9250', '2368', '10000,92', '14221', '3000,68', '2988', '2375,68', '1936', '1366,05', '2966,2', '3901', '4995', '16750', '5440', '3489', '1075', '508', '1958', '1320', '1992', '2006', '1786', '4989,92', '2500', '4194,3', '3735', '804,5', '4830', '894', '1292', '2778', '2233', '2753', '2518', '24000', '5352', '70940', '1767', '1383', '2892', '1093,4', '3795', '3545', '514', '598', '10560', '4200', '9898', '2433', '2014', '1087', '5504', '8000,91', '1899,1', '55982', '7990', '5746', '4343', '524', '977', '337', '1424', '1639', '5248,91', '508,5', '4287', '3687,5', '6712', '755', '681', '8500', '1768', '834', '7567', '2716', '573', '7477', '5150', '5170', '5108', '1220', '5400', '917', '1373', '725', '880', '439', '13526', '8522,2', '1141', '599,95', '2157', '3180', '1200', '5373', '8274', '2457,9', '1422,6', '41000', '8800', '332', '2528', '18080', '814,2', '1420', '443', '8164', '6837', '1999,2', '903', '1824', '1179', '8900', '2050', '1700,92', '1055', '542', '2358', '4000,91', '838', '9037', '4430', '4752', '1556', '1384', '556,2', '2879', '877', '2001', '7240', '3830', '1752', '14760', '11440', '3194', '3555', '2584', '5022', '250', '17500', '1997', '1051', '1050,92', '6929', '2015', '8945', '1508', '301', '1989', '800,82', '7776', '6699', '1000,95', '2480', '2000,79', '770', '1269', '4275,2', '1130', '1899,9', '3162,71', '3439', '1814', '1996', '7034', '26000', '1270', '1153,5', '1247', '25405', '1070', '9108', '1287', '2220', '2335', '7553', '1735', '2840', '1303', '3416', '3120', '8125', '3165', '24800', '3110', '863', '1560', '5550', '3960', '3685', '2749', '1497', '2210', '1874,7', '2241', '5517', '645', '3415', '557', '240,6', '1190', '2499,8', '420', '2653', '552', '824', '19924', '1955', '10467', '13519', '2053', '389', '5044', '788', '1740', '869', '6550', '3010', '971', '9661,66', '507', '7095', '38800', '3339', '1850', '5811', '4020', '6835', '1458', '1240', '34000', '2650', '1089', '468,1', '800', '1703', '14806', '729', '601', '8499', '7633', '6050', '16481', '49038', '1200,8', '25131,59', '4319', '1340', '1510', '344,8', '2750', '600', '2400', '710', '1411', '638', '1649', '2430', '2090', '9960', '304', '11900', '1255', '2560', '6240', '2532', '2490,95', '653', '2999,9', '1512', '6882', '2830', '3200', '1789', '2593', '3492', '2179', '1500,95', '3135', '3364', '2373', '3097,8', '1651', '4185', '17669', '10700', '1065', '7519', '682', '1912', '349', '3334', '10425', '7100', '3320', '2325', '2352', '2599', '391,2', '1935', '1249,95', '2237', '6534', '1949', '3700', '562', '3299', '2384', '930,91', '309', '2265', '1124', '7740', '1048', '875', '1812', '3605', '2398', '4000,22', '4199', '415', '6495', '1540,84', '878', '2440', '6509', '1656', '1715', '3126', '7805', '943', '2555', '1469', '2349,6', '5340', '9445,95', '520', '1126', '532', '2299,8', '3270,82', '1598', '1470', '4310', '1691,6', '419', '1008', '938', '24500,03', '6625,16', '25000', '16086', '7670', '6174', '845', '33590', '5609', '1584', '4504', '8328', '7547,8', '3335', '527', '859', '7250', '58800', '6730', '390', '7124', '10637,7', '6543', '249,3', '4387', '2790', '2115', '2466', '3500', '1381', '3015', '795', '1546', '9639', '10500', '2131', '981', '3650,1', '13670', '1284', '3000,2', '4014', '4978', '11221,5', '3157', '7913', '602', '6127', '3750', '7116', '54910', '1093', '4260', '1595', '2132', '22399', '1405', '1670', '780', '1700,95', '1398', '10041', '5300', '75500', '1799', '1042', '7531', '426', '2201', '1260', '5244', '700', '1399', '14640', '2729', '432', '8117', '5899', '2019', '3433', '1725', '990', '60360', '6445,86', '3569', '1280', '2387', '10270', '3902', '2356', '517', '3660', '2901', '13790', '9040', '1498', '745', '3300', '874', '2634', '8480', '4080', '5398,1', '635', '363', '1392', '3264', '2347', '6075', '11490', '1890', '8100', '1000', '508,79', '3249', '1509', '539', '3597', '4768', '4434', '1930', '388', '25400', '40758', '1956', '1399,3', '3410', '3425', '668,71', '1515', '10267', '2222', '6138', '5562', '19990', '10557', '1588', '300', '1566', '19355', '6800', '1781,83', '451', '2615', '2136', '1309,65', '2011', '5210', '3205', '1155', '51127', '1704', '2803', '1300', '13360', '9550', '9457', '3000,95', '4239', '1999,8', '1948,92', '1679', '622', '546', '6923', '559', '9254', '2279', '2508', '0,92', '5611', '2500,8', '3172', '724', '1084', '4950', '4186,59', '1703,2', '1888', '7298', '638,7', '2472,5', '7707', '7080', '858', '5767', '9480', '1619,95', '984', '13650', '29590', '541', '2121', '6357', '1207', '2647', '2175', '4289', '868,83', '3440', '2864', '8389', '11233', '7795', '11292', '4050', '1216', '2915', '1294', '2649', '1417', '1635', '3260', '10527', '5001,9', '4450', '4352,37', '3150', '718', '1819', '4746', '3763', '2865', '1489', '8082', '2450', '2863', '639', '7270', '18800', '610', '7142', '3490', '25089', '6957', '2616', '11860', '3080', '1610', '1829,43', '3538', '1820', '575,2', '7586', '1204', '687', '2797', '2199,95', '1110', '7631', '49356', '3298,92', '1490', '27000', '3451', '1099', '5366', '1721', '3100,3', '7700', '5902', '16350', '4095', '775', '449', '26090', '835', '642', '2832', '989', '1016', '1200,2', '1438', '1670,69', '1004', '2000', '1360', '11500', '29080,92', '1140', '465', '1012', '6400', '2200', '1215', '3278,9', '10230', '10512', '9699,69', '371', '12144,42', '2414', '4788', '18375', '7000', '2999,6', '2975', '2849', '9991', '33694', '2610', '9498', '2458', '3829,6', '2772,13', '2080', '5838', '1034', '5521', '4403', '13700', '5002', '830', '2159', '6325', '613', '2442', '9602', '3245', '558', '1289', '1310', '2997', '530', '5580', '4499', '732', '737', '1210', '3717', '15680', '11800', '6541', '2835', '2800', '1351', '5722,21', '1125', '10465', '985', '2569', '1898', '1544', '3043', '2454', '616', '25300', '9200', '380', '11080', '1701', '130', '1990', '3169', '2600', '2007', '42518', '781', '3357', '970', '2776', '3516', '6340', '1121', '3270', '11673', '490', '1225', '449,1', '3800', '5097', '56638', '12520', '1500', '479,8', '5000', '2253', '2930', '965', '2218', '3730', '512', '4048', '2370', '6650', '2013', '3408,8', '2151', '9300', '1245', '1457', '2316', '3159', '1745', '988', '8700', '3650', '7082', '1625', '4935', '1281', '8390', '7000,5', '1400,1', '5155', '16515', '2934', '22500', '2598', '619', '15000', '500,39', '4160', '52182', '384', '49582', '1962', '305,1', '551', '862', '1170', '2550', '4498,91', '2000,6', '8190', '280', '3779', '3720', '281', '2482,84', '16400', '1591', '10981', '2140', '4510', '1720', '8342,38', '5940', '4567', '100', '11890', '2564', '5100', '3095', '564', '2500,4', '230,3', '2911', '4948', '499', '1810', '6151', '510,9', '150', '5200', '50442', '1880', '7811', '176', '458', '1991', '715', '418', '3495', '330', '11990', '1855', '4399', '4263', '7550', '10090', '16000,1', '1973', '29860', '362', '6000,95', '2500,2', '1331', '1808', '21648', '2490', '1305', '4370', '1987', '4268,72', '1590', '1056', '1431', '5850', '5560', '646,5', '3186', '4198', '1120', '1710', '3136', '754', '436', '2493', '4364', '3511', '998', '2088', '49200', '1400', '4666', '1020', '855', '9663', '3752', '2949,7', '2192', '1484', '1338', '3790', '2604', '4330', '3371', '8200', '1297', '9570', '2754', '2000,85', '778', '2916', '912', '1481', '6007', '2850', '680', '550', '1648,5', '1849', '6820', '18400', '13395', '1547', '1179,6', '5690', '1574,1', '1229', '22400', '1231', '3780', '8', '738', '41580', '1000,89', '4000', '2878', '1182', '29032', '469', '1648', '1327', '3760', '1290', '405', '2467', '735', '5075,84', '3599', '12000', '340', '3220', '1969', '1250', '10933', '2180', '1921', '3100,1', '1005', '2660', '4800', '6832', '7261', '20644', '10147', '969,8', '982', '1690', '1244,7', '1866', '6326', '5198', '677,5', '4350', '1139', '234', '4145', '3550', '1159', '885', '2409', '855,9', '652', '11762,27', '9190', '6000,81', '4315', '1151', '19556', '7118', '786', '2024', '6990', '1341', '955', '7049', '5610', '2498', '5387', '3297', '3537', '1222', '1219', '10227,2', '28000', '3885', '3810', '1408', '663', '19151', '2460', '44500', '7590', '2000,92', '2858', '14935', '3765', '1474,3', '3370', '8710', '1106', '726', '873', '2688', '2708', '4870', '2898', '845,5', '8734', '620', '905', '720', '868', '2017', '4000,9', '30660', '1620', '21500', '62250', '4086', '290', '7259', '31350', '7495', '4690', '681,2', '20890', '1356', '10750', '3099', '833', '1899', '9267', '32750', '2981', '9824', '1201', '630', '1841,91', '12100', '4018', '1619', '6575', '579', '10460', '3480', '3872', '7750', '1115', '2920', '1010', '2355', '470', '3935', '481,8', '1112', '11600', '9528', '2190', '1487', '2142', '26550', '2888', '1760', '8120', '509', '934', '1275', '5800', '2506', '3740', '2380', '369', '779', '364', '404,1', '510', '5081', '10015', '3236', '11660', '1279', '667', '3538,92', '1337', '159', '276', '386', '3280', '1534', '10100', '1063', '4500', '3212', '713', '1854', '6297', '1333', '422,1', '699', '455', '438', '1831', '10240', '381', '3680', '4517', '6670', '2350', '694', '1770', '4937', '3114', '2167', '5148', '2046', '6844', '3108', '748', '1499', '11027', '10177', '1330', '1152', '1272', '18152', '4919', '1802', '431', '1779', '1889', '23800', '660', '75570', '10', '3711', '9800', '4579', '2640', '9288', '1892', '4206,8', '640', '7945', '10095', '910', '14000', '392', '2880', '3318,4', '2651', '1069', '7148,1', '5998', '1072', '5812', '1682', '2487', '2455', '1524', '758', '40000', '2231', '3014', '30303', '3454', '5445,92', '2758', '7464', '23700', '980', '2092,94', '1025', '18850', '9664', '1265', '2199', '1873', '2047', '10008', '6599,8', '326', '345,3', '15900', '2248,1', '18588', '368', '649', '3100', '1530', '2213', '9020', '413,1', '772,3', '2980', '1629', '10795', '358,1', '22097,99', '1300,92', '1500,92', '4280', '1512,1', '10550', '377', '3215', '6700', '1015', '1488', '7200', '276,6', '5145', '23000', '8263', '10098', '2098', '10260', '2204', '8040', '7480', '531', '319', '1418', '1389,8', '3333', '1813', '1171', '792', '1147', '524,85', '2923', '25599', '1750', '3064', '2299,9', '2952', '4715', '5450', '7953', '1100', '4590', '7420', '138', '6217', '3084', '5010', '50500', '15701', '1053', '2323', '50', '1580', '4027', '4629', '7600', '2315', '1788', '797', '283', '1463', '854', '363,5', '2077', '1132', '12600', '2547', '1980', '4743', '2643', '2597', '425', '1235', '2935', '3228', '698', '2947', '400,2', '3639,5', '9770', '2247', '2559', '749', '2590', '1870', '12500', '23900', '1102', '1860,9', '2962,1', '2000,4', '3718,2', '1343', '915', '1796,94', '3210', '2110', '570', '12300', '6115', '1739,69', '17110', '3311', '360', '3060', '1719', '4910', '28800', '4398', '16100', '515', '1000,92', '2112', '2674', '2039', '3602', '13140', '446,88', '2470', '3800,2', '891', '9425', '3413', '3105', '2810', '2985', '1557', '3794', '5234', '1759', '299,92', '424', '655', '1877', '669,3', '19950', '1394', '4346', '13500', '1261', '168', '54929', '1202', '1290,6', '948', '3252', '2004', '3294', '659', '3360', '14440', '927', '272', '850', '1545', '4750', '1845', '1605', '316', '685', '2130', '2300', '1571', '2740', '1730', '3657', '7170', '1370', '5650', '7964', '1399,8', '11000', '5500', '39600', '3950', '2045', '36330', '1039', '2635', '2155', '7019', '6610', '269', '39804', '1615', '4536', '2698,89', '2260', '3670', '2328', '1259', '2805', '911', '197', '1922', '177', '1751', '709', '962', '500', '5890', '1273', '2062,5', '4400', '1092', '2689', '5786', '3900', '8320', '3090', '900,2', '11560', '2390', '3030', '2099', '11044', '375,2', '1622', '3469', '8816', '540', '8790', '5130', '2668', '1248', '1452', '658', '4675', '2613', '10330', '528,5', '1504', '14940', '2510', '1226', '1363', '1625,2', '1837', '3575', '519', '650', '1503', '7447', '525', '3148', '2055', '6975', '399', '3411', '677,3', '7395', '590', '1430', '350', '1864', '346', '5844', '8688,09', '9600', '269,1', '1000,67', '2419', '11090', '3363', '2223', '383,2', '14200', '416', '1029,41', '39487', '1188', '1871,75', '780,1', '8998', '9000', '34698,2', '11076', '2500,95', '1514', '1599', '10000', '764', '10800', '5594', '1920', '13000', '2271', '2998', '2283', '5744,5', '2571', '9325', '359', '60488', '580', '4739', '669', '2712', '19958', '1050', '9871', '3158', '2000,22', '799,5', '995', '1567', '4992', '3346', '2900', '2900,5', '3359', '387', '2751', '9272', '4353', '375', '1950', '553,6', '1525', '2000,7', '1160', '2413', '1999,94', '1565', '4184', '1515,7', '9411', '485,2', '3534', '752', '1058', '3073,8', '13400', '2294', '3170', '9838', '2100', '560', '4098', '8879,48', '860', '1009', '798', '296,8', '1776', '13536', '7836', '3907', '3240', '7950', '5989', '1271', '19521', '3000,92', '1099,9', '26410', '10051', '958', '2852', '3658', '457,5', '13100', '6160', '2522', '808', '2310', '1961', '880,2', '1507', '1041', '2690', '1175', '2365', '60432', '8349', '3298', '6000', '339', '5250', '3997', '26565', '973', '2095', '848', '8300', '599', '4653', '1293', '1786,9', '18000', '12211', '1940', '4851', '1495', '3448', '706', '20000', '1178', '1717', '1866,6', '2549', '694,2', '21750', '2198', '4245', '736', '623', '464', '10434', '2567', '2289', '446,05', '3330', '2614', '13772,82', '1809', '5000,91', '1876', '2079,02', '8751', '1365', '3214', '20595', '3187,74', '323', '26802', '15600', '1165', '4523', '895', '6875', '1901', '1915', '2688,69', '5320', '11548', '2285', '7020', '21696', '4708', '5700', '4953', '3595', '1150', '367', '1928', '6950', '10140', '729,1', '4360', '691', '1800,2', '4806', '65000', '686', '979', '4267', '12700', '1835', '1198', '1361', '48156,13', '675', '2235', '5710', '757', '759', '13539', '1640', '6300', '918', '3449', '2135', '697', '1995', '2345', '1634', '1266', '1671', '1880,2', '688', '1129', '6100', '8008', '7880', '3104', '34923', '2553', '10000,1', '439,95', '17930', '251,1', '790', '2062', '899', '268', '13776', '2861', '1319', '870', '440', '1491', '4395', '648', '1395', '2114', '3337', '12358', '3340', '16500', '565', '1050,33', '529', '1103', '4775', '3039', '4680', '3426', '2293', '2655', '2410', '999,2', '3183', '1146', '1778', '5660', '5050', '7500', '468', '24500', '5437', '4110', '5000,87', '2580', '1254', '2848', '2877', '4139,36', '1737', '7174,87', '2595', '238', '3749,74', '120', '1256', '606,2', '3975', '734', '2910', '2690,92', '7669', '2129', '3739', '1453', '1326', '1252', '740', '1556,8', '6603', '3610', '10400', '3969', '1952', '705', '3350', '5038', '10000,2', '14220', '11020', '54870', '4587', '21094', '1399,7', '744', '5350', '1608', '1806', '1444', '1771', '20235', '60245', '0', '370', '6945', '9695', '3173', '1138', '4990', '15091', '1570', '1045', '861', '15939', '1517', '571', '1528', '2680', '2287', '2798', '942', '3500,6', '2572', '7883', '589', '7238,86', '799,92', '6500', '2186', '1516', '2540', '2286', '1011', '5928', '5023', '43359', '561', '2570', '6933', '1368', '2156', '2346', '1780', '1295', '3107', '2954', '250,6', '2665', '223', '2530', '643,7', '2245', '1818', '1091', '3520', '5260', '2178', '14786', '6789', '987', '1094', '1103,85', '1581', '1805', '3138', '2240', '890', '1650', '4597', '780,3', '1328', '3774', '400', '633', '6399,9', '936', '3620', '5383,85', '3498', '5820', '767', '6910', '3140', '3688', '1161', '4235', '3502', '2950', '5999,2', '1185', '832', '1520', '10350', '2469', '21839', '10205,5', '11924', '783', '3275', '6228', '5667', '1348', '1887', '5703', '2574', '444,1', '5670', '1550', '1374,88', '35800', '695', '13126', '5726,3', '0,95', '39400', '3787', '5120', '1059', '11425,8', '4363', '4197', '3899,95', '2745', '3245,95', '7400', '1480', '1609', '6370', '5000,1', '2096', '3677', '1371', '1785', '3815', '7207', '41774', '5036', '3319,7', '8650,48', '10431', '6600', '1765', '2360', '2504', '1731', '6410', '1230', '54470', '594', '1763', '4593', '920', '2020', '900', '7506', '1702', '2228', '3916', '323,25', '11024', '6519', '3250', '6900', '285', '7350', '20550', '1708', '3086', '42906', '3195', '1374', '2890', '2826', '5499', '3698', '437', '3216', '11597', '10097', '5246,5', '229,5', '4210', '2780', '1800', '2608', '8450', '366', '576', '2698', '2348,8', '53530', '433', '5540', '5760', '4742', '10729', '12012', '765', '410', '1899,8', '1865', '1722', '4712', '5045', '2990', '5814', '3119', '2357', '50120', '12044', '27350', '1815', '2477', '445', '12251', '1884', '3137,9', '3000', '4770', '787', '63219', '2811', '10497', '754,2', '7230', '40664', '2702', '4030', '1960', '6995,92', '4916', '840', '849', '1686', '19430', '3621,7', '53541', '1312', '3000,4', '1364', '3209', '6641', '480', '2784', '4986,5', '1251', '17000', '205', '15670', '3380', '1674', '7507', '430', '1726', '1258', '1575', '4040', '965,92', '3369', '9845', '3310', '10525', '964', '495', '2270', '8680', '3130', '2578,8', '8000', '6200', '48210', '3679', '5979', '409', '1111', '10515', '3669,6', '3745', '1708,5', '4650', '818', '2700,75', '4823', '5375', '50000', '2444', '4809', '2238', '473', '16657', '3403', '3999', '1379', '746', '1555', '1036', '1800,1', '8940', '2568', '5708', '1561', '2825,5', '2278', '3390', '9016', '299,1', '5226,9', '947', '3050', '10007', '1445', '299', '2845', '1695', '13750', '720,2', '4045', '9490', '5705', '1694', '959,3', '930', '15500', '2420', '2588', '4925', '1392,4', '2152', '3028', '1172', '16293', '9500', '6290', '376,21', '10489,92', '4177', '9068', '13613', '2632', '2696', '5305', '9391', '2710', '953', '5245', '9922', '7764', '1047,82', '9964', '5735', '3970', '4270', '1400,95', '567', '1440', '4455', '10162', '605', '650,95', '14990,94', '306', '2630', '2860', '18719', '1322,9', '9750', '772', '1049', '3087', '3524', '10619', '2040', '2495', '3435', '4225,44', '3609', '1630', '5985', '3899', '217,5', '6532', '2970', '1841', '750', '1572', '9520', '10152', '1840', '1318', '4632', '3265', '1869', '4551', '479', '2885', '3846', '2700', '2288', '1823', '1700', '5000,8', '365', '1026', '2605', '2200,91', '1268', '3328', '3293', '2320', '3149', '3874', '11382', '4600', '887', '730', '1975', '4490', '9530', '2482', '2686', '4053', '1610,4', '1450', '3840', '2383', '1329', '22000', '1302', '2330', '53370', '4318', '5752', '1939', '379', '999', '15000,4', '311', '1264', '1279,9', '1001,7', '1885', '4498', '11754', '950,92', '1653', '555', '956', '2515', '1596', '2327', '1914', '2333', '1829', '6257', '608', '687,7', '4944', '6000,1', '6323', '9270', '11689', '1030', '2170', '3000,91', '518', '21900', '820', '1549', '11230', '1705,5', '1257', '2816', '3984', '372', '11116', '51929', '1477', '1239', '3590', '4898', '1060', '5033', '2010', '4949', '535', '210', '50642', '5980', '2587', '1533', '2290', '813', '10725', '545', '3442', '815', '4980,91', '2173', '634,2', '7995', '583', '2697', '5761', '2166', '16000', '5600', '793', '1108', '1519', '225', '1700,91', '637,3', '2586', '4550', '2405,69', '4647', '1847', '5361', '1299', '5472', '2025', '7822', '1820,94', '1559', '6513', '48800', '3124', '3470', '8750', '888', '1000,1', '8064', '3850', '2200,05', '7816', '18735', '933', '17610', '429', '5718', '55000', '2280', '2955', '160', '4155', '627', '677', '3304', '853', '3990', '258', '574', '1306', '3223', '582', '1143', '2415', '1098', '3880', '1385', '3943', '3277', '4340', '6948', '857', '10136', '553', '6554', '6782', '239', '6820,45', '407', '200', '10759', '8540', '2429', '586', '503', '292,2', '10980', '1523', '846', '974', '1883', '1821', '1543,5', '1876,25', '1040', '554', '16484', '14100', '485,8', '1747', '1195', '1500,2', '2703', '2230', '2796', '2420,1', '450', '279', '6748', '31000', '3710', '4686', '3398', '5730', '628', '16668,82', '395', '670', '8820', '21000', '5095', '6196', '2078', '1291', '4100', '315', '949', '1410', '9400', '1937', '1082', '1842', '2485', '5847', '4091', '320', '9700', '1000,2', '46500', '839', '2765', '14753', '3703', '1002', '5177', '2160', '1568', '463,2', '1677', '342', '7845', '44963', '4190', '513', '567,3', '684', '1313', '7747', '9096', '1933', '28257', '1522', '925', '644', '941', '6387', '4697', '3484', '4444', '1455', '676', '7300', '3995', '1135', '9574', '3392', '2263', '712', '480,9', '3159,86', '626', '488', '2989', '4720', '247', '2535', '11320', '1386', '1046', '1434', '10397', '612', '1638', '46300', '2870', '1003', '2067', '3290', '723', '711', '3585', '3088', '14385', '1442', '1180', '1035', '9568', '393', '3910', '5532,66', '2843', '230', '5999', '5460', '5631', '4358', '889', '760', '1013', '40100', '7659,01', '656', '3499', '544', '46832', '618', '2000,2', '9784', '631', '940', '1123', '3414', '3023', '4640', '1828', '9910', '1181', '7125', '5074', '10706', '4846,96', '14448', '4000,92', '3198', '16250', '1339,9', '10200', '8688', '1597', '1090', '1393', '511', '12910', '4815', '4476', '7882', '247,2', '3619', '776', '2940', '14500', '9444', '717,2', '1176', '8618', '2340', '2052', '2625', '5750', '1004,2', '2331', '3980', '1168', '810', '6320', '2205', '7820', '1360,92', '7528', '7110', '249', '4798', '1540', '2499', '1355', '1390', '45000', '1655', '3666,2', '2324', '2030', '2667', '20645', '19000', '457', '15886', '140000', '3510', '4300', '6396', '1310,62', '674', '9248', '3318', '2520', '3078', '13203', '435', '2000,9', '4580', '355', '2041', '4393', '12999', '9418', '54230', '3596', '742', '2395', '2250', '9788', '542,2', '4230', '3482', '1661', '2459', '1689', '293', '1350', '2027,7', '3257,04', '2437', '2720', '2259', '1894', '6777', '1535', '3284', '950', '4005', '1834', '256,2', '1080', '4850,8', '16070', '1288', '596', '769', '352', '2514', '1482', '13200', '38000', '5143', '1077', '11528', '2770', '893', '2899', '2364', '837,91', '7800', '6491', '260', '12335', '728', '1199', '6480', '3045', '460', '3006', '2670', '13580', '3463', '847', '549', '3930', '2375', '4820', '3385', '2869,9', '3055', '2034', '4390', '1369', '3444', '7243', '2887', '1255,41', '7900', '6010,3', '485', '39910', '5990', '825', '14190', '799', '1238', '1095', '8180', '1433', '48052,1', '1666', '75606', '672', '827', '5784', '960', '9790', '6646', '337,1', '478', '1119', '4983,2', '7520', '413', '2857', '6598', '828', '952', '1830', '756', '2197', '2150', '2044', '1910', '34492', '615', '1213', '1486', '1632', '2855', '4000,5', '2022', '1982', '2958', '4480', '592', '4828', '341,1', '696', '3450', '4565', '489', '516', '448,9', '4335', '2926,4', '336', '4660', '9047', '10695', '2437,5', '1253,7', '1872', '1246', '4817', '1197', '4619', '2394', '1081', '816', '13818', '1233,2', '1380', '6398', '6750', '5950', '11200', '5140', '5900', '3003,3', '10723', '10950', '29500', '2338', '3600', '2698,93', '1680,82', '522,4', '10026', '10516', '7660', '8099', '1267', '1994', '555,2', '9472', '1475', '2399', '11337', '3870', '651', '3230', '2620', '4011', '8250', '10394,5', '3160', '1979', '700,83', '9793', '9039', '4521', '3235', '9955', '2031', '1340,92', '6481,31', '213', '515,85', '625', '6317', '695,2', '4082', '7128', '2016', '6999', '3976,32', '498,6', '636', '588', '3266', '7630', '2125', '1501', '7185', '3391', '2517', '777', '18589', '1895', '4546,8', '2070', '539,09', '5240', '9730', '1353', '2846', '6785', '3134', '4274', '496', '459', '739', '10696', '5461,11', '8923', '1717,92', '690', '2403', '2763', '2937', '1957', '8640', '2807', '1860', '1243', '2029', '2149', '2538', '3678', '5038,1', '9685', '2248', '1158', '7165', '1071', '690,95', '13300', '373', '1573', '629', '4320', '868,42', '1924', '5817', '3400', '9996', '3202', '3822', '747', '54080', '18900', '1563', '10502', '8400', '3288', '2730', '2206', '692', '3092', '10650', '1693', '2685', '3374', '929', '1790', '727', '704', '5192', '1500,5', '4060', '2239', '475', '9754', '1064,2', '771', '421', '1116', '1978', '4138', '4900', '3568', '1685', '2028', '35000', '2491', '3037', '353', '1460', '606', '9900', '8650', '4700', '7541', '4348', '4081', '2084', '1784,81', '3020', '7623,3', '1271,1', '811', '9979', '1897', '774', '1959', '538', '5790', '15140', '842', '30000', '1462', '6890', '1600', '334', '9375', '921', '2369', '2596', '1680', '2760', '637,4', '1018', '1148', '5279', '13807', '867', '383', '1376'}\n",
      "\n",
      "\n",
      "==========\n",
      "LOAN_AVG_DLQ_AMT\n",
      "{'604,353333333333', '3840', '1450', '1880,59', '1830,2', '702,565', '2739,76', '1258,69', '6650', '2370', '3570', '2330', '862,43', '216,59', '1314,58666666667', '856,64', '849,91', '1900', '1920', '791,98', '1831,51333333333', '1093,75', '1539,2', '2066,905', '1409,965', '1953,6', '6260', '4250', '5030', '580', '1247,92', '1160,96', '1931,44', '3860,18', '2573,8', '767,7', '683,9975', '1970', '1634,81', '526,563333333333', '2732,2', '425,97', '2273,72', '5394,29', '1879,28', '2060', '1894,04', '1581,82', '1459,54666666667', '1050', '1030', '1113,74', '2170', '4160', '658,42', '2598,9', '1088,05', '2858,6', '820', '1109,855', '2900', '1299,55', '3716,35', '1950', '1411,835', '2550', '1170', '567,16', '2961', '772,73', '1160', '648,68', '1258,95', '2097,97333333333', '3914,24', '543,33', '830,7', '3590', '4158,85', '1060', '4001,34', '2010', '1399,25', '1589,92333333333', '6490', '2140', '1040,78666666667', '5830', '327,98', '1720', '1320', '1175,57', '3209,5', '2290', '3170', '1241,32428571429', '1804,9', '1369,755', '2100', '560', '1593,76', '1716,52', '763,185', '3460', '959,955', '2441,4', '100', '673,6825', '598,5', '2500', '1144,98', '1599,9', '5370', '860', '728,49', '1312,44', '3240', '1810', '3283,1', '1305,97', '1427,295', '769,43', '3119,99', '2112,17', '2510,2', '1880', '988,85', '2590,15', '4550', '2497,09', '1398,58', '5545,0225', '966,07', '5075,99', '330', '656,705', '2070,52', '2310', '880,2', '2441,465', '4200', '605,32', '499,69', '1171,686', '1539,13', '3470', '2554,005', '3540', '724,38', '516,18', '3850', '1677,48', '862,5', '2490', '1373,99333333333', '4370', '1731,06', '1940', '1300,386', '1590', '1413,765', '6390', '4530', '756,1', '3769,3625', '2280', '1283,89', '610,986666666667', '5850', '2957,71', '5560', '1259,43', '1179,394', '1120', '1710', '3990', '1317,06', '882,01', '5170', '3768,7', '1535,89', '3777,93333333333', '1220', '2258,3', '796,59', '1776,96666666667', '1400', '2979,31', '1020', '855', '3024', '880', '3880', '3330', '749,82', '4630', '559,94', '2751,25', '553', '1761,03', '3180', '722,59', '825,10875', '535,53', '1200', '1222,06', '5048,19', '1197,38333333333', '2850', '680', '550', '990,85', '1313,33333333333', '13920', '2386,505', '989,39', '6689,82', '586,646666666667', '1410,53333333333', '455,32', '2142,2', '5320', '1040', '1420', '1439,94', '2585', '2707,25', '560,86', '2235,225', '1321,68833333333', '1597,92', '1150', '2464,55', '5526,72666666667', '1697,22', '5872,64', '2701,5', '1296,4', '437,26', '619,73', '980,42', '2230', '1269,82', '3780', '2050', '450', '812,693333333333', '8020', '4000', '5870', '2157,32', '3959', '38,32', '3630', '1107,5', '3072,475', '1325,63', '4164,34', '5110', '779,415', '604,43', '569,121428571429', '619,4', '3760', '339,83', '651,16', '1640', '670', '1601,63', '1056,95', '1290', '1439,9', '2202,69', '1149,495', '2742,25', '782,21', '2262,12', '735', '1065,62', '1717,47333333333', '2276,54666666667', '2429,09', '1410', '370,77', '702,23', '2259,35', '554,36', '2139,63375', '1745,7', '678,2', '6133,41', '2340,06777777778', '1594,914', '1959,99', '1250', '2180', '946,49', '2101,256', '3070', '1663,27', '1402,92', '2660', '2480', '2629,87', '1095,61', '770', '310,126', '1259,71333333333', '2272,5', '1690', '2361,22', '1029,75', '1563,45', '3040', '2160', '1429,99', '2349,51', '1130', '1789,04', '2269,735', '2925', '970,155', '2031,34333333333', '110,91', '957,59', '1468,38', '1957,21', '1270', '790', '1288,7', '4190', '4350', '1070', '4884,95', '1851,55', '1892,238', '789,23', '2082,47857142857', '1319,56', '472,11', '1108,574', '2220', '809,42', '870', '1433,4', '2840', '613,12', '1671,7', '3120', '1724,15333333333', '767,566', '1276,66666666667', '896,31', '440', '768,97', '2237,245', '1288,898', '1007,8', '1140,2', '3110', '1829,73', '1939,61', '704,93', '6080', '1205,4725', '904,08', '578,06', '5550', '1560', '1344,33', '3960', '1164,99666666667', '269,51', '682,56', '4680', '2210', '1147,5', '3589,09', '4120', '2989,98', '3659,0625', '2410', '1190', '115,65', '549,88', '1135', '976,68', '2343,41', '1077,605', '4940', '49,35', '762,93', '1778,635', '3810', '582,386666666667', '2503,19', '1608,255', '600,93', '289,02', '2580', '957,4', '568,7', '979,63', '776,3', '366,58', '1740', '2518,18', '1033,905', '3010', '2794,22333333333', '1424,9175', '986,606666666667', '777,84', '875,2', '1402,43', '2910', '1309,89', '2870', '1127,76', '355,04', '673,02', '1850', '1085,5', '4020', '4827,666', '603,55', '665,57', '1240', '2650', '2379,46', '1180', '800', '1867,66166666667', '3910', '1179,86', '2044,155', '740', '5510', '3610', '620', '750,175', '720', '1098,8', '1899,7', '4810', '760', '1620', '669,12', '1498,26', '4690', '846,74', '726,57', '1340', '1138,2', '3315', '1052,63', '386,666666666667', '1510', '1258,585', '1134,58', '2477,64', '2750', '2400', '600', '451,495', '631', '940', '2105', '4640', '710', '1768,07', '2524,28', '1196,43', '2128,74', '1120,93', '1002,22', '1439,815', '1985,3', '918,55', '2430', '2090', '1200,99', '2059,46', '1639,24571428571', '630', '270', '1626,75', '1090', '0', '1477,37', '2560', '5040', '370', '28012,2', '588,9', '502,1', '3480', '892,18', '1512', '2151,50333333333', '3428,56', '2940', '2830', '1570', '2920', '1010', '3200', '1605,95', '887,79', '2340', '2680', '438,19', '2409,01', '1570,46', '758,95', '3651,445', '989,15', '2910,25', '2190', '1010,43', '674,263333333333', '1411,31', '1760', '3964,85', '5076,65', '810', '2779,4', '1942,72', '1509,44', '310', '827,57', '6500', '2368,84', '5160', '2679,82', '2540', '2916,18', '1555,00090909091', '682', '2647,9', '1540', '1093,22', '965,1', '7100', '2154,02', '224,59', '2380', '613,21', '1390', '951', '2570', '651,625', '94,89', '663,05', '917,57', '510', '855,675', '714', '444', '909,424285714286', '2030', '863,68', '1258,49', '3691,2675', '1538,69', '497,62', '5780', '2568,45', '2466,8625', '1275,785', '3940', '4300', '3510', '1780', '2265', '2520', '2009', '1314,11', '2530', '1155,02142857143', '1182,23', '2440', '1007,36', '892,95', '684,89', '3637,43', '1259,39', '1841,9', '1359,6', '0,04', '2018,255', '3520', '2350', '367,35', '2250', '1770', '2178', '1470', '1845,5', '4310', '1095,89', '849,19', '1552,325', '429,11', '1094', '670,085', '63,31', '4760', '890', '7670', '1650', '2240', '517,51', '1350', '2088,86', '2293,65', '1529,06', '2960', '400', '2720', '673,89', '798,53', '1154,34', '1330', '1139,49', '1116,49', '846,55', '1649,37', '5603,82', '1781,225', '3620', '3172,83', '950', '2820', '3140', '1080', '818,74', '660', '177,34', '1626', '1102,7', '4445,6', '1909,16', '1418,86', '1003,255', '2201,11', '2950', '2790', '1077,03', '2640', '1329,54', '3089,155', '1520', '2083', '640', '3500', '457,71', '3237,94', '910', '894,29', '2549,52', '567,51', '761,866666666667', '2359,898', '2770', '1070,52', '2880', '857,956666666667', '791,56', '1878,86', '1088,48', '6310', '3190', '879', '509,52', '1686,92', '1090,8', '2547,85', '763,3', '1550', '911,793333333333', '2670', '1072,34', '677,474', '4140', '2240,34', '3750', '1508,79', '4260', '1141,06', '1692,49', '1930,595', '4390', '901,64', '980', '3635,77', '4070', '1480', '2406,8', '2261,19', '820,124', '1670', '780', '1582,435', '830,53', '948,58', '2701,26', '3539,82', '984,79', '1260', '532,24', '740,575', '552,57', '3018,275', '700', '1405,53', '2263,2', '2005,15', '2372,77', '1666,28', '960', '860,505', '3100', '2360', '990', '1793,66', '1530', '1230', '2120', '758,82', '7010', '5428,62', '1280', '1070,05', '920', '2980', '1830', '908,78', '3660', '6130', '1459,99', '2020', '900', '2492,54', '1352,85714285714', '1844,885', '433,306666666667', '4376,4', '2150', '865,05', '2690,33333333333', '1848,05', '1910', '3300', '1706,3', '769,915', '1015', '3250', '3702,8', '1208,09', '2959', '5430', '2755,21', '1113,335', '1388,83769230769', '2890', '7340', '2699,88', '2569,05', '859,92', '1890', '4565', '1000', '1108,96333333333', '2127,1', '2702,4', '1478,49', '4210', '1713,74', '1152,15', '1800', '1920,9575', '4055,03', '1144,03', '755,063333333333', '3509,805', '4290', '240', '1930', '824,581428571429', '1145,85', '4660', '2186,585', '2467,33', '1750', '596,29', '918,255', '1097,86', '3410', '2782,89', '3106,29', '647,42', '630,49', '5760', '1100', '2425', '481,506', '300', '1053', '1380', '778,32', '1580', '2990', '836,6', '5140', '802,36', '2315,64857142857', '875,09', '1740,19', '849,085', '1733,88', '3600', '766,26', '1932,5', '1300', '2084,32', '913,4975', '1980', '2185', '1091,2', '433,3425', '668,53', '578,3', '1266,34', '2676,2125', '3000', '1670,18', '4770', '5698,46', '869,26', '1371,86', '1742,41', '699,78', '14870', '3433,42', '966,953333333333', '4508,2', '1683,49', '3230', '4030', '991,19', '1960', '840', '3102,49333333333', '2590', '3501,45', '1870', '1296,74', '2365,47', '1059,47', '3160', '954,65', '3322,7775', '3971,6', '1516,872', '1374,28', '18307,16', '605,496', '1675,75', '480', '2656,68', '1286,73', '4920', '1272,72', '3820', '2110', '1798,49', '62,46', '570', '4472,91333333333', '821,93', '5410', '136,76', '367', '3440', '360', '1639,99', '430', '1119,27', '3060', '1810,155', '2269,565', '2163,94', '2051,5', '4050', '3310', '1004,225', '1033', '2370,01', '59,68', '2270', '3260', '2094,3', '3762,5', '4450', '5397,15', '2470', '3150', '6200', '1387,15', '1199,27', '4710', '3202,2', '2450', '2810', '324,16', '3770', '588,13', '610', '518,9', '3490', '51,8', '2070', '4650', '957,46', '3080', '1684,04', '1610', '752,923076923077', '620,75', '4115,33333333333', '560,36', '1820', '3506,07', '837,48', '812,11', '3360', '3086,66666666667', '3279,705', '850', '3420', '2509,38', '1749,69', '9060', '1391,47', '1489,13', '4620', '1283,93', '1110', '1386,115', '975', '2130', '690', '2300', '1490', '1426,72', '478,13', '1860', '981,71', '2013,19', '2740', '821,45', '1730', '1679,2', '2538', '1492,404', '1889,43', '1259,1', '1986,88', '1549,18', '3390', '1922,69', '4729,07', '3050', '14990', '1370', '87,39', '5650', '2239,37', '930', '2000', '1360', '5500', '1140', '2090,53', '1176,82', '315,796666666667', '1237,24', '2200', '1615', '1215', '2232,28333333333', '4320', '1875,70333333333', '2260', '2476,77', '1260,55', '2462,1', '3670', '3400', '533', '845,55', '816,83', '3530', '3037,58', '6041,86', '4220', '3782,39', '3509,22', '134,78', '2610', '1636,04', '1066,605', '2710', '2247,51', '500', '805,86', '3970', '4400', '1193,9675', '1440', '6660', '1324,41285714286', '1949,8', '3900', '2080', '1790', '0,71', '1833,77', '782,705', '2119,77', '830', '2630', '642,31', '2860', '2390', '1751,37', '446,31', '1010,55', '1215,45777777778', '1066,005', '3030', '6070', '3201,95', '859,84', '3626,91', '1010,27', '1310', '1069,6', '11310', '530', '599,19', '957,63', '540', '9280', '2040', '2287,02', '1412,55', '1304,0625', '2158,72', '1210', '840,7', '806,19', '1068,47', '1264,23', '1230,63', '2002,45', '3127,19', '823,54', '1630', '1335,47', '543,17', '1386,96', '1002,60333333333', '2796,66', '2800', '2970', '1460', '2510', '750', '1817,76', '1292,59', '2816,25', '558,06625', '1840', '4700', '872,065', '650', '5269,78', '1348,68', '380', '753', '687,11', '776,59', '1990', '2326,81', '1496,3275', '1149,395', '3020', '7780', '2600', '804,32', '2700', '3870,25', '510,136666666667', '3303,2', '1700', '879,74', '970', '1288,63', '1430', '198,88', '1792,71', '2320', '1883,04', '2184,66', '1591,94', '1155,125', '836,79', '1614,36', '574,21', '896,1', '1441,57', '4600', '1221,92', '490', '730', '1600', '727,63', '407,8', '4240', '1006,59', '1966,99', '1500', '1680', '2760', '929,51', '2419,9', '709,96', '2930', '3890'}\n",
      "\n",
      "\n",
      "==========\n",
      "LOAN_MAX_DLQ_AMT\n",
      "{'1056,64', '997,66', '1450', '3840', '1880,59', '1519,64', '2739,76', '2289,89', '2370', '6650', '2330', '331', '216,59', '3570', '856,64', '849,91', '1900', '1920', '791,98', '1539,2', '862,43', '1953,6', '6260', '4250', '5030', '580', '1247,92', '1160,96', '1324,5', '3860,18', '2573,8', '1931,44', '767,7', '1970', '2732,2', '5394,29', '2060', '1894,04', '1581,82', '1050', '1030', '1113,74', '2170', '4160', '1427,4', '658,42', '2598,9', '1088,05', '2858,6', '820', '2900', '1299,55', '3716,35', '1950', '567,16', '2550', '1170', '772,73', '1160', '648,68', '3914,24', '543,33', '830,7', '3590', '4158,85', '1060', '4001,34', '2010', '6490', '2281,1', '2140', '5830', '327,98', '1720', '1320', '1175,57', '2290', '3170', '1804,9', '2100', '560', '1593,76', '1716,52', '3460', '2441,4', '100', '937,79', '598,5', '2500', '755,76', '1144,98', '1599,9', '5370', '860', '4830', '728,49', '3240', '1810', '3283,1', '769,43', '2112,17', '1783,55', '2510,2', '1880', '988,85', '3018,62', '2102,75', '2590,15', '4550', '2497,09', '1398,58', '966,07', '5075,99', '330', '2310', '880,2', '2969,75', '4200', '605,32', '499,69', '1539,13', '3470', '586,5', '828,51', '3540', '724,38', '516,18', '736,3', '3850', '1677,48', '862,5', '2490', '1386,14', '4370', '1731,06', '1940', '1870,69', '1590', '2642,83', '6390', '4530', '756,1', '2280', '5850', '2957,71', '5560', '1259,43', '1120', '1710', '3990', '1317,06', '660,86', '5170', '3768,7', '849,07', '2782,93', '1819,09', '1220', '2258,3', '796,59', '943,56', '1400', '1020', '880', '3880', '3330', '749,82', '1930,47', '2375,59', '2751,25', '2497', '620,18', '553', '1761,03', '3180', '722,59', '1365', '535,53', '1200', '1819,26', '489,13', '1222,06', '5048,19', '2850', '680', '550', '990,85', '13920', '3111,86', '989,39', '6689,82', '3920', '2142,2', '5320', '1040', '1420', '1439,94', '2707,25', '609,52', '1597,92', '1150', '367', '1296,4', '1697,22', '5872,64', '437,26', '619,73', '980,42', '2058,71', '2230', '3780', '2050', '450', '8020', '1650,53', '5470', '4000', '5870', '2157,32', '3959', '38,32', '3630', '1325,63', '4164,34', '490,88', '5110', '604,43', '339,83', '3760', '651,16', '1640', '670', '1601,63', '1056,95', '1290', '1439,9', '2202,69', '2742,25', '2262,12', '1065,62', '2429,09', '1410', '370,77', '702,23', '3220', '554,36', '3780,1', '1745,7', '678,2', '6133,41', '1959,99', '1250', '2180', '946,49', '776,6', '3070', '1663,27', '2660', '2480', '2629,87', '770', '919,88', '604,76', '572,22', '1690', '1029,75', '3040', '1563,45', '2160', '1429,99', '2349,51', '1130', '1789,04', '2902,89', '110,91', '957,59', '1468,38', '1957,21', '1270', '790', '1288,7', '4190', '4350', '1070', '4884,95', '1851,55', '2589,2', '789,23', '559,94', '1319,56', '472,11', '2220', '809,42', '870', '1433,4', '2840', '1312,44', '1671,7', '3120', '1093,75', '1095,61', '896,31', '440', '768,97', '1007,8', '1140,2', '1105,07', '1479,51', '3110', '1939,61', '704,93', '6080', '904,08', '918,83', '578,06', '5550', '1560', '1344,33', '3960', '269,51', '4680', '2210', '3589,09', '4120', '2989,98', '2410', '1190', '115,65', '549,88', '4940', '976,68', '2343,41', '49,35', '762,93', '3810', '2503,19', '600,93', '289,02', '2580', '957,4', '568,7', '979,63', '776,3', '366,58', '1740', '2518,18', '3010', '1249,61', '777,84', '875,2', '1402,43', '2910', '1309,89', '2870', '883,33', '1127,76', '355,04', '673,02', '1850', '1085,5', '4020', '603,55', '3357,52', '665,57', '1240', '2650', '2379,46', '1180', '937,6', '800', '3910', '1179,86', '740', '3610', '620', '1098,8', '720', '760', '1620', '669,12', '724,93', '1498,26', '4690', '846,74', '726,57', '1340', '1138,2', '1052,63', '1510', '1134,58', '2477,64', '2750', '2400', '600', '631', '940', '4640', '710', '1768,07', '2524,28', '1196,43', '1120,93', '1002,22', '1985,3', '918,55', '2430', '2090', '1860,72', '1200,99', '2059,46', '630', '270', '1626,75', '1090', '0', '1477,37', '2560', '5040', '370', '2398,8', '28012,2', '481,51', '502,1', '3480', '892,18', '1489,45', '3428,56', '2940', '2830', '1570', '2920', '1010', '3200', '887,79', '470', '2340', '2680', '438,19', '2409,01', '758,95', '1387,47', '989,15', '2190', '797,16', '1828,89', '1411,31', '1760', '3964,85', '5076,65', '810', '2779,4', '1942,72', '1509,44', '310', '827,57', '6500', '2368,84', '5160', '2679,82', '2540', '2916,18', '682', '2647,9', '1540', '1093,22', '965,1', '7100', '2154,02', '224,59', '2380', '613,21', '1390', '2570', '663,05', '94,89', '444', '917,57', '510', '714', '2220,72', '2030', '863,68', '1258,49', '1538,69', '3700', '497,62', '5780', '2568,45', '605,59', '3940', '4300', '3510', '1780', '2265', '2520', '2009', '1086,57', '2530', '2440', '892,95', '684,89', '3637,43', '1259,39', '1841,9', '5340', '1359,6', '1351,06', '0,04', '3520', '2350', '367,35', '2250', '1770', '2178', '1470', '1845,5', '4310', '1095,89', '849,19', '1450,22', '429,11', '1094', '63,31', '2240', '890', '4760', '1650', '7670', '517,51', '1350', '2088,86', '2293,65', '1529,06', '2960', '400', '2720', '1370,25', '673,89', '798,53', '1154,34', '1330', '1139,49', '1116,49', '846,55', '1649,37', '5603,82', '3620', '3172,83', '950', '2820', '3140', '1080', '818,74', '660', '177,34', '1102,7', '1909,16', '1418,86', '2201,11', '2950', '2790', '1077,03', '2640', '1520', '2083', '640', '3500', '457,71', '783', '3237,94', '910', '894,29', '2549,52', '567,51', '2770', '1070,52', '2880', '791,56', '3190', '589,45', '6310', '879', '1686,92', '1090,8', '2547,85', '790,77', '1550', '2670', '4140', '840,4', '3750', '1508,79', '4260', '1141,06', '826,77', '1840,14', '1692,49', '4390', '901,64', '980', '3635,77', '4070', '1480', '2406,8', '2261,19', '1670', '780', '830,53', '948,58', '2701,26', '3539,82', '1260', '552,57', '700', '1405,53', '2263,2', '2005,15', '2372,77', '1666,28', '960', '2064,03', '3100', '2360', '990', '1793,66', '1530', '1230', '2120', '7010', '1070,05', '5428,62', '954,34', '1280', '920', '2980', '1830', '908,78', '3660', '6130', '1459,99', '2020', '900', '2492,54', '1395,7', '2044,32', '4446,3', '2150', '1848,05', '1910', '3300', '1706,3', '1110,39', '1015', '3250', '3702,8', '1208,09', '2959', '5430', '2755,21', '2890', '7340', '1046,01', '2699,88', '2569,05', '859,92', '1890', '4565', '1000', '2127,1', '3450', '2702,4', '1478,49', '4210', '1800', '2361,22', '4055,03', '1144,03', '1300,16', '4290', '240', '1930', '1145,85', '4660', '2467,33', '1750', '596,29', '1097,86', '3410', '2064,08', '3106,29', '647,42', '630,49', '5760', '4880', '1100', '2858,62', '2425', '300', '1053', '1380', '778,32', '1580', '2990', '836,6', '5140', '802,36', '875,09', '581,67', '1740,19', '1733,88', '3600', '766,26', '1300', '2084,32', '1980', '578,3', '668,53', '1266,34', '3000', '1670,18', '4770', '5698,46', '869,26', '1371,86', '1742,41', '699,78', '14870', '3433,42', '4508,2', '1683,49', '3230', '2620', '2979,35', '991,19', '4030', '1960', '840', '2590', '3501,45', '1870', '1296,74', '2365,47', '1059,47', '3160', '954,65', '3971,6', '1374,28', '480', '2656,68', '3820', '4920', '1272,72', '4960', '2110', '1798,49', '62,46', '570', '821,93', '5410', '136,76', '1185,5', '3440', '360', '1639,99', '430', '1119,27', '3060', '2163,94', '2051,5', '4050', '3310', '1033', '59,68', '2270', '3260', '2094,3', '3762,5', '4450', '5397,15', '2470', '3150', '3560', '6200', '7890', '1387,15', '1199,27', '4710', '3202,2', '2450', '3089,5', '2810', '324,16', '1154,9', '3770', '588,13', '610', '518,9', '3490', '51,8', '2070', '4650', '3080', '3285,74', '1610', '620,75', '560,36', '1820', '3506,07', '837,48', '812,11', '3360', '961,94', '3420', '850', '2509,38', '1749,69', '9060', '1391,47', '1489,13', '4620', '1283,93', '690', '1110', '975', '2130', '2300', '1490', '1426,72', '478,13', '1860', '981,71', '2013,19', '2740', '1730', '1679,2', '1889,43', '1259,1', '1986,88', '1549,18', '18310', '3390', '1012,9', '4729,07', '3050', '14990', '1370', '87,39', '5650', '2239,37', '930', '2000', '1360', '5500', '1140', '1837,31', '2090,53', '1176,82', '2200', '1615', '4320', '918,28', '2260', '1260,55', '2462,1', '3670', '3400', '533', '1302,38', '816,83', '3530', '6041,86', '4220', '1387,3', '3782,39', '3509,22', '134,78', '2610', '1636,04', '2710', '2247,51', '500', '3970', '4400', '1440', '6660', '1949,8', '3900', '2080', '1790', '0,71', '1833,77', '1672,88', '2618,78', '2119,77', '830', '2630', '642,31', '2860', '2390', '1751,37', '446,31', '1010,55', '3030', '6070', '3201,95', '3626,91', '1010,27', '473,16', '1310', '5980,18', '11310', '1069,6', '530', '910,63', '1901,3', '599,19', '5580', '957,63', '540', '9280', '2040', '2287,02', '1068,47', '2158,72', '1210', '806,19', '1230,63', '1452', '2002,45', '3127,19', '823,54', '1630', '1408,32', '1335,47', '543,17', '2796,66', '2800', '2970', '1460', '2510', '750', '1817,76', '1292,59', '2816,25', '1840', '4700', '650', '5269,78', '1348,68', '776,59', '687,11', '1990', '3020', '2600', '804,32', '2700', '3870,25', '3303,2', '1090,01', '1700', '879,74', '970', '590', '1288,63', '1430', '1792,71', '2320', '1883,04', '2184,66', '1591,94', '836,79', '1614,36', '574,21', '896,1', '4600', '1221,92', '490', '730', '1600', '856,3', '407,8', '1066', '4240', '1006,59', '1966,99', '1500', '1680', '2760', '4490', '1729,66', '2419,9', '2930', '3890'}\n",
      "\n",
      "\n",
      "==========\n",
      "sample\n",
      "{'train'}\n",
      "\n",
      "\n"
     ]
    }
   ],
   "source": [
    "for i in df_train.columns: # перебираем все столбцы\n",
    "    if str(df_train[i].dtype) == 'object': # если тип столбца - object\n",
    "        print('='*10)\n",
    "        print(i) # выводим название столбца\n",
    "        print(set(df_train[i])) # выводим все его значения (но делаем set - чтоб значения не повторялись)\n",
    "        print('\\n') # выводим пустую строку"
   ]
  },
  {
   "cell_type": "markdown",
   "metadata": {
    "collapsed": true
   },
   "source": [
    "Mожно заметить что некоторые переменные, которые обозначены как строки (например PERSONAL_INCOME) на самом деле числа, но по какой-то причине были распознаны как строки\n",
    "\n",
    "Причина же что использовалась запятая для разделения не целой части числа.."
   ]
  },
  {
   "cell_type": "markdown",
   "metadata": {},
   "source": [
    "Перекодировать их можно например так:"
   ]
  },
  {
   "cell_type": "code",
   "execution_count": 15,
   "metadata": {},
   "outputs": [
    {
     "data": {
      "text/plain": [
       "0         7000.0\n",
       "1         4100.0\n",
       "2        40000.0\n",
       "3        20000.0\n",
       "4        17000.0\n",
       "5         7000.0\n",
       "6        10000.0\n",
       "7         7500.0\n",
       "8         9000.0\n",
       "9         4000.0\n",
       "10       15000.0\n",
       "11       12000.0\n",
       "12        8000.0\n",
       "13       20000.0\n",
       "14       18500.0\n",
       "15       14000.0\n",
       "16        6000.0\n",
       "17        9000.0\n",
       "18        5000.0\n",
       "19       15000.0\n",
       "20        6100.0\n",
       "21       22180.0\n",
       "22        9000.0\n",
       "23        8700.0\n",
       "24        7000.0\n",
       "25        6000.0\n",
       "26       15000.0\n",
       "27       12000.0\n",
       "28       11000.0\n",
       "29        8000.0\n",
       "          ...   \n",
       "30103    12000.0\n",
       "30104    10000.0\n",
       "30105    10000.0\n",
       "30106     8000.0\n",
       "30107    11000.0\n",
       "30108     7000.0\n",
       "30109    10000.0\n",
       "30110     8000.0\n",
       "30111    25000.0\n",
       "30112    10000.0\n",
       "30113    12000.0\n",
       "30114     7000.0\n",
       "30115    12000.0\n",
       "30116    14500.0\n",
       "30117    12000.0\n",
       "30118     8000.0\n",
       "30119     7000.0\n",
       "30120    10000.0\n",
       "30121    10000.0\n",
       "30122    10000.0\n",
       "30123    15000.0\n",
       "30124     8100.0\n",
       "30125     9500.0\n",
       "30126    13000.0\n",
       "30127    10000.0\n",
       "30128    12000.0\n",
       "30129    10000.0\n",
       "30130     6000.0\n",
       "30131     4500.0\n",
       "30132    20000.0\n",
       "Name: PERSONAL_INCOME, Length: 30133, dtype: float64"
      ]
     },
     "execution_count": 15,
     "metadata": {},
     "output_type": "execute_result"
    }
   ],
   "source": [
    "df['PERSONAL_INCOME'].map(lambda x: x.replace(',', '.')).astype('float')"
   ]
  },
  {
   "cell_type": "markdown",
   "metadata": {},
   "source": [
    "Такой эффект наблюдается в столбцах `PERSONAL_INCOME`, `CREDIT`, `FST_PAYMENT`, `LOAN_AVG_DLQ_AMT`, `LOAN_MAX_DLQ_AMT`"
   ]
  },
  {
   "cell_type": "markdown",
   "metadata": {},
   "source": [
    "### Теперь ваше небольшое исследование"
   ]
  },
  {
   "cell_type": "markdown",
   "metadata": {
    "collapsed": true
   },
   "source": [
    "#### Задание 1. Есть ли пропуски в данных? Что с ними сделать?\n",
    "\n",
    "(единственного верного ответа нет - аргументируйте)"
   ]
  },
  {
   "cell_type": "markdown",
   "metadata": {},
   "source": [
    "Количественные колонки например PREVIOUS_CARD_NUM_UTILIZED заполнить нулями. Так же есть здесь пропуски в строковых колонках, которые на самом деле цифры. Их нужно конвертировать в числа и заполнить пропуски медианой"
   ]
  },
  {
   "cell_type": "markdown",
   "metadata": {},
   "source": [
    "#### Задание 2. Есть ли категориальные признаки? Что с ними делать?"
   ]
  },
  {
   "cell_type": "markdown",
   "metadata": {
    "collapsed": true
   },
   "source": [
    "Их можно конвертировать в числа или разбить на колонки"
   ]
  },
  {
   "cell_type": "markdown",
   "metadata": {},
   "source": [
    "#### Задание 3. Фунция предобработки"
   ]
  },
  {
   "cell_type": "markdown",
   "metadata": {},
   "source": [
    "Напишите функцию, которая бы\n",
    "\n",
    "* Удаляло идентификатор `AGREEMENT_RK`\n",
    "* Избавлялась от проблем с '.' и ',' в стобцах PERSONAL_INCOME, CREDIT, FST_PAYMENT, LOAN_AVG_DLQ_AMT, LOAN_MAX_DLQ_AMT\n",
    "* Что-то делала с пропусками\n",
    "* Кодировала категориальные признаки\n",
    "\n",
    "В результате, ваш датафрейм должен содержать только числа и не содержать пропусков!"
   ]
  },
  {
   "cell_type": "code",
   "execution_count": 16,
   "metadata": {},
   "outputs": [],
   "source": [
    "def preproc_data(df_input):\n",
    "    df_output = df_input.copy()\n",
    "    \n",
    "    ## Your Code Here\n",
    "    df_output = df_output.drop(['AGREEMENT_RK', 'MARITAL_STATUS'], axis=1)\n",
    "    df_output = df_output.drop(['GEN_INDUSTRY', 'GEN_TITLE', 'ORG_TP_STATE', 'ORG_TP_FCAPITAL',\n",
    "                                'JOB_DIR', 'REG_ADDRESS_PROVINCE', 'FACT_ADDRESS_PROVINCE',\n",
    "                                'POSTAL_ADDRESS_PROVINCE', 'TP_PROVINCE', 'REGION_NM'], axis=1)\n",
    "    \n",
    "    for col in ['PERSONAL_INCOME', 'CREDIT', 'FST_PAYMENT', 'LOAN_AVG_DLQ_AMT', 'LOAN_MAX_DLQ_AMT']:\n",
    "        df_output.loc[:, col] = df_input.loc[:, col].\\\n",
    "            map(lambda x: x.replace(',', '.')).\\\n",
    "            astype('float')\n",
    "    \n",
    "    df_output.loc[:,'EDUCATION'] = df_input.loc[:,'EDUCATION'].replace({\n",
    "        'Неполное среднее': 0,\n",
    "        'Среднее специальное': 1, \n",
    "        'Среднее': 2,\n",
    "        'Неоконченное высшее': 3, \n",
    "        'Высшее': 4, \n",
    "        'Два и более высших образования': 5, \n",
    "        'Ученая степень': 6\n",
    "    })\n",
    "    \n",
    "    df_output.loc[:, 'FAMILY_INCOME'] = df_input.loc[:, 'FAMILY_INCOME'].\\\n",
    "        replace({\n",
    "            'до 5000 руб.': 0,\n",
    "            'от 5000 до 10000 руб.': 1,\n",
    "            'от 10000 до 20000 руб.': 2,\n",
    "            'от 20000 до 50000 руб.': 3,\n",
    "            'свыше 50000 руб.': 4\n",
    "        })\n",
    "    \n",
    "    marital_statuses = [\n",
    "        'Не состоял в браке', \n",
    "        'Гражданский брак', \n",
    "        'Состою в браке',\n",
    "        'Вдовец/Вдова',\n",
    "        'Разведен(а)', \n",
    "    ]\n",
    "    for i, status in enumerate(marital_statuses):\n",
    "        df_output.loc[:, 'MARITAL_STATUS_{}'.format(i)] = df_input.loc[:, 'MARITAL_STATUS'].\\\n",
    "            map(lambda e: int(e == status))\n",
    "    \n",
    "    worktime_med = df_input['WORK_TIME'].median()\n",
    "    df_output.loc[:, 'WORK_TIME'] = df_input.loc[:, 'WORK_TIME'].\\\n",
    "        map(lambda v: worktime_med if pd.isna(v) else v)\n",
    "    \n",
    "    df_output.loc[:, 'PREVIOUS_CARD_NUM_UTILIZED'] = df_input.loc[:,'PREVIOUS_CARD_NUM_UTILIZED'].\\\n",
    "        map(lambda v: 0 if pd.isna(v) else v)\n",
    "    \n",
    "    return df_output"
   ]
  },
  {
   "cell_type": "code",
   "execution_count": 17,
   "metadata": {},
   "outputs": [
    {
     "name": "stdout",
     "output_type": "stream",
     "text": [
      "<class 'pandas.core.frame.DataFrame'>\n",
      "RangeIndex: 30133 entries, 0 to 30132\n",
      "Data columns (total 46 columns):\n",
      "TARGET                        30133 non-null int64\n",
      "AGE                           30133 non-null int64\n",
      "SOCSTATUS_WORK_FL             30133 non-null int64\n",
      "SOCSTATUS_PENS_FL             30133 non-null int64\n",
      "GENDER                        30133 non-null int64\n",
      "CHILD_TOTAL                   30133 non-null int64\n",
      "DEPENDANTS                    30133 non-null int64\n",
      "EDUCATION                     30133 non-null int64\n",
      "FAMILY_INCOME                 30133 non-null int64\n",
      "PERSONAL_INCOME               30133 non-null float64\n",
      "REG_FACT_FL                   30133 non-null int64\n",
      "FACT_POST_FL                  30133 non-null int64\n",
      "REG_POST_FL                   30133 non-null int64\n",
      "REG_FACT_POST_FL              30133 non-null int64\n",
      "REG_FACT_POST_TP_FL           30133 non-null int64\n",
      "FL_PRESENCE_FL                30133 non-null int64\n",
      "OWN_AUTO                      30133 non-null int64\n",
      "AUTO_RUS_FL                   30133 non-null int64\n",
      "HS_PRESENCE_FL                30133 non-null int64\n",
      "COT_PRESENCE_FL               30133 non-null int64\n",
      "GAR_PRESENCE_FL               30133 non-null int64\n",
      "LAND_PRESENCE_FL              30133 non-null int64\n",
      "CREDIT                        30133 non-null float64\n",
      "TERM                          30133 non-null int64\n",
      "FST_PAYMENT                   30133 non-null float64\n",
      "DL_DOCUMENT_FL                30133 non-null int64\n",
      "GPF_DOCUMENT_FL               30133 non-null int64\n",
      "FACT_LIVING_TERM              30133 non-null int64\n",
      "WORK_TIME                     30133 non-null float64\n",
      "FACT_PHONE_FL                 30133 non-null int64\n",
      "REG_PHONE_FL                  30133 non-null int64\n",
      "GEN_PHONE_FL                  30133 non-null int64\n",
      "LOAN_NUM_TOTAL                30133 non-null int64\n",
      "LOAN_NUM_CLOSED               30133 non-null int64\n",
      "LOAN_NUM_PAYM                 30133 non-null int64\n",
      "LOAN_DLQ_NUM                  30133 non-null int64\n",
      "LOAN_MAX_DLQ                  30133 non-null int64\n",
      "LOAN_AVG_DLQ_AMT              30133 non-null float64\n",
      "LOAN_MAX_DLQ_AMT              30133 non-null float64\n",
      "PREVIOUS_CARD_NUM_UTILIZED    30133 non-null float64\n",
      "sample                        30133 non-null object\n",
      "MARITAL_STATUS_0              30133 non-null int64\n",
      "MARITAL_STATUS_1              30133 non-null int64\n",
      "MARITAL_STATUS_2              30133 non-null int64\n",
      "MARITAL_STATUS_3              30133 non-null int64\n",
      "MARITAL_STATUS_4              30133 non-null int64\n",
      "dtypes: float64(7), int64(38), object(1)\n",
      "memory usage: 10.6+ MB\n"
     ]
    }
   ],
   "source": [
    "df.pipe(preproc_data).info()"
   ]
  },
  {
   "cell_type": "code",
   "execution_count": null,
   "metadata": {},
   "outputs": [],
   "source": []
  },
  {
   "cell_type": "code",
   "execution_count": 18,
   "metadata": {},
   "outputs": [],
   "source": [
    "df_preproc = df.pipe(preproc_data)\n",
    "\n",
    "df_train_preproc = df_preproc.query('sample == \"train\"').drop(['sample'], axis=1)\n",
    "df_test_preproc = df_preproc.query('sample == \"test\"').drop(['sample'], axis=1)"
   ]
  },
  {
   "cell_type": "markdown",
   "metadata": {},
   "source": [
    "#### Задание 4. Отделите целевую переменную и остальные признаки\n",
    "\n",
    "Должно получится:\n",
    "* 2 матрицы: X и X_test\n",
    "* 2 вектора: y и y_test"
   ]
  },
  {
   "cell_type": "code",
   "execution_count": null,
   "metadata": {},
   "outputs": [],
   "source": [
    "X, y = df_train_preproc.iloc[:, 1:].values, df_train_preproc.iloc[:, 0].values\n",
    "X_test, y_test = df_test_preproc.iloc[:, 1:].values, df_test_preproc.iloc[:, 0].values"
   ]
  },
  {
   "cell_type": "markdown",
   "metadata": {},
   "source": [
    "#### Задание 5. Обучение и оценка качества разных моделей"
   ]
  },
  {
   "cell_type": "code",
   "execution_count": null,
   "metadata": {},
   "outputs": [],
   "source": [
    "try:\n",
    "    from sklearn.model_selection import train_test_split\n",
    "except ImportError:\n",
    "    from sklearn.cross_validation import train_test_split\n",
    "# test_size=0.3, random_state=42\n",
    "\n",
    "## Your Code Here\n",
    "X_train, X_test2, y_train, y_test2 = train_test_split(\n",
    "    X, y, test_size=0.3, random_state=42)\n"
   ]
  },
  {
   "cell_type": "code",
   "execution_count": null,
   "metadata": {},
   "outputs": [
    {
     "name": "stderr",
     "output_type": "stream",
     "text": [
      "/home/dima/jupyter/venv/lib/python3.5/site-packages/sklearn/linear_model/logistic.py:432: FutureWarning: Default solver will be changed to 'lbfgs' in 0.22. Specify a solver to silence this warning.\n",
      "  FutureWarning)\n"
     ]
    },
    {
     "name": "stdout",
     "output_type": "stream",
     "text": [
      "10656\n"
     ]
    }
   ],
   "source": [
    "# Попробовать следующие \"черные ящики\": интерфейс одинаковый \n",
    "# Постепенно мы узнаем, что они делают а сейчас учимся понимать какой работает качественнее\n",
    "#     fit, \n",
    "#     predict, \n",
    "#     predict_proba\n",
    "\n",
    "from sklearn.tree import DecisionTreeClassifier\n",
    "from sklearn.ensemble import RandomForestClassifier\n",
    "from sklearn.linear_model import LogisticRegression\n",
    "\n",
    "## Your Code Here\n",
    "\n",
    "model = LogisticRegression()\n",
    "model.fit(X_train, y_train)\n",
    "p = model.predict(X_train)\n",
    "print(len(X_train))"
   ]
  },
  {
   "cell_type": "code",
   "execution_count": null,
   "metadata": {},
   "outputs": [
    {
     "name": "stdout",
     "output_type": "stream",
     "text": [
      "0.8820382882882883 0.5 0.002386634844868735\n"
     ]
    }
   ],
   "source": [
    "# Посчитать метрики стандартные\n",
    "# accuracy, precision, recall\n",
    "\n",
    "from sklearn.metrics import accuracy_score, precision_score, recall_score\n",
    "\n",
    "## Your Code Here\n",
    "acc = accuracy_score(y_train, p)\n",
    "prec = precision_score(y_train, p)\n",
    "rec = recall_score(y_train, p)\n",
    "print(acc, prec, rec)"
   ]
  },
  {
   "cell_type": "code",
   "execution_count": null,
   "metadata": {},
   "outputs": [],
   "source": [
    "# Визуалищировать эти метрики всех моделей на одном графике (чтоб визуально сравнить)\n",
    "# Возможно вас удивит качество! Но задача подобрана специально ;) Такое качество тоже бывает\n",
    "\n",
    "models_df = pd.DataFrame([[0, 0, 0], [acc, prec, rec]], columns=['accuracy', 'precision', 'recall'])\n"
   ]
  },
  {
   "cell_type": "code",
   "execution_count": null,
   "metadata": {},
   "outputs": [
    {
     "data": {
      "text/plain": [
       "<matplotlib.legend.Legend at 0x7f6e4d1f5f28>"
      ]
     },
     "execution_count": 24,
     "metadata": {},
     "output_type": "execute_result"
    },
    {
     "data": {
      "image/png": "[encoded data removed]",
      "text/plain": [
       "<Figure size 432x288 with 1 Axes>"
      ]
     },
     "metadata": {
      "needs_background": "light"
     },
     "output_type": "display_data"
    }
   ],
   "source": [
    "models_df['accuracy'].plot()\n",
    "models_df['precision'].plot()\n",
    "models_df['recall'].plot()\n",
    "plt.legend()"
   ]
  },
  {
   "cell_type": "code",
   "execution_count": null,
   "metadata": {},
   "outputs": [
    {
     "data": {
      "text/plain": [
       "(-0.01, 1.01)"
      ]
     },
     "execution_count": 25,
     "metadata": {},
     "output_type": "execute_result"
    },
    {
     "data": {
      "image/png": "[encoded data removed]",
      "text/plain": [
       "<Figure size 360x360 with 1 Axes>"
      ]
     },
     "metadata": {
      "needs_background": "light"
     },
     "output_type": "display_data"
    }
   ],
   "source": [
    "# Потроить roc-кривые всех можелей на одном графике\n",
    "# Вывести roc_auc каждой моделе\n",
    "# Подпишите оси и линии\n",
    "\n",
    "## Your Code Here\n",
    "from sklearn.metrics import roc_auc_score, roc_curve\n",
    "predict_proba = model.predict_proba(X_test2)\n",
    "fpr, tpr, thresholds = roc_curve(y_test2, predict_proba[:,1])\n",
    "plt.figure(figsize=(5, 5))\n",
    "plt.plot(fpr, tpr)\n",
    "plt.plot([0, 1], [0, 1])\n",
    "plt.ylabel('tpr')\n",
    "plt.xlabel('fpr')\n",
    "plt.grid(True)\n",
    "plt.title('ROC curve')\n",
    "plt.xlim((-0.01, 1.01))\n",
    "plt.ylim((-0.01, 1.01))"
   ]
  },
  {
   "cell_type": "code",
   "execution_count": null,
   "metadata": {},
   "outputs": [
    {
     "name": "stderr",
     "output_type": "stream",
     "text": [
      "/home/dima/jupyter/venv/lib/python3.5/site-packages/sklearn/linear_model/logistic.py:432: FutureWarning: Default solver will be changed to 'lbfgs' in 0.22. Specify a solver to silence this warning.\n",
      "  FutureWarning)\n",
      "/home/dima/jupyter/venv/lib/python3.5/site-packages/sklearn/linear_model/logistic.py:432: FutureWarning: Default solver will be changed to 'lbfgs' in 0.22. Specify a solver to silence this warning.\n",
      "  FutureWarning)\n",
      "/home/dima/jupyter/venv/lib/python3.5/site-packages/sklearn/linear_model/logistic.py:432: FutureWarning: Default solver will be changed to 'lbfgs' in 0.22. Specify a solver to silence this warning.\n",
      "  FutureWarning)\n",
      "/home/dima/jupyter/venv/lib/python3.5/site-packages/sklearn/linear_model/logistic.py:432: FutureWarning: Default solver will be changed to 'lbfgs' in 0.22. Specify a solver to silence this warning.\n",
      "  FutureWarning)\n",
      "/home/dima/jupyter/venv/lib/python3.5/site-packages/sklearn/linear_model/logistic.py:432: FutureWarning: Default solver will be changed to 'lbfgs' in 0.22. Specify a solver to silence this warning.\n",
      "  FutureWarning)\n",
      "/home/dima/jupyter/venv/lib/python3.5/site-packages/sklearn/linear_model/logistic.py:432: FutureWarning: Default solver will be changed to 'lbfgs' in 0.22. Specify a solver to silence this warning.\n",
      "  FutureWarning)\n",
      "/home/dima/jupyter/venv/lib/python3.5/site-packages/sklearn/linear_model/logistic.py:432: FutureWarning: Default solver will be changed to 'lbfgs' in 0.22. Specify a solver to silence this warning.\n",
      "  FutureWarning)\n",
      "/home/dima/jupyter/venv/lib/python3.5/site-packages/sklearn/linear_model/logistic.py:432: FutureWarning: Default solver will be changed to 'lbfgs' in 0.22. Specify a solver to silence this warning.\n",
      "  FutureWarning)\n",
      "/home/dima/jupyter/venv/lib/python3.5/site-packages/sklearn/linear_model/logistic.py:432: FutureWarning: Default solver will be changed to 'lbfgs' in 0.22. Specify a solver to silence this warning.\n",
      "  FutureWarning)\n",
      "/home/dima/jupyter/venv/lib/python3.5/site-packages/sklearn/linear_model/logistic.py:432: FutureWarning: Default solver will be changed to 'lbfgs' in 0.22. Specify a solver to silence this warning.\n",
      "  FutureWarning)\n"
     ]
    },
    {
     "name": "stdout",
     "output_type": "stream",
     "text": [
      "0.6282498022104182\n"
     ]
    }
   ],
   "source": [
    "try:\n",
    "    from sklearn.model_selection import cross_val_score, StratifiedKFold\n",
    "except ImportError:\n",
    "    from sklearn.cross_validation import cross_val_score, StratifiedKFold\n",
    "# Сделать k-fold (10 фолдов) кросс-валидацию каждой модели\n",
    "# И посчитать средний roc_auc\n",
    "\n",
    "## Your Code Here\n",
    "\n",
    "cv = StratifiedKFold(n_splits=10, shuffle=True, \n",
    "                     random_state=42)\n",
    "scores = cross_val_score(model, X_train, y_train,\n",
    "                         scoring='roc_auc', \n",
    "                         cv=cv, \n",
    "                         n_jobs=-1)\n",
    "\n",
    "print(scores.mean())\n"
   ]
  },
  {
   "cell_type": "code",
   "execution_count": null,
   "metadata": {},
   "outputs": [
    {
     "name": "stdout",
     "output_type": "stream",
     "text": [
      "{'scaler__with_mean': [False, True], 'clf__C': array([1.00000000e-05, 7.74263683e-05, 5.99484250e-04, 4.64158883e-03,\n",
      "       3.59381366e-02, 2.78255940e-01, 2.15443469e+00, 1.66810054e+01,\n",
      "       1.29154967e+02, 1.00000000e+03]), 'clf__random_state': [42], 'clf__penalty': ['l1', 'l2']}\n",
      "Fitting 5 folds for each of 40 candidates, totalling 200 fits\n",
      "[CV] scaler__with_mean=False, clf__C=1e-05, clf__random_state=42, clf__penalty=l1 \n",
      "[CV]  scaler__with_mean=False, clf__C=1e-05, clf__random_state=42, clf__penalty=l1, total=   0.0s\n",
      "[CV] scaler__with_mean=False, clf__C=1e-05, clf__random_state=42, clf__penalty=l1 \n",
      "[CV]  scaler__with_mean=False, clf__C=1e-05, clf__random_state=42, clf__penalty=l1, total=   0.0s\n",
      "[CV] scaler__with_mean=False, clf__C=1e-05, clf__random_state=42, clf__penalty=l1 \n",
      "[CV]  scaler__with_mean=False, clf__C=1e-05, clf__random_state=42, clf__penalty=l1, total=   0.1s\n",
      "[CV] scaler__with_mean=False, clf__C=1e-05, clf__random_state=42, clf__penalty=l1 \n"
     ]
    },
    {
     "name": "stderr",
     "output_type": "stream",
     "text": [
      "[Parallel(n_jobs=-1)]: Using backend SequentialBackend with 1 concurrent workers.\n",
      "/home/dima/jupyter/venv/lib/python3.5/site-packages/sklearn/linear_model/logistic.py:432: FutureWarning: Default solver will be changed to 'lbfgs' in 0.22. Specify a solver to silence this warning.\n",
      "  FutureWarning)\n",
      "[Parallel(n_jobs=-1)]: Done   1 out of   1 | elapsed:    0.1s remaining:    0.0s\n",
      "/home/dima/jupyter/venv/lib/python3.5/site-packages/sklearn/linear_model/logistic.py:432: FutureWarning: Default solver will be changed to 'lbfgs' in 0.22. Specify a solver to silence this warning.\n",
      "  FutureWarning)\n",
      "/home/dima/jupyter/venv/lib/python3.5/site-packages/sklearn/linear_model/logistic.py:432: FutureWarning: Default solver will be changed to 'lbfgs' in 0.22. Specify a solver to silence this warning.\n",
      "  FutureWarning)\n"
     ]
    },
    {
     "name": "stdout",
     "output_type": "stream",
     "text": [
      "[CV]  scaler__with_mean=False, clf__C=1e-05, clf__random_state=42, clf__penalty=l1, total=   0.1s\n",
      "[CV] scaler__with_mean=False, clf__C=1e-05, clf__random_state=42, clf__penalty=l1 \n",
      "[CV]  scaler__with_mean=False, clf__C=1e-05, clf__random_state=42, clf__penalty=l1, total=   0.1s\n",
      "[CV] scaler__with_mean=True, clf__C=1e-05, clf__random_state=42, clf__penalty=l1 \n"
     ]
    },
    {
     "name": "stderr",
     "output_type": "stream",
     "text": [
      "/home/dima/jupyter/venv/lib/python3.5/site-packages/sklearn/linear_model/logistic.py:432: FutureWarning: Default solver will be changed to 'lbfgs' in 0.22. Specify a solver to silence this warning.\n",
      "  FutureWarning)\n",
      "/home/dima/jupyter/venv/lib/python3.5/site-packages/sklearn/linear_model/logistic.py:432: FutureWarning: Default solver will be changed to 'lbfgs' in 0.22. Specify a solver to silence this warning.\n",
      "  FutureWarning)\n",
      "/home/dima/jupyter/venv/lib/python3.5/site-packages/sklearn/linear_model/logistic.py:432: FutureWarning: Default solver will be changed to 'lbfgs' in 0.22. Specify a solver to silence this warning.\n",
      "  FutureWarning)\n"
     ]
    },
    {
     "name": "stdout",
     "output_type": "stream",
     "text": [
      "[CV]  scaler__with_mean=True, clf__C=1e-05, clf__random_state=42, clf__penalty=l1, total=   0.1s\n",
      "[CV] scaler__with_mean=True, clf__C=1e-05, clf__random_state=42, clf__penalty=l1 \n",
      "[CV]  scaler__with_mean=True, clf__C=1e-05, clf__random_state=42, clf__penalty=l1, total=   0.1s\n",
      "[CV] scaler__with_mean=True, clf__C=1e-05, clf__random_state=42, clf__penalty=l1 \n",
      "[CV]  scaler__with_mean=True, clf__C=1e-05, clf__random_state=42, clf__penalty=l1, total=   0.1s\n",
      "[CV] scaler__with_mean=True, clf__C=1e-05, clf__random_state=42, clf__penalty=l1 \n"
     ]
    },
    {
     "name": "stderr",
     "output_type": "stream",
     "text": [
      "/home/dima/jupyter/venv/lib/python3.5/site-packages/sklearn/linear_model/logistic.py:432: FutureWarning: Default solver will be changed to 'lbfgs' in 0.22. Specify a solver to silence this warning.\n",
      "  FutureWarning)\n",
      "/home/dima/jupyter/venv/lib/python3.5/site-packages/sklearn/linear_model/logistic.py:432: FutureWarning: Default solver will be changed to 'lbfgs' in 0.22. Specify a solver to silence this warning.\n",
      "  FutureWarning)\n",
      "/home/dima/jupyter/venv/lib/python3.5/site-packages/sklearn/linear_model/logistic.py:432: FutureWarning: Default solver will be changed to 'lbfgs' in 0.22. Specify a solver to silence this warning.\n",
      "  FutureWarning)\n"
     ]
    },
    {
     "name": "stdout",
     "output_type": "stream",
     "text": [
      "[CV]  scaler__with_mean=True, clf__C=1e-05, clf__random_state=42, clf__penalty=l1, total=   0.1s\n",
      "[CV] scaler__with_mean=True, clf__C=1e-05, clf__random_state=42, clf__penalty=l1 \n",
      "[CV]  scaler__with_mean=True, clf__C=1e-05, clf__random_state=42, clf__penalty=l1, total=   0.1s\n",
      "[CV] scaler__with_mean=False, clf__C=1e-05, clf__random_state=42, clf__penalty=l2 \n",
      "[CV]  scaler__with_mean=False, clf__C=1e-05, clf__random_state=42, clf__penalty=l2, total=   0.1s\n",
      "[CV] scaler__with_mean=False, clf__C=1e-05, clf__random_state=42, clf__penalty=l2 \n"
     ]
    },
    {
     "name": "stderr",
     "output_type": "stream",
     "text": [
      "/home/dima/jupyter/venv/lib/python3.5/site-packages/sklearn/linear_model/logistic.py:432: FutureWarning: Default solver will be changed to 'lbfgs' in 0.22. Specify a solver to silence this warning.\n",
      "  FutureWarning)\n",
      "/home/dima/jupyter/venv/lib/python3.5/site-packages/sklearn/linear_model/logistic.py:432: FutureWarning: Default solver will be changed to 'lbfgs' in 0.22. Specify a solver to silence this warning.\n",
      "  FutureWarning)\n",
      "/home/dima/jupyter/venv/lib/python3.5/site-packages/sklearn/linear_model/logistic.py:432: FutureWarning: Default solver will be changed to 'lbfgs' in 0.22. Specify a solver to silence this warning.\n",
      "  FutureWarning)\n",
      "/home/dima/jupyter/venv/lib/python3.5/site-packages/sklearn/linear_model/logistic.py:432: FutureWarning: Default solver will be changed to 'lbfgs' in 0.22. Specify a solver to silence this warning.\n",
      "  FutureWarning)\n"
     ]
    },
    {
     "name": "stdout",
     "output_type": "stream",
     "text": [
      "[CV]  scaler__with_mean=False, clf__C=1e-05, clf__random_state=42, clf__penalty=l2, total=   0.0s\n",
      "[CV] scaler__with_mean=False, clf__C=1e-05, clf__random_state=42, clf__penalty=l2 \n",
      "[CV]  scaler__with_mean=False, clf__C=1e-05, clf__random_state=42, clf__penalty=l2, total=   0.1s\n",
      "[CV] scaler__with_mean=False, clf__C=1e-05, clf__random_state=42, clf__penalty=l2 \n",
      "[CV]  scaler__with_mean=False, clf__C=1e-05, clf__random_state=42, clf__penalty=l2, total=   0.1s\n",
      "[CV] scaler__with_mean=False, clf__C=1e-05, clf__random_state=42, clf__penalty=l2 \n",
      "[CV]  scaler__with_mean=False, clf__C=1e-05, clf__random_state=42, clf__penalty=l2, total=   0.0s\n",
      "[CV] scaler__with_mean=True, clf__C=1e-05, clf__random_state=42, clf__penalty=l2 \n"
     ]
    },
    {
     "name": "stderr",
     "output_type": "stream",
     "text": [
      "/home/dima/jupyter/venv/lib/python3.5/site-packages/sklearn/linear_model/logistic.py:432: FutureWarning: Default solver will be changed to 'lbfgs' in 0.22. Specify a solver to silence this warning.\n",
      "  FutureWarning)\n",
      "/home/dima/jupyter/venv/lib/python3.5/site-packages/sklearn/linear_model/logistic.py:432: FutureWarning: Default solver will be changed to 'lbfgs' in 0.22. Specify a solver to silence this warning.\n",
      "  FutureWarning)\n",
      "/home/dima/jupyter/venv/lib/python3.5/site-packages/sklearn/linear_model/logistic.py:432: FutureWarning: Default solver will be changed to 'lbfgs' in 0.22. Specify a solver to silence this warning.\n",
      "  FutureWarning)\n",
      "/home/dima/jupyter/venv/lib/python3.5/site-packages/sklearn/linear_model/logistic.py:432: FutureWarning: Default solver will be changed to 'lbfgs' in 0.22. Specify a solver to silence this warning.\n",
      "  FutureWarning)\n"
     ]
    },
    {
     "name": "stdout",
     "output_type": "stream",
     "text": [
      "[CV]  scaler__with_mean=True, clf__C=1e-05, clf__random_state=42, clf__penalty=l2, total=   0.1s\n",
      "[CV] scaler__with_mean=True, clf__C=1e-05, clf__random_state=42, clf__penalty=l2 \n",
      "[CV]  scaler__with_mean=True, clf__C=1e-05, clf__random_state=42, clf__penalty=l2, total=   0.1s\n",
      "[CV] scaler__with_mean=True, clf__C=1e-05, clf__random_state=42, clf__penalty=l2 \n",
      "[CV]  scaler__with_mean=True, clf__C=1e-05, clf__random_state=42, clf__penalty=l2, total=   0.1s\n",
      "[CV] scaler__with_mean=True, clf__C=1e-05, clf__random_state=42, clf__penalty=l2 \n",
      "[CV]  scaler__with_mean=True, clf__C=1e-05, clf__random_state=42, clf__penalty=l2, total=   0.1s\n",
      "[CV] scaler__with_mean=True, clf__C=1e-05, clf__random_state=42, clf__penalty=l2 \n"
     ]
    },
    {
     "name": "stderr",
     "output_type": "stream",
     "text": [
      "/home/dima/jupyter/venv/lib/python3.5/site-packages/sklearn/linear_model/logistic.py:432: FutureWarning: Default solver will be changed to 'lbfgs' in 0.22. Specify a solver to silence this warning.\n",
      "  FutureWarning)\n",
      "/home/dima/jupyter/venv/lib/python3.5/site-packages/sklearn/linear_model/logistic.py:432: FutureWarning: Default solver will be changed to 'lbfgs' in 0.22. Specify a solver to silence this warning.\n",
      "  FutureWarning)\n",
      "/home/dima/jupyter/venv/lib/python3.5/site-packages/sklearn/linear_model/logistic.py:432: FutureWarning: Default solver will be changed to 'lbfgs' in 0.22. Specify a solver to silence this warning.\n",
      "  FutureWarning)\n"
     ]
    },
    {
     "name": "stdout",
     "output_type": "stream",
     "text": [
      "[CV]  scaler__with_mean=True, clf__C=1e-05, clf__random_state=42, clf__penalty=l2, total=   0.1s\n",
      "[CV] scaler__with_mean=False, clf__C=7.742636826811278e-05, clf__random_state=42, clf__penalty=l1 \n",
      "[CV]  scaler__with_mean=False, clf__C=7.742636826811278e-05, clf__random_state=42, clf__penalty=l1, total=   0.1s\n",
      "[CV] scaler__with_mean=False, clf__C=7.742636826811278e-05, clf__random_state=42, clf__penalty=l1 \n",
      "[CV]  scaler__with_mean=False, clf__C=7.742636826811278e-05, clf__random_state=42, clf__penalty=l1, total=   0.1s\n",
      "[CV] scaler__with_mean=False, clf__C=7.742636826811278e-05, clf__random_state=42, clf__penalty=l1 \n",
      "[CV]  scaler__with_mean=False, clf__C=7.742636826811278e-05, clf__random_state=42, clf__penalty=l1, total=   0.1s\n",
      "[CV] scaler__with_mean=False, clf__C=7.742636826811278e-05, clf__random_state=42, clf__penalty=l1 \n"
     ]
    },
    {
     "name": "stderr",
     "output_type": "stream",
     "text": [
      "/home/dima/jupyter/venv/lib/python3.5/site-packages/sklearn/linear_model/logistic.py:432: FutureWarning: Default solver will be changed to 'lbfgs' in 0.22. Specify a solver to silence this warning.\n",
      "  FutureWarning)\n",
      "/home/dima/jupyter/venv/lib/python3.5/site-packages/sklearn/linear_model/logistic.py:432: FutureWarning: Default solver will be changed to 'lbfgs' in 0.22. Specify a solver to silence this warning.\n",
      "  FutureWarning)\n",
      "/home/dima/jupyter/venv/lib/python3.5/site-packages/sklearn/linear_model/logistic.py:432: FutureWarning: Default solver will be changed to 'lbfgs' in 0.22. Specify a solver to silence this warning.\n",
      "  FutureWarning)\n"
     ]
    },
    {
     "name": "stdout",
     "output_type": "stream",
     "text": [
      "[CV]  scaler__with_mean=False, clf__C=7.742636826811278e-05, clf__random_state=42, clf__penalty=l1, total=   0.1s\n",
      "[CV] scaler__with_mean=False, clf__C=7.742636826811278e-05, clf__random_state=42, clf__penalty=l1 \n",
      "[CV]  scaler__with_mean=False, clf__C=7.742636826811278e-05, clf__random_state=42, clf__penalty=l1, total=   0.1s\n",
      "[CV] scaler__with_mean=True, clf__C=7.742636826811278e-05, clf__random_state=42, clf__penalty=l1 \n"
     ]
    },
    {
     "name": "stderr",
     "output_type": "stream",
     "text": [
      "/home/dima/jupyter/venv/lib/python3.5/site-packages/sklearn/linear_model/logistic.py:432: FutureWarning: Default solver will be changed to 'lbfgs' in 0.22. Specify a solver to silence this warning.\n",
      "  FutureWarning)\n",
      "/home/dima/jupyter/venv/lib/python3.5/site-packages/sklearn/linear_model/logistic.py:432: FutureWarning: Default solver will be changed to 'lbfgs' in 0.22. Specify a solver to silence this warning.\n",
      "  FutureWarning)\n",
      "/home/dima/jupyter/venv/lib/python3.5/site-packages/sklearn/linear_model/logistic.py:432: FutureWarning: Default solver will be changed to 'lbfgs' in 0.22. Specify a solver to silence this warning.\n",
      "  FutureWarning)\n"
     ]
    },
    {
     "name": "stdout",
     "output_type": "stream",
     "text": [
      "[CV]  scaler__with_mean=True, clf__C=7.742636826811278e-05, clf__random_state=42, clf__penalty=l1, total=   0.1s\n",
      "[CV] scaler__with_mean=True, clf__C=7.742636826811278e-05, clf__random_state=42, clf__penalty=l1 \n",
      "[CV]  scaler__with_mean=True, clf__C=7.742636826811278e-05, clf__random_state=42, clf__penalty=l1, total=   0.1s\n",
      "[CV] scaler__with_mean=True, clf__C=7.742636826811278e-05, clf__random_state=42, clf__penalty=l1 \n",
      "[CV]  scaler__with_mean=True, clf__C=7.742636826811278e-05, clf__random_state=42, clf__penalty=l1, total=   0.1s\n",
      "[CV] scaler__with_mean=True, clf__C=7.742636826811278e-05, clf__random_state=42, clf__penalty=l1 \n"
     ]
    },
    {
     "name": "stderr",
     "output_type": "stream",
     "text": [
      "/home/dima/jupyter/venv/lib/python3.5/site-packages/sklearn/linear_model/logistic.py:432: FutureWarning: Default solver will be changed to 'lbfgs' in 0.22. Specify a solver to silence this warning.\n",
      "  FutureWarning)\n",
      "/home/dima/jupyter/venv/lib/python3.5/site-packages/sklearn/linear_model/logistic.py:432: FutureWarning: Default solver will be changed to 'lbfgs' in 0.22. Specify a solver to silence this warning.\n",
      "  FutureWarning)\n",
      "/home/dima/jupyter/venv/lib/python3.5/site-packages/sklearn/linear_model/logistic.py:432: FutureWarning: Default solver will be changed to 'lbfgs' in 0.22. Specify a solver to silence this warning.\n",
      "  FutureWarning)\n"
     ]
    },
    {
     "name": "stdout",
     "output_type": "stream",
     "text": [
      "[CV]  scaler__with_mean=True, clf__C=7.742636826811278e-05, clf__random_state=42, clf__penalty=l1, total=   0.1s\n",
      "[CV] scaler__with_mean=True, clf__C=7.742636826811278e-05, clf__random_state=42, clf__penalty=l1 \n",
      "[CV]  scaler__with_mean=True, clf__C=7.742636826811278e-05, clf__random_state=42, clf__penalty=l1, total=   0.1s\n",
      "[CV] scaler__with_mean=False, clf__C=7.742636826811278e-05, clf__random_state=42, clf__penalty=l2 \n",
      "[CV]  scaler__with_mean=False, clf__C=7.742636826811278e-05, clf__random_state=42, clf__penalty=l2, total=   0.1s\n",
      "[CV] scaler__with_mean=False, clf__C=7.742636826811278e-05, clf__random_state=42, clf__penalty=l2 \n"
     ]
    },
    {
     "name": "stderr",
     "output_type": "stream",
     "text": [
      "/home/dima/jupyter/venv/lib/python3.5/site-packages/sklearn/linear_model/logistic.py:432: FutureWarning: Default solver will be changed to 'lbfgs' in 0.22. Specify a solver to silence this warning.\n",
      "  FutureWarning)\n",
      "/home/dima/jupyter/venv/lib/python3.5/site-packages/sklearn/linear_model/logistic.py:432: FutureWarning: Default solver will be changed to 'lbfgs' in 0.22. Specify a solver to silence this warning.\n",
      "  FutureWarning)\n",
      "/home/dima/jupyter/venv/lib/python3.5/site-packages/sklearn/linear_model/logistic.py:432: FutureWarning: Default solver will be changed to 'lbfgs' in 0.22. Specify a solver to silence this warning.\n",
      "  FutureWarning)\n"
     ]
    },
    {
     "name": "stdout",
     "output_type": "stream",
     "text": [
      "[CV]  scaler__with_mean=False, clf__C=7.742636826811278e-05, clf__random_state=42, clf__penalty=l2, total=   0.1s\n",
      "[CV] scaler__with_mean=False, clf__C=7.742636826811278e-05, clf__random_state=42, clf__penalty=l2 \n",
      "[CV]  scaler__with_mean=False, clf__C=7.742636826811278e-05, clf__random_state=42, clf__penalty=l2, total=   0.1s\n",
      "[CV] scaler__with_mean=False, clf__C=7.742636826811278e-05, clf__random_state=42, clf__penalty=l2 \n",
      "[CV]  scaler__with_mean=False, clf__C=7.742636826811278e-05, clf__random_state=42, clf__penalty=l2, total=   0.1s\n",
      "[CV] scaler__with_mean=False, clf__C=7.742636826811278e-05, clf__random_state=42, clf__penalty=l2 \n"
     ]
    },
    {
     "name": "stderr",
     "output_type": "stream",
     "text": [
      "/home/dima/jupyter/venv/lib/python3.5/site-packages/sklearn/linear_model/logistic.py:432: FutureWarning: Default solver will be changed to 'lbfgs' in 0.22. Specify a solver to silence this warning.\n",
      "  FutureWarning)\n",
      "/home/dima/jupyter/venv/lib/python3.5/site-packages/sklearn/linear_model/logistic.py:432: FutureWarning: Default solver will be changed to 'lbfgs' in 0.22. Specify a solver to silence this warning.\n",
      "  FutureWarning)\n",
      "/home/dima/jupyter/venv/lib/python3.5/site-packages/sklearn/linear_model/logistic.py:432: FutureWarning: Default solver will be changed to 'lbfgs' in 0.22. Specify a solver to silence this warning.\n",
      "  FutureWarning)\n"
     ]
    },
    {
     "name": "stdout",
     "output_type": "stream",
     "text": [
      "[CV]  scaler__with_mean=False, clf__C=7.742636826811278e-05, clf__random_state=42, clf__penalty=l2, total=   0.1s\n",
      "[CV] scaler__with_mean=True, clf__C=7.742636826811278e-05, clf__random_state=42, clf__penalty=l2 \n",
      "[CV]  scaler__with_mean=True, clf__C=7.742636826811278e-05, clf__random_state=42, clf__penalty=l2, total=   0.1s\n",
      "[CV] scaler__with_mean=True, clf__C=7.742636826811278e-05, clf__random_state=42, clf__penalty=l2 \n",
      "[CV]  scaler__with_mean=True, clf__C=7.742636826811278e-05, clf__random_state=42, clf__penalty=l2, total=   0.1s\n",
      "[CV] scaler__with_mean=True, clf__C=7.742636826811278e-05, clf__random_state=42, clf__penalty=l2 \n"
     ]
    },
    {
     "name": "stderr",
     "output_type": "stream",
     "text": [
      "/home/dima/jupyter/venv/lib/python3.5/site-packages/sklearn/linear_model/logistic.py:432: FutureWarning: Default solver will be changed to 'lbfgs' in 0.22. Specify a solver to silence this warning.\n",
      "  FutureWarning)\n",
      "/home/dima/jupyter/venv/lib/python3.5/site-packages/sklearn/linear_model/logistic.py:432: FutureWarning: Default solver will be changed to 'lbfgs' in 0.22. Specify a solver to silence this warning.\n",
      "  FutureWarning)\n",
      "/home/dima/jupyter/venv/lib/python3.5/site-packages/sklearn/linear_model/logistic.py:432: FutureWarning: Default solver will be changed to 'lbfgs' in 0.22. Specify a solver to silence this warning.\n",
      "  FutureWarning)\n"
     ]
    },
    {
     "name": "stdout",
     "output_type": "stream",
     "text": [
      "[CV]  scaler__with_mean=True, clf__C=7.742636826811278e-05, clf__random_state=42, clf__penalty=l2, total=   0.1s\n",
      "[CV] scaler__with_mean=True, clf__C=7.742636826811278e-05, clf__random_state=42, clf__penalty=l2 \n",
      "[CV]  scaler__with_mean=True, clf__C=7.742636826811278e-05, clf__random_state=42, clf__penalty=l2, total=   0.1s\n",
      "[CV] scaler__with_mean=True, clf__C=7.742636826811278e-05, clf__random_state=42, clf__penalty=l2 \n",
      "[CV]  scaler__with_mean=True, clf__C=7.742636826811278e-05, clf__random_state=42, clf__penalty=l2, total=   0.1s\n",
      "[CV] scaler__with_mean=False, clf__C=0.0005994842503189409, clf__random_state=42, clf__penalty=l1 \n"
     ]
    },
    {
     "name": "stderr",
     "output_type": "stream",
     "text": [
      "/home/dima/jupyter/venv/lib/python3.5/site-packages/sklearn/linear_model/logistic.py:432: FutureWarning: Default solver will be changed to 'lbfgs' in 0.22. Specify a solver to silence this warning.\n",
      "  FutureWarning)\n",
      "/home/dima/jupyter/venv/lib/python3.5/site-packages/sklearn/linear_model/logistic.py:432: FutureWarning: Default solver will be changed to 'lbfgs' in 0.22. Specify a solver to silence this warning.\n",
      "  FutureWarning)\n",
      "/home/dima/jupyter/venv/lib/python3.5/site-packages/sklearn/linear_model/logistic.py:432: FutureWarning: Default solver will be changed to 'lbfgs' in 0.22. Specify a solver to silence this warning.\n",
      "  FutureWarning)\n"
     ]
    },
    {
     "name": "stdout",
     "output_type": "stream",
     "text": [
      "[CV]  scaler__with_mean=False, clf__C=0.0005994842503189409, clf__random_state=42, clf__penalty=l1, total=   0.1s\n",
      "[CV] scaler__with_mean=False, clf__C=0.0005994842503189409, clf__random_state=42, clf__penalty=l1 \n",
      "[CV]  scaler__with_mean=False, clf__C=0.0005994842503189409, clf__random_state=42, clf__penalty=l1, total=   0.1s\n",
      "[CV] scaler__with_mean=False, clf__C=0.0005994842503189409, clf__random_state=42, clf__penalty=l1 \n",
      "[CV]  scaler__with_mean=False, clf__C=0.0005994842503189409, clf__random_state=42, clf__penalty=l1, total=   0.1s\n",
      "[CV] scaler__with_mean=False, clf__C=0.0005994842503189409, clf__random_state=42, clf__penalty=l1 \n"
     ]
    },
    {
     "name": "stderr",
     "output_type": "stream",
     "text": [
      "/home/dima/jupyter/venv/lib/python3.5/site-packages/sklearn/linear_model/logistic.py:432: FutureWarning: Default solver will be changed to 'lbfgs' in 0.22. Specify a solver to silence this warning.\n",
      "  FutureWarning)\n",
      "/home/dima/jupyter/venv/lib/python3.5/site-packages/sklearn/linear_model/logistic.py:432: FutureWarning: Default solver will be changed to 'lbfgs' in 0.22. Specify a solver to silence this warning.\n",
      "  FutureWarning)\n",
      "/home/dima/jupyter/venv/lib/python3.5/site-packages/sklearn/linear_model/logistic.py:432: FutureWarning: Default solver will be changed to 'lbfgs' in 0.22. Specify a solver to silence this warning.\n",
      "  FutureWarning)\n"
     ]
    },
    {
     "name": "stdout",
     "output_type": "stream",
     "text": [
      "[CV]  scaler__with_mean=False, clf__C=0.0005994842503189409, clf__random_state=42, clf__penalty=l1, total=   0.1s\n",
      "[CV] scaler__with_mean=False, clf__C=0.0005994842503189409, clf__random_state=42, clf__penalty=l1 \n",
      "[CV]  scaler__with_mean=False, clf__C=0.0005994842503189409, clf__random_state=42, clf__penalty=l1, total=   0.1s\n",
      "[CV] scaler__with_mean=True, clf__C=0.0005994842503189409, clf__random_state=42, clf__penalty=l1 \n",
      "[CV]  scaler__with_mean=True, clf__C=0.0005994842503189409, clf__random_state=42, clf__penalty=l1, total=   0.1s\n",
      "[CV] scaler__with_mean=True, clf__C=0.0005994842503189409, clf__random_state=42, clf__penalty=l1 \n"
     ]
    },
    {
     "name": "stderr",
     "output_type": "stream",
     "text": [
      "/home/dima/jupyter/venv/lib/python3.5/site-packages/sklearn/linear_model/logistic.py:432: FutureWarning: Default solver will be changed to 'lbfgs' in 0.22. Specify a solver to silence this warning.\n",
      "  FutureWarning)\n",
      "/home/dima/jupyter/venv/lib/python3.5/site-packages/sklearn/linear_model/logistic.py:432: FutureWarning: Default solver will be changed to 'lbfgs' in 0.22. Specify a solver to silence this warning.\n",
      "  FutureWarning)\n",
      "/home/dima/jupyter/venv/lib/python3.5/site-packages/sklearn/linear_model/logistic.py:432: FutureWarning: Default solver will be changed to 'lbfgs' in 0.22. Specify a solver to silence this warning.\n",
      "  FutureWarning)\n"
     ]
    },
    {
     "name": "stdout",
     "output_type": "stream",
     "text": [
      "[CV]  scaler__with_mean=True, clf__C=0.0005994842503189409, clf__random_state=42, clf__penalty=l1, total=   0.1s\n",
      "[CV] scaler__with_mean=True, clf__C=0.0005994842503189409, clf__random_state=42, clf__penalty=l1 \n",
      "[CV]  scaler__with_mean=True, clf__C=0.0005994842503189409, clf__random_state=42, clf__penalty=l1, total=   0.1s\n",
      "[CV] scaler__with_mean=True, clf__C=0.0005994842503189409, clf__random_state=42, clf__penalty=l1 \n",
      "[CV]  scaler__with_mean=True, clf__C=0.0005994842503189409, clf__random_state=42, clf__penalty=l1, total=   0.1s\n",
      "[CV] scaler__with_mean=True, clf__C=0.0005994842503189409, clf__random_state=42, clf__penalty=l1 \n"
     ]
    },
    {
     "name": "stderr",
     "output_type": "stream",
     "text": [
      "/home/dima/jupyter/venv/lib/python3.5/site-packages/sklearn/linear_model/logistic.py:432: FutureWarning: Default solver will be changed to 'lbfgs' in 0.22. Specify a solver to silence this warning.\n",
      "  FutureWarning)\n",
      "/home/dima/jupyter/venv/lib/python3.5/site-packages/sklearn/linear_model/logistic.py:432: FutureWarning: Default solver will be changed to 'lbfgs' in 0.22. Specify a solver to silence this warning.\n",
      "  FutureWarning)\n",
      "/home/dima/jupyter/venv/lib/python3.5/site-packages/sklearn/linear_model/logistic.py:432: FutureWarning: Default solver will be changed to 'lbfgs' in 0.22. Specify a solver to silence this warning.\n",
      "  FutureWarning)\n"
     ]
    },
    {
     "name": "stdout",
     "output_type": "stream",
     "text": [
      "[CV]  scaler__with_mean=True, clf__C=0.0005994842503189409, clf__random_state=42, clf__penalty=l1, total=   0.1s\n",
      "[CV] scaler__with_mean=False, clf__C=0.0005994842503189409, clf__random_state=42, clf__penalty=l2 \n",
      "[CV]  scaler__with_mean=False, clf__C=0.0005994842503189409, clf__random_state=42, clf__penalty=l2, total=   0.1s\n",
      "[CV] scaler__with_mean=False, clf__C=0.0005994842503189409, clf__random_state=42, clf__penalty=l2 \n",
      "[CV]  scaler__with_mean=False, clf__C=0.0005994842503189409, clf__random_state=42, clf__penalty=l2, total=   0.1s\n",
      "[CV] scaler__with_mean=False, clf__C=0.0005994842503189409, clf__random_state=42, clf__penalty=l2 \n"
     ]
    },
    {
     "name": "stderr",
     "output_type": "stream",
     "text": [
      "/home/dima/jupyter/venv/lib/python3.5/site-packages/sklearn/linear_model/logistic.py:432: FutureWarning: Default solver will be changed to 'lbfgs' in 0.22. Specify a solver to silence this warning.\n",
      "  FutureWarning)\n",
      "/home/dima/jupyter/venv/lib/python3.5/site-packages/sklearn/linear_model/logistic.py:432: FutureWarning: Default solver will be changed to 'lbfgs' in 0.22. Specify a solver to silence this warning.\n",
      "  FutureWarning)\n",
      "/home/dima/jupyter/venv/lib/python3.5/site-packages/sklearn/linear_model/logistic.py:432: FutureWarning: Default solver will be changed to 'lbfgs' in 0.22. Specify a solver to silence this warning.\n",
      "  FutureWarning)\n"
     ]
    },
    {
     "name": "stdout",
     "output_type": "stream",
     "text": [
      "[CV]  scaler__with_mean=False, clf__C=0.0005994842503189409, clf__random_state=42, clf__penalty=l2, total=   0.1s\n",
      "[CV] scaler__with_mean=False, clf__C=0.0005994842503189409, clf__random_state=42, clf__penalty=l2 \n",
      "[CV]  scaler__with_mean=False, clf__C=0.0005994842503189409, clf__random_state=42, clf__penalty=l2, total=   0.1s\n",
      "[CV] scaler__with_mean=False, clf__C=0.0005994842503189409, clf__random_state=42, clf__penalty=l2 \n",
      "[CV]  scaler__with_mean=False, clf__C=0.0005994842503189409, clf__random_state=42, clf__penalty=l2, total=   0.1s\n",
      "[CV] scaler__with_mean=True, clf__C=0.0005994842503189409, clf__random_state=42, clf__penalty=l2 \n"
     ]
    },
    {
     "name": "stderr",
     "output_type": "stream",
     "text": [
      "/home/dima/jupyter/venv/lib/python3.5/site-packages/sklearn/linear_model/logistic.py:432: FutureWarning: Default solver will be changed to 'lbfgs' in 0.22. Specify a solver to silence this warning.\n",
      "  FutureWarning)\n",
      "/home/dima/jupyter/venv/lib/python3.5/site-packages/sklearn/linear_model/logistic.py:432: FutureWarning: Default solver will be changed to 'lbfgs' in 0.22. Specify a solver to silence this warning.\n",
      "  FutureWarning)\n",
      "/home/dima/jupyter/venv/lib/python3.5/site-packages/sklearn/linear_model/logistic.py:432: FutureWarning: Default solver will be changed to 'lbfgs' in 0.22. Specify a solver to silence this warning.\n",
      "  FutureWarning)\n"
     ]
    },
    {
     "name": "stdout",
     "output_type": "stream",
     "text": [
      "[CV]  scaler__with_mean=True, clf__C=0.0005994842503189409, clf__random_state=42, clf__penalty=l2, total=   0.1s\n",
      "[CV] scaler__with_mean=True, clf__C=0.0005994842503189409, clf__random_state=42, clf__penalty=l2 \n",
      "[CV]  scaler__with_mean=True, clf__C=0.0005994842503189409, clf__random_state=42, clf__penalty=l2, total=   0.1s\n",
      "[CV] scaler__with_mean=True, clf__C=0.0005994842503189409, clf__random_state=42, clf__penalty=l2 \n",
      "[CV]  scaler__with_mean=True, clf__C=0.0005994842503189409, clf__random_state=42, clf__penalty=l2, total=   0.1s\n",
      "[CV] scaler__with_mean=True, clf__C=0.0005994842503189409, clf__random_state=42, clf__penalty=l2 \n"
     ]
    },
    {
     "name": "stderr",
     "output_type": "stream",
     "text": [
      "/home/dima/jupyter/venv/lib/python3.5/site-packages/sklearn/linear_model/logistic.py:432: FutureWarning: Default solver will be changed to 'lbfgs' in 0.22. Specify a solver to silence this warning.\n",
      "  FutureWarning)\n",
      "/home/dima/jupyter/venv/lib/python3.5/site-packages/sklearn/linear_model/logistic.py:432: FutureWarning: Default solver will be changed to 'lbfgs' in 0.22. Specify a solver to silence this warning.\n",
      "  FutureWarning)\n",
      "/home/dima/jupyter/venv/lib/python3.5/site-packages/sklearn/linear_model/logistic.py:432: FutureWarning: Default solver will be changed to 'lbfgs' in 0.22. Specify a solver to silence this warning.\n",
      "  FutureWarning)\n"
     ]
    },
    {
     "name": "stdout",
     "output_type": "stream",
     "text": [
      "[CV]  scaler__with_mean=True, clf__C=0.0005994842503189409, clf__random_state=42, clf__penalty=l2, total=   0.1s\n",
      "[CV] scaler__with_mean=True, clf__C=0.0005994842503189409, clf__random_state=42, clf__penalty=l2 \n",
      "[CV]  scaler__with_mean=True, clf__C=0.0005994842503189409, clf__random_state=42, clf__penalty=l2, total=   0.1s\n",
      "[CV] scaler__with_mean=False, clf__C=0.004641588833612777, clf__random_state=42, clf__penalty=l1 \n",
      "[CV]  scaler__with_mean=False, clf__C=0.004641588833612777, clf__random_state=42, clf__penalty=l1, total=   0.1s\n",
      "[CV] scaler__with_mean=False, clf__C=0.004641588833612777, clf__random_state=42, clf__penalty=l1 \n"
     ]
    },
    {
     "name": "stderr",
     "output_type": "stream",
     "text": [
      "/home/dima/jupyter/venv/lib/python3.5/site-packages/sklearn/linear_model/logistic.py:432: FutureWarning: Default solver will be changed to 'lbfgs' in 0.22. Specify a solver to silence this warning.\n",
      "  FutureWarning)\n",
      "/home/dima/jupyter/venv/lib/python3.5/site-packages/sklearn/linear_model/logistic.py:432: FutureWarning: Default solver will be changed to 'lbfgs' in 0.22. Specify a solver to silence this warning.\n",
      "  FutureWarning)\n",
      "/home/dima/jupyter/venv/lib/python3.5/site-packages/sklearn/linear_model/logistic.py:432: FutureWarning: Default solver will be changed to 'lbfgs' in 0.22. Specify a solver to silence this warning.\n",
      "  FutureWarning)\n",
      "/home/dima/jupyter/venv/lib/python3.5/site-packages/sklearn/linear_model/logistic.py:432: FutureWarning: Default solver will be changed to 'lbfgs' in 0.22. Specify a solver to silence this warning.\n",
      "  FutureWarning)\n"
     ]
    },
    {
     "name": "stdout",
     "output_type": "stream",
     "text": [
      "[CV]  scaler__with_mean=False, clf__C=0.004641588833612777, clf__random_state=42, clf__penalty=l1, total=   0.1s\n",
      "[CV] scaler__with_mean=False, clf__C=0.004641588833612777, clf__random_state=42, clf__penalty=l1 \n",
      "[CV]  scaler__with_mean=False, clf__C=0.004641588833612777, clf__random_state=42, clf__penalty=l1, total=   0.1s\n",
      "[CV] scaler__with_mean=False, clf__C=0.004641588833612777, clf__random_state=42, clf__penalty=l1 \n"
     ]
    },
    {
     "name": "stderr",
     "output_type": "stream",
     "text": [
      "/home/dima/jupyter/venv/lib/python3.5/site-packages/sklearn/linear_model/logistic.py:432: FutureWarning: Default solver will be changed to 'lbfgs' in 0.22. Specify a solver to silence this warning.\n",
      "  FutureWarning)\n",
      "/home/dima/jupyter/venv/lib/python3.5/site-packages/sklearn/linear_model/logistic.py:432: FutureWarning: Default solver will be changed to 'lbfgs' in 0.22. Specify a solver to silence this warning.\n",
      "  FutureWarning)\n"
     ]
    },
    {
     "name": "stdout",
     "output_type": "stream",
     "text": [
      "[CV]  scaler__with_mean=False, clf__C=0.004641588833612777, clf__random_state=42, clf__penalty=l1, total=   0.1s\n",
      "[CV] scaler__with_mean=False, clf__C=0.004641588833612777, clf__random_state=42, clf__penalty=l1 \n",
      "[CV]  scaler__with_mean=False, clf__C=0.004641588833612777, clf__random_state=42, clf__penalty=l1, total=   0.1s\n",
      "[CV] scaler__with_mean=True, clf__C=0.004641588833612777, clf__random_state=42, clf__penalty=l1 \n"
     ]
    },
    {
     "name": "stderr",
     "output_type": "stream",
     "text": [
      "/home/dima/jupyter/venv/lib/python3.5/site-packages/sklearn/linear_model/logistic.py:432: FutureWarning: Default solver will be changed to 'lbfgs' in 0.22. Specify a solver to silence this warning.\n",
      "  FutureWarning)\n",
      "/home/dima/jupyter/venv/lib/python3.5/site-packages/sklearn/linear_model/logistic.py:432: FutureWarning: Default solver will be changed to 'lbfgs' in 0.22. Specify a solver to silence this warning.\n",
      "  FutureWarning)\n"
     ]
    },
    {
     "name": "stdout",
     "output_type": "stream",
     "text": [
      "[CV]  scaler__with_mean=True, clf__C=0.004641588833612777, clf__random_state=42, clf__penalty=l1, total=   0.1s\n",
      "[CV] scaler__with_mean=True, clf__C=0.004641588833612777, clf__random_state=42, clf__penalty=l1 \n",
      "[CV]  scaler__with_mean=True, clf__C=0.004641588833612777, clf__random_state=42, clf__penalty=l1, total=   0.1s\n",
      "[CV] scaler__with_mean=True, clf__C=0.004641588833612777, clf__random_state=42, clf__penalty=l1 \n",
      "[CV]  scaler__with_mean=True, clf__C=0.004641588833612777, clf__random_state=42, clf__penalty=l1, total=   0.1s"
     ]
    },
    {
     "name": "stderr",
     "output_type": "stream",
     "text": [
      "/home/dima/jupyter/venv/lib/python3.5/site-packages/sklearn/linear_model/logistic.py:432: FutureWarning: Default solver will be changed to 'lbfgs' in 0.22. Specify a solver to silence this warning.\n",
      "  FutureWarning)\n",
      "/home/dima/jupyter/venv/lib/python3.5/site-packages/sklearn/linear_model/logistic.py:432: FutureWarning: Default solver will be changed to 'lbfgs' in 0.22. Specify a solver to silence this warning.\n",
      "  FutureWarning)\n"
     ]
    },
    {
     "name": "stdout",
     "output_type": "stream",
     "text": [
      "\n",
      "[CV] scaler__with_mean=True, clf__C=0.004641588833612777, clf__random_state=42, clf__penalty=l1 \n",
      "[CV]  scaler__with_mean=True, clf__C=0.004641588833612777, clf__random_state=42, clf__penalty=l1, total=   0.1s\n",
      "[CV] scaler__with_mean=True, clf__C=0.004641588833612777, clf__random_state=42, clf__penalty=l1 \n"
     ]
    },
    {
     "name": "stderr",
     "output_type": "stream",
     "text": [
      "/home/dima/jupyter/venv/lib/python3.5/site-packages/sklearn/linear_model/logistic.py:432: FutureWarning: Default solver will be changed to 'lbfgs' in 0.22. Specify a solver to silence this warning.\n",
      "  FutureWarning)\n",
      "/home/dima/jupyter/venv/lib/python3.5/site-packages/sklearn/linear_model/logistic.py:432: FutureWarning: Default solver will be changed to 'lbfgs' in 0.22. Specify a solver to silence this warning.\n",
      "  FutureWarning)\n"
     ]
    },
    {
     "name": "stdout",
     "output_type": "stream",
     "text": [
      "[CV]  scaler__with_mean=True, clf__C=0.004641588833612777, clf__random_state=42, clf__penalty=l1, total=   0.1s\n",
      "[CV] scaler__with_mean=False, clf__C=0.004641588833612777, clf__random_state=42, clf__penalty=l2 \n",
      "[CV]  scaler__with_mean=False, clf__C=0.004641588833612777, clf__random_state=42, clf__penalty=l2, total=   0.1s\n",
      "[CV] scaler__with_mean=False, clf__C=0.004641588833612777, clf__random_state=42, clf__penalty=l2 \n"
     ]
    },
    {
     "name": "stderr",
     "output_type": "stream",
     "text": [
      "/home/dima/jupyter/venv/lib/python3.5/site-packages/sklearn/linear_model/logistic.py:432: FutureWarning: Default solver will be changed to 'lbfgs' in 0.22. Specify a solver to silence this warning.\n",
      "  FutureWarning)\n",
      "/home/dima/jupyter/venv/lib/python3.5/site-packages/sklearn/linear_model/logistic.py:432: FutureWarning: Default solver will be changed to 'lbfgs' in 0.22. Specify a solver to silence this warning.\n",
      "  FutureWarning)\n",
      "/home/dima/jupyter/venv/lib/python3.5/site-packages/sklearn/linear_model/logistic.py:432: FutureWarning: Default solver will be changed to 'lbfgs' in 0.22. Specify a solver to silence this warning.\n",
      "  FutureWarning)\n"
     ]
    },
    {
     "name": "stdout",
     "output_type": "stream",
     "text": [
      "[CV]  scaler__with_mean=False, clf__C=0.004641588833612777, clf__random_state=42, clf__penalty=l2, total=   0.1s\n",
      "[CV] scaler__with_mean=False, clf__C=0.004641588833612777, clf__random_state=42, clf__penalty=l2 \n",
      "[CV]  scaler__with_mean=False, clf__C=0.004641588833612777, clf__random_state=42, clf__penalty=l2, total=   0.1s\n",
      "[CV] scaler__with_mean=False, clf__C=0.004641588833612777, clf__random_state=42, clf__penalty=l2 \n",
      "[CV]  scaler__with_mean=False, clf__C=0.004641588833612777, clf__random_state=42, clf__penalty=l2, total=   0.1s\n",
      "[CV] scaler__with_mean=False, clf__C=0.004641588833612777, clf__random_state=42, clf__penalty=l2 \n",
      "[CV]  scaler__with_mean=False, clf__C=0.004641588833612777, clf__random_state=42, clf__penalty=l2, total=   0.1s\n",
      "[CV] scaler__with_mean=True, clf__C=0.004641588833612777, clf__random_state=42, clf__penalty=l2 \n"
     ]
    },
    {
     "name": "stderr",
     "output_type": "stream",
     "text": [
      "/home/dima/jupyter/venv/lib/python3.5/site-packages/sklearn/linear_model/logistic.py:432: FutureWarning: Default solver will be changed to 'lbfgs' in 0.22. Specify a solver to silence this warning.\n",
      "  FutureWarning)\n",
      "/home/dima/jupyter/venv/lib/python3.5/site-packages/sklearn/linear_model/logistic.py:432: FutureWarning: Default solver will be changed to 'lbfgs' in 0.22. Specify a solver to silence this warning.\n",
      "  FutureWarning)\n"
     ]
    },
    {
     "name": "stdout",
     "output_type": "stream",
     "text": [
      "[CV]  scaler__with_mean=True, clf__C=0.004641588833612777, clf__random_state=42, clf__penalty=l2, total=   0.1s\n",
      "[CV] scaler__with_mean=True, clf__C=0.004641588833612777, clf__random_state=42, clf__penalty=l2 \n",
      "[CV]  scaler__with_mean=True, clf__C=0.004641588833612777, clf__random_state=42, clf__penalty=l2, total=   0.1s\n",
      "[CV] scaler__with_mean=True, clf__C=0.004641588833612777, clf__random_state=42, clf__penalty=l2 \n"
     ]
    },
    {
     "name": "stderr",
     "output_type": "stream",
     "text": [
      "/home/dima/jupyter/venv/lib/python3.5/site-packages/sklearn/linear_model/logistic.py:432: FutureWarning: Default solver will be changed to 'lbfgs' in 0.22. Specify a solver to silence this warning.\n",
      "  FutureWarning)\n",
      "/home/dima/jupyter/venv/lib/python3.5/site-packages/sklearn/linear_model/logistic.py:432: FutureWarning: Default solver will be changed to 'lbfgs' in 0.22. Specify a solver to silence this warning.\n",
      "  FutureWarning)\n"
     ]
    },
    {
     "name": "stdout",
     "output_type": "stream",
     "text": [
      "[CV]  scaler__with_mean=True, clf__C=0.004641588833612777, clf__random_state=42, clf__penalty=l2, total=   0.1s\n",
      "[CV] scaler__with_mean=True, clf__C=0.004641588833612777, clf__random_state=42, clf__penalty=l2 \n",
      "[CV]  scaler__with_mean=True, clf__C=0.004641588833612777, clf__random_state=42, clf__penalty=l2, total=   0.1s\n",
      "[CV] scaler__with_mean=True, clf__C=0.004641588833612777, clf__random_state=42, clf__penalty=l2 \n"
     ]
    },
    {
     "name": "stderr",
     "output_type": "stream",
     "text": [
      "/home/dima/jupyter/venv/lib/python3.5/site-packages/sklearn/linear_model/logistic.py:432: FutureWarning: Default solver will be changed to 'lbfgs' in 0.22. Specify a solver to silence this warning.\n",
      "  FutureWarning)\n",
      "/home/dima/jupyter/venv/lib/python3.5/site-packages/sklearn/linear_model/logistic.py:432: FutureWarning: Default solver will be changed to 'lbfgs' in 0.22. Specify a solver to silence this warning.\n",
      "  FutureWarning)\n"
     ]
    },
    {
     "name": "stdout",
     "output_type": "stream",
     "text": [
      "[CV]  scaler__with_mean=True, clf__C=0.004641588833612777, clf__random_state=42, clf__penalty=l2, total=   0.1s\n",
      "[CV] scaler__with_mean=False, clf__C=0.03593813663804626, clf__random_state=42, clf__penalty=l1 \n"
     ]
    },
    {
     "name": "stderr",
     "output_type": "stream",
     "text": [
      "/home/dima/jupyter/venv/lib/python3.5/site-packages/sklearn/linear_model/logistic.py:432: FutureWarning: Default solver will be changed to 'lbfgs' in 0.22. Specify a solver to silence this warning.\n",
      "  FutureWarning)\n"
     ]
    },
    {
     "name": "stdout",
     "output_type": "stream",
     "text": [
      "[CV]  scaler__with_mean=False, clf__C=0.03593813663804626, clf__random_state=42, clf__penalty=l1, total=   0.5s\n",
      "[CV] scaler__with_mean=False, clf__C=0.03593813663804626, clf__random_state=42, clf__penalty=l1 \n"
     ]
    },
    {
     "name": "stderr",
     "output_type": "stream",
     "text": [
      "/home/dima/jupyter/venv/lib/python3.5/site-packages/sklearn/linear_model/logistic.py:432: FutureWarning: Default solver will be changed to 'lbfgs' in 0.22. Specify a solver to silence this warning.\n",
      "  FutureWarning)\n"
     ]
    },
    {
     "name": "stdout",
     "output_type": "stream",
     "text": [
      "[CV]  scaler__with_mean=False, clf__C=0.03593813663804626, clf__random_state=42, clf__penalty=l1, total=   0.5s\n",
      "[CV] scaler__with_mean=False, clf__C=0.03593813663804626, clf__random_state=42, clf__penalty=l1 \n"
     ]
    },
    {
     "name": "stderr",
     "output_type": "stream",
     "text": [
      "/home/dima/jupyter/venv/lib/python3.5/site-packages/sklearn/linear_model/logistic.py:432: FutureWarning: Default solver will be changed to 'lbfgs' in 0.22. Specify a solver to silence this warning.\n",
      "  FutureWarning)\n"
     ]
    },
    {
     "name": "stdout",
     "output_type": "stream",
     "text": [
      "[CV]  scaler__with_mean=False, clf__C=0.03593813663804626, clf__random_state=42, clf__penalty=l1, total=   0.3s\n",
      "[CV] scaler__with_mean=False, clf__C=0.03593813663804626, clf__random_state=42, clf__penalty=l1 \n"
     ]
    },
    {
     "name": "stderr",
     "output_type": "stream",
     "text": [
      "/home/dima/jupyter/venv/lib/python3.5/site-packages/sklearn/linear_model/logistic.py:432: FutureWarning: Default solver will be changed to 'lbfgs' in 0.22. Specify a solver to silence this warning.\n",
      "  FutureWarning)\n"
     ]
    },
    {
     "name": "stdout",
     "output_type": "stream",
     "text": [
      "[CV]  scaler__with_mean=False, clf__C=0.03593813663804626, clf__random_state=42, clf__penalty=l1, total=   0.5s\n",
      "[CV] scaler__with_mean=False, clf__C=0.03593813663804626, clf__random_state=42, clf__penalty=l1 \n"
     ]
    },
    {
     "name": "stderr",
     "output_type": "stream",
     "text": [
      "/home/dima/jupyter/venv/lib/python3.5/site-packages/sklearn/linear_model/logistic.py:432: FutureWarning: Default solver will be changed to 'lbfgs' in 0.22. Specify a solver to silence this warning.\n",
      "  FutureWarning)\n"
     ]
    },
    {
     "name": "stdout",
     "output_type": "stream",
     "text": [
      "[CV]  scaler__with_mean=False, clf__C=0.03593813663804626, clf__random_state=42, clf__penalty=l1, total=   0.4s\n",
      "[CV] scaler__with_mean=True, clf__C=0.03593813663804626, clf__random_state=42, clf__penalty=l1 \n",
      "[CV]  scaler__with_mean=True, clf__C=0.03593813663804626, clf__random_state=42, clf__penalty=l1, total=   0.2s\n",
      "[CV] scaler__with_mean=True, clf__C=0.03593813663804626, clf__random_state=42, clf__penalty=l1 \n"
     ]
    },
    {
     "name": "stderr",
     "output_type": "stream",
     "text": [
      "/home/dima/jupyter/venv/lib/python3.5/site-packages/sklearn/linear_model/logistic.py:432: FutureWarning: Default solver will be changed to 'lbfgs' in 0.22. Specify a solver to silence this warning.\n",
      "  FutureWarning)\n",
      "/home/dima/jupyter/venv/lib/python3.5/site-packages/sklearn/linear_model/logistic.py:432: FutureWarning: Default solver will be changed to 'lbfgs' in 0.22. Specify a solver to silence this warning.\n",
      "  FutureWarning)\n"
     ]
    },
    {
     "name": "stdout",
     "output_type": "stream",
     "text": [
      "[CV]  scaler__with_mean=True, clf__C=0.03593813663804626, clf__random_state=42, clf__penalty=l1, total=   0.1s\n",
      "[CV] scaler__with_mean=True, clf__C=0.03593813663804626, clf__random_state=42, clf__penalty=l1 \n",
      "[CV]  scaler__with_mean=True, clf__C=0.03593813663804626, clf__random_state=42, clf__penalty=l1, total=   0.2s\n",
      "[CV] scaler__with_mean=True, clf__C=0.03593813663804626, clf__random_state=42, clf__penalty=l1 \n"
     ]
    },
    {
     "name": "stderr",
     "output_type": "stream",
     "text": [
      "/home/dima/jupyter/venv/lib/python3.5/site-packages/sklearn/linear_model/logistic.py:432: FutureWarning: Default solver will be changed to 'lbfgs' in 0.22. Specify a solver to silence this warning.\n",
      "  FutureWarning)\n",
      "/home/dima/jupyter/venv/lib/python3.5/site-packages/sklearn/linear_model/logistic.py:432: FutureWarning: Default solver will be changed to 'lbfgs' in 0.22. Specify a solver to silence this warning.\n",
      "  FutureWarning)\n"
     ]
    },
    {
     "name": "stdout",
     "output_type": "stream",
     "text": [
      "[CV]  scaler__with_mean=True, clf__C=0.03593813663804626, clf__random_state=42, clf__penalty=l1, total=   0.1s\n",
      "[CV] scaler__with_mean=True, clf__C=0.03593813663804626, clf__random_state=42, clf__penalty=l1 \n",
      "[CV]  scaler__with_mean=True, clf__C=0.03593813663804626, clf__random_state=42, clf__penalty=l1, total=   0.2s\n",
      "[CV] scaler__with_mean=False, clf__C=0.03593813663804626, clf__random_state=42, clf__penalty=l2 \n"
     ]
    },
    {
     "name": "stderr",
     "output_type": "stream",
     "text": [
      "/home/dima/jupyter/venv/lib/python3.5/site-packages/sklearn/linear_model/logistic.py:432: FutureWarning: Default solver will be changed to 'lbfgs' in 0.22. Specify a solver to silence this warning.\n",
      "  FutureWarning)\n",
      "/home/dima/jupyter/venv/lib/python3.5/site-packages/sklearn/linear_model/logistic.py:432: FutureWarning: Default solver will be changed to 'lbfgs' in 0.22. Specify a solver to silence this warning.\n",
      "  FutureWarning)\n"
     ]
    },
    {
     "name": "stdout",
     "output_type": "stream",
     "text": [
      "[CV]  scaler__with_mean=False, clf__C=0.03593813663804626, clf__random_state=42, clf__penalty=l2, total=   0.2s\n",
      "[CV] scaler__with_mean=False, clf__C=0.03593813663804626, clf__random_state=42, clf__penalty=l2 \n",
      "[CV]  scaler__with_mean=False, clf__C=0.03593813663804626, clf__random_state=42, clf__penalty=l2, total=   0.1s\n",
      "[CV] scaler__with_mean=False, clf__C=0.03593813663804626, clf__random_state=42, clf__penalty=l2 \n"
     ]
    },
    {
     "name": "stderr",
     "output_type": "stream",
     "text": [
      "/home/dima/jupyter/venv/lib/python3.5/site-packages/sklearn/linear_model/logistic.py:432: FutureWarning: Default solver will be changed to 'lbfgs' in 0.22. Specify a solver to silence this warning.\n",
      "  FutureWarning)\n",
      "/home/dima/jupyter/venv/lib/python3.5/site-packages/sklearn/linear_model/logistic.py:432: FutureWarning: Default solver will be changed to 'lbfgs' in 0.22. Specify a solver to silence this warning.\n",
      "  FutureWarning)\n"
     ]
    },
    {
     "name": "stdout",
     "output_type": "stream",
     "text": [
      "[CV]  scaler__with_mean=False, clf__C=0.03593813663804626, clf__random_state=42, clf__penalty=l2, total=   0.1s\n",
      "[CV] scaler__with_mean=False, clf__C=0.03593813663804626, clf__random_state=42, clf__penalty=l2 \n",
      "[CV]  scaler__with_mean=False, clf__C=0.03593813663804626, clf__random_state=42, clf__penalty=l2, total=   0.1s\n",
      "[CV] scaler__with_mean=False, clf__C=0.03593813663804626, clf__random_state=42, clf__penalty=l2 \n"
     ]
    },
    {
     "name": "stderr",
     "output_type": "stream",
     "text": [
      "/home/dima/jupyter/venv/lib/python3.5/site-packages/sklearn/linear_model/logistic.py:432: FutureWarning: Default solver will be changed to 'lbfgs' in 0.22. Specify a solver to silence this warning.\n",
      "  FutureWarning)\n",
      "/home/dima/jupyter/venv/lib/python3.5/site-packages/sklearn/linear_model/logistic.py:432: FutureWarning: Default solver will be changed to 'lbfgs' in 0.22. Specify a solver to silence this warning.\n",
      "  FutureWarning)\n"
     ]
    },
    {
     "name": "stdout",
     "output_type": "stream",
     "text": [
      "[CV]  scaler__with_mean=False, clf__C=0.03593813663804626, clf__random_state=42, clf__penalty=l2, total=   0.1s\n",
      "[CV] scaler__with_mean=True, clf__C=0.03593813663804626, clf__random_state=42, clf__penalty=l2 \n",
      "[CV]  scaler__with_mean=True, clf__C=0.03593813663804626, clf__random_state=42, clf__penalty=l2, total=   0.2s\n",
      "[CV] scaler__with_mean=True, clf__C=0.03593813663804626, clf__random_state=42, clf__penalty=l2 \n"
     ]
    },
    {
     "name": "stderr",
     "output_type": "stream",
     "text": [
      "/home/dima/jupyter/venv/lib/python3.5/site-packages/sklearn/linear_model/logistic.py:432: FutureWarning: Default solver will be changed to 'lbfgs' in 0.22. Specify a solver to silence this warning.\n",
      "  FutureWarning)\n",
      "/home/dima/jupyter/venv/lib/python3.5/site-packages/sklearn/linear_model/logistic.py:432: FutureWarning: Default solver will be changed to 'lbfgs' in 0.22. Specify a solver to silence this warning.\n",
      "  FutureWarning)\n"
     ]
    },
    {
     "name": "stdout",
     "output_type": "stream",
     "text": [
      "[CV]  scaler__with_mean=True, clf__C=0.03593813663804626, clf__random_state=42, clf__penalty=l2, total=   0.2s\n",
      "[CV] scaler__with_mean=True, clf__C=0.03593813663804626, clf__random_state=42, clf__penalty=l2 \n",
      "[CV]  scaler__with_mean=True, clf__C=0.03593813663804626, clf__random_state=42, clf__penalty=l2, total=   0.2s\n",
      "[CV] scaler__with_mean=True, clf__C=0.03593813663804626, clf__random_state=42, clf__penalty=l2 \n"
     ]
    },
    {
     "name": "stderr",
     "output_type": "stream",
     "text": [
      "/home/dima/jupyter/venv/lib/python3.5/site-packages/sklearn/linear_model/logistic.py:432: FutureWarning: Default solver will be changed to 'lbfgs' in 0.22. Specify a solver to silence this warning.\n",
      "  FutureWarning)\n",
      "/home/dima/jupyter/venv/lib/python3.5/site-packages/sklearn/linear_model/logistic.py:432: FutureWarning: Default solver will be changed to 'lbfgs' in 0.22. Specify a solver to silence this warning.\n",
      "  FutureWarning)\n"
     ]
    },
    {
     "name": "stdout",
     "output_type": "stream",
     "text": [
      "[CV]  scaler__with_mean=True, clf__C=0.03593813663804626, clf__random_state=42, clf__penalty=l2, total=   0.2s\n",
      "[CV] scaler__with_mean=True, clf__C=0.03593813663804626, clf__random_state=42, clf__penalty=l2 \n",
      "[CV]  scaler__with_mean=True, clf__C=0.03593813663804626, clf__random_state=42, clf__penalty=l2, total=   0.2s\n",
      "[CV] scaler__with_mean=False, clf__C=0.2782559402207126, clf__random_state=42, clf__penalty=l1 \n"
     ]
    },
    {
     "name": "stderr",
     "output_type": "stream",
     "text": [
      "/home/dima/jupyter/venv/lib/python3.5/site-packages/sklearn/linear_model/logistic.py:432: FutureWarning: Default solver will be changed to 'lbfgs' in 0.22. Specify a solver to silence this warning.\n",
      "  FutureWarning)\n",
      "/home/dima/jupyter/venv/lib/python3.5/site-packages/sklearn/linear_model/logistic.py:432: FutureWarning: Default solver will be changed to 'lbfgs' in 0.22. Specify a solver to silence this warning.\n",
      "  FutureWarning)\n"
     ]
    },
    {
     "name": "stdout",
     "output_type": "stream",
     "text": [
      "[CV]  scaler__with_mean=False, clf__C=0.2782559402207126, clf__random_state=42, clf__penalty=l1, total=   3.1s\n",
      "[CV] scaler__with_mean=False, clf__C=0.2782559402207126, clf__random_state=42, clf__penalty=l1 \n"
     ]
    },
    {
     "name": "stderr",
     "output_type": "stream",
     "text": [
      "/home/dima/jupyter/venv/lib/python3.5/site-packages/sklearn/linear_model/logistic.py:432: FutureWarning: Default solver will be changed to 'lbfgs' in 0.22. Specify a solver to silence this warning.\n",
      "  FutureWarning)\n"
     ]
    },
    {
     "name": "stdout",
     "output_type": "stream",
     "text": [
      "[CV]  scaler__with_mean=False, clf__C=0.2782559402207126, clf__random_state=42, clf__penalty=l1, total=   2.9s\n",
      "[CV] scaler__with_mean=False, clf__C=0.2782559402207126, clf__random_state=42, clf__penalty=l1 \n"
     ]
    },
    {
     "name": "stderr",
     "output_type": "stream",
     "text": [
      "/home/dima/jupyter/venv/lib/python3.5/site-packages/sklearn/linear_model/logistic.py:432: FutureWarning: Default solver will be changed to 'lbfgs' in 0.22. Specify a solver to silence this warning.\n",
      "  FutureWarning)\n"
     ]
    },
    {
     "name": "stdout",
     "output_type": "stream",
     "text": [
      "[CV]  scaler__with_mean=False, clf__C=0.2782559402207126, clf__random_state=42, clf__penalty=l1, total=   0.7s\n",
      "[CV] scaler__with_mean=False, clf__C=0.2782559402207126, clf__random_state=42, clf__penalty=l1 \n"
     ]
    },
    {
     "name": "stderr",
     "output_type": "stream",
     "text": [
      "/home/dima/jupyter/venv/lib/python3.5/site-packages/sklearn/linear_model/logistic.py:432: FutureWarning: Default solver will be changed to 'lbfgs' in 0.22. Specify a solver to silence this warning.\n",
      "  FutureWarning)\n"
     ]
    },
    {
     "name": "stdout",
     "output_type": "stream",
     "text": [
      "[CV]  scaler__with_mean=False, clf__C=0.2782559402207126, clf__random_state=42, clf__penalty=l1, total=   4.8s\n",
      "[CV] scaler__with_mean=False, clf__C=0.2782559402207126, clf__random_state=42, clf__penalty=l1 \n"
     ]
    },
    {
     "name": "stderr",
     "output_type": "stream",
     "text": [
      "/home/dima/jupyter/venv/lib/python3.5/site-packages/sklearn/linear_model/logistic.py:432: FutureWarning: Default solver will be changed to 'lbfgs' in 0.22. Specify a solver to silence this warning.\n",
      "  FutureWarning)\n"
     ]
    },
    {
     "name": "stdout",
     "output_type": "stream",
     "text": [
      "[CV]  scaler__with_mean=False, clf__C=0.2782559402207126, clf__random_state=42, clf__penalty=l1, total=   2.8s\n",
      "[CV] scaler__with_mean=True, clf__C=0.2782559402207126, clf__random_state=42, clf__penalty=l1 \n"
     ]
    },
    {
     "name": "stderr",
     "output_type": "stream",
     "text": [
      "/home/dima/jupyter/venv/lib/python3.5/site-packages/sklearn/linear_model/logistic.py:432: FutureWarning: Default solver will be changed to 'lbfgs' in 0.22. Specify a solver to silence this warning.\n",
      "  FutureWarning)\n"
     ]
    },
    {
     "name": "stdout",
     "output_type": "stream",
     "text": [
      "[CV]  scaler__with_mean=True, clf__C=0.2782559402207126, clf__random_state=42, clf__penalty=l1, total=   0.6s\n",
      "[CV] scaler__with_mean=True, clf__C=0.2782559402207126, clf__random_state=42, clf__penalty=l1 \n"
     ]
    },
    {
     "name": "stderr",
     "output_type": "stream",
     "text": [
      "/home/dima/jupyter/venv/lib/python3.5/site-packages/sklearn/linear_model/logistic.py:432: FutureWarning: Default solver will be changed to 'lbfgs' in 0.22. Specify a solver to silence this warning.\n",
      "  FutureWarning)\n"
     ]
    },
    {
     "name": "stdout",
     "output_type": "stream",
     "text": [
      "[CV]  scaler__with_mean=True, clf__C=0.2782559402207126, clf__random_state=42, clf__penalty=l1, total=   0.5s\n",
      "[CV] scaler__with_mean=True, clf__C=0.2782559402207126, clf__random_state=42, clf__penalty=l1 \n"
     ]
    },
    {
     "name": "stderr",
     "output_type": "stream",
     "text": [
      "/home/dima/jupyter/venv/lib/python3.5/site-packages/sklearn/linear_model/logistic.py:432: FutureWarning: Default solver will be changed to 'lbfgs' in 0.22. Specify a solver to silence this warning.\n",
      "  FutureWarning)\n"
     ]
    },
    {
     "name": "stdout",
     "output_type": "stream",
     "text": [
      "[CV]  scaler__with_mean=True, clf__C=0.2782559402207126, clf__random_state=42, clf__penalty=l1, total=   0.6s\n",
      "[CV] scaler__with_mean=True, clf__C=0.2782559402207126, clf__random_state=42, clf__penalty=l1 \n"
     ]
    },
    {
     "name": "stderr",
     "output_type": "stream",
     "text": [
      "/home/dima/jupyter/venv/lib/python3.5/site-packages/sklearn/linear_model/logistic.py:432: FutureWarning: Default solver will be changed to 'lbfgs' in 0.22. Specify a solver to silence this warning.\n",
      "  FutureWarning)\n"
     ]
    },
    {
     "name": "stdout",
     "output_type": "stream",
     "text": [
      "[CV]  scaler__with_mean=True, clf__C=0.2782559402207126, clf__random_state=42, clf__penalty=l1, total=   0.4s\n",
      "[CV] scaler__with_mean=True, clf__C=0.2782559402207126, clf__random_state=42, clf__penalty=l1 \n"
     ]
    },
    {
     "name": "stderr",
     "output_type": "stream",
     "text": [
      "/home/dima/jupyter/venv/lib/python3.5/site-packages/sklearn/linear_model/logistic.py:432: FutureWarning: Default solver will be changed to 'lbfgs' in 0.22. Specify a solver to silence this warning.\n",
      "  FutureWarning)\n"
     ]
    },
    {
     "name": "stdout",
     "output_type": "stream",
     "text": [
      "[CV]  scaler__with_mean=True, clf__C=0.2782559402207126, clf__random_state=42, clf__penalty=l1, total=   0.2s\n",
      "[CV] scaler__with_mean=False, clf__C=0.2782559402207126, clf__random_state=42, clf__penalty=l2 \n",
      "[CV]  scaler__with_mean=False, clf__C=0.2782559402207126, clf__random_state=42, clf__penalty=l2, total=   0.2s\n",
      "[CV] scaler__with_mean=False, clf__C=0.2782559402207126, clf__random_state=42, clf__penalty=l2 "
     ]
    },
    {
     "name": "stderr",
     "output_type": "stream",
     "text": [
      "/home/dima/jupyter/venv/lib/python3.5/site-packages/sklearn/linear_model/logistic.py:432: FutureWarning: Default solver will be changed to 'lbfgs' in 0.22. Specify a solver to silence this warning.\n",
      "  FutureWarning)\n",
      "/home/dima/jupyter/venv/lib/python3.5/site-packages/sklearn/linear_model/logistic.py:432: FutureWarning: Default solver will be changed to 'lbfgs' in 0.22. Specify a solver to silence this warning.\n",
      "  FutureWarning)\n"
     ]
    },
    {
     "name": "stdout",
     "output_type": "stream",
     "text": [
      "\n",
      "[CV]  scaler__with_mean=False, clf__C=0.2782559402207126, clf__random_state=42, clf__penalty=l2, total=   0.2s\n",
      "[CV] scaler__with_mean=False, clf__C=0.2782559402207126, clf__random_state=42, clf__penalty=l2 \n"
     ]
    },
    {
     "name": "stderr",
     "output_type": "stream",
     "text": [
      "/home/dima/jupyter/venv/lib/python3.5/site-packages/sklearn/linear_model/logistic.py:432: FutureWarning: Default solver will be changed to 'lbfgs' in 0.22. Specify a solver to silence this warning.\n",
      "  FutureWarning)\n",
      "/home/dima/jupyter/venv/lib/python3.5/site-packages/sklearn/linear_model/logistic.py:432: FutureWarning: Default solver will be changed to 'lbfgs' in 0.22. Specify a solver to silence this warning.\n",
      "  FutureWarning)\n"
     ]
    },
    {
     "name": "stdout",
     "output_type": "stream",
     "text": [
      "[CV]  scaler__with_mean=False, clf__C=0.2782559402207126, clf__random_state=42, clf__penalty=l2, total=   0.2s\n",
      "[CV] scaler__with_mean=False, clf__C=0.2782559402207126, clf__random_state=42, clf__penalty=l2 \n",
      "[CV]  scaler__with_mean=False, clf__C=0.2782559402207126, clf__random_state=42, clf__penalty=l2, total=   0.2s\n",
      "[CV] scaler__with_mean=False, clf__C=0.2782559402207126, clf__random_state=42, clf__penalty=l2 \n"
     ]
    },
    {
     "name": "stderr",
     "output_type": "stream",
     "text": [
      "/home/dima/jupyter/venv/lib/python3.5/site-packages/sklearn/linear_model/logistic.py:432: FutureWarning: Default solver will be changed to 'lbfgs' in 0.22. Specify a solver to silence this warning.\n",
      "  FutureWarning)\n"
     ]
    },
    {
     "name": "stdout",
     "output_type": "stream",
     "text": [
      "[CV]  scaler__with_mean=False, clf__C=0.2782559402207126, clf__random_state=42, clf__penalty=l2, total=   0.2s\n",
      "[CV] scaler__with_mean=True, clf__C=0.2782559402207126, clf__random_state=42, clf__penalty=l2 \n"
     ]
    },
    {
     "name": "stderr",
     "output_type": "stream",
     "text": [
      "/home/dima/jupyter/venv/lib/python3.5/site-packages/sklearn/linear_model/logistic.py:432: FutureWarning: Default solver will be changed to 'lbfgs' in 0.22. Specify a solver to silence this warning.\n",
      "  FutureWarning)\n"
     ]
    },
    {
     "name": "stdout",
     "output_type": "stream",
     "text": [
      "[CV]  scaler__with_mean=True, clf__C=0.2782559402207126, clf__random_state=42, clf__penalty=l2, total=   0.3s\n",
      "[CV] scaler__with_mean=True, clf__C=0.2782559402207126, clf__random_state=42, clf__penalty=l2 \n"
     ]
    },
    {
     "name": "stderr",
     "output_type": "stream",
     "text": [
      "/home/dima/jupyter/venv/lib/python3.5/site-packages/sklearn/linear_model/logistic.py:432: FutureWarning: Default solver will be changed to 'lbfgs' in 0.22. Specify a solver to silence this warning.\n",
      "  FutureWarning)\n"
     ]
    },
    {
     "name": "stdout",
     "output_type": "stream",
     "text": [
      "[CV]  scaler__with_mean=True, clf__C=0.2782559402207126, clf__random_state=42, clf__penalty=l2, total=   0.2s\n",
      "[CV] scaler__with_mean=True, clf__C=0.2782559402207126, clf__random_state=42, clf__penalty=l2 \n"
     ]
    },
    {
     "name": "stderr",
     "output_type": "stream",
     "text": [
      "/home/dima/jupyter/venv/lib/python3.5/site-packages/sklearn/linear_model/logistic.py:432: FutureWarning: Default solver will be changed to 'lbfgs' in 0.22. Specify a solver to silence this warning.\n",
      "  FutureWarning)\n"
     ]
    },
    {
     "name": "stdout",
     "output_type": "stream",
     "text": [
      "[CV]  scaler__with_mean=True, clf__C=0.2782559402207126, clf__random_state=42, clf__penalty=l2, total=   0.2s\n",
      "[CV] scaler__with_mean=True, clf__C=0.2782559402207126, clf__random_state=42, clf__penalty=l2 \n"
     ]
    },
    {
     "name": "stderr",
     "output_type": "stream",
     "text": [
      "/home/dima/jupyter/venv/lib/python3.5/site-packages/sklearn/linear_model/logistic.py:432: FutureWarning: Default solver will be changed to 'lbfgs' in 0.22. Specify a solver to silence this warning.\n",
      "  FutureWarning)\n"
     ]
    },
    {
     "name": "stdout",
     "output_type": "stream",
     "text": [
      "[CV]  scaler__with_mean=True, clf__C=0.2782559402207126, clf__random_state=42, clf__penalty=l2, total=   0.3s\n",
      "[CV] scaler__with_mean=True, clf__C=0.2782559402207126, clf__random_state=42, clf__penalty=l2 \n"
     ]
    },
    {
     "name": "stderr",
     "output_type": "stream",
     "text": [
      "/home/dima/jupyter/venv/lib/python3.5/site-packages/sklearn/linear_model/logistic.py:432: FutureWarning: Default solver will be changed to 'lbfgs' in 0.22. Specify a solver to silence this warning.\n",
      "  FutureWarning)\n"
     ]
    },
    {
     "name": "stdout",
     "output_type": "stream",
     "text": [
      "[CV]  scaler__with_mean=True, clf__C=0.2782559402207126, clf__random_state=42, clf__penalty=l2, total=   0.3s\n",
      "[CV] scaler__with_mean=False, clf__C=2.154434690031882, clf__random_state=42, clf__penalty=l1 \n"
     ]
    },
    {
     "name": "stderr",
     "output_type": "stream",
     "text": [
      "/home/dima/jupyter/venv/lib/python3.5/site-packages/sklearn/linear_model/logistic.py:432: FutureWarning: Default solver will be changed to 'lbfgs' in 0.22. Specify a solver to silence this warning.\n",
      "  FutureWarning)\n"
     ]
    },
    {
     "name": "stdout",
     "output_type": "stream",
     "text": [
      "[CV]  scaler__with_mean=False, clf__C=2.154434690031882, clf__random_state=42, clf__penalty=l1, total=   7.5s\n",
      "[CV] scaler__with_mean=False, clf__C=2.154434690031882, clf__random_state=42, clf__penalty=l1 \n"
     ]
    },
    {
     "name": "stderr",
     "output_type": "stream",
     "text": [
      "/home/dima/jupyter/venv/lib/python3.5/site-packages/sklearn/linear_model/logistic.py:432: FutureWarning: Default solver will be changed to 'lbfgs' in 0.22. Specify a solver to silence this warning.\n",
      "  FutureWarning)\n"
     ]
    },
    {
     "name": "stdout",
     "output_type": "stream",
     "text": [
      "[CV]  scaler__with_mean=False, clf__C=2.154434690031882, clf__random_state=42, clf__penalty=l1, total=   4.3s\n",
      "[CV] scaler__with_mean=False, clf__C=2.154434690031882, clf__random_state=42, clf__penalty=l1 \n"
     ]
    },
    {
     "name": "stderr",
     "output_type": "stream",
     "text": [
      "/home/dima/jupyter/venv/lib/python3.5/site-packages/sklearn/linear_model/logistic.py:432: FutureWarning: Default solver will be changed to 'lbfgs' in 0.22. Specify a solver to silence this warning.\n",
      "  FutureWarning)\n"
     ]
    },
    {
     "name": "stdout",
     "output_type": "stream",
     "text": [
      "[CV]  scaler__with_mean=False, clf__C=2.154434690031882, clf__random_state=42, clf__penalty=l1, total=   4.6s\n",
      "[CV] scaler__with_mean=False, clf__C=2.154434690031882, clf__random_state=42, clf__penalty=l1 \n"
     ]
    },
    {
     "name": "stderr",
     "output_type": "stream",
     "text": [
      "/home/dima/jupyter/venv/lib/python3.5/site-packages/sklearn/linear_model/logistic.py:432: FutureWarning: Default solver will be changed to 'lbfgs' in 0.22. Specify a solver to silence this warning.\n",
      "  FutureWarning)\n"
     ]
    },
    {
     "name": "stdout",
     "output_type": "stream",
     "text": [
      "[CV]  scaler__with_mean=False, clf__C=2.154434690031882, clf__random_state=42, clf__penalty=l1, total=   3.9s\n",
      "[CV] scaler__with_mean=False, clf__C=2.154434690031882, clf__random_state=42, clf__penalty=l1 \n"
     ]
    },
    {
     "name": "stderr",
     "output_type": "stream",
     "text": [
      "/home/dima/jupyter/venv/lib/python3.5/site-packages/sklearn/linear_model/logistic.py:432: FutureWarning: Default solver will be changed to 'lbfgs' in 0.22. Specify a solver to silence this warning.\n",
      "  FutureWarning)\n"
     ]
    },
    {
     "name": "stdout",
     "output_type": "stream",
     "text": [
      "[CV]  scaler__with_mean=False, clf__C=2.154434690031882, clf__random_state=42, clf__penalty=l1, total=   3.8s\n",
      "[CV] scaler__with_mean=True, clf__C=2.154434690031882, clf__random_state=42, clf__penalty=l1 \n"
     ]
    },
    {
     "name": "stderr",
     "output_type": "stream",
     "text": [
      "/home/dima/jupyter/venv/lib/python3.5/site-packages/sklearn/linear_model/logistic.py:432: FutureWarning: Default solver will be changed to 'lbfgs' in 0.22. Specify a solver to silence this warning.\n",
      "  FutureWarning)\n"
     ]
    },
    {
     "name": "stdout",
     "output_type": "stream",
     "text": [
      "[CV]  scaler__with_mean=True, clf__C=2.154434690031882, clf__random_state=42, clf__penalty=l1, total=   3.8s\n",
      "[CV] scaler__with_mean=True, clf__C=2.154434690031882, clf__random_state=42, clf__penalty=l1 \n"
     ]
    },
    {
     "name": "stderr",
     "output_type": "stream",
     "text": [
      "/home/dima/jupyter/venv/lib/python3.5/site-packages/sklearn/linear_model/logistic.py:432: FutureWarning: Default solver will be changed to 'lbfgs' in 0.22. Specify a solver to silence this warning.\n",
      "  FutureWarning)\n"
     ]
    },
    {
     "name": "stdout",
     "output_type": "stream",
     "text": [
      "[CV]  scaler__with_mean=True, clf__C=2.154434690031882, clf__random_state=42, clf__penalty=l1, total=   3.0s\n",
      "[CV] scaler__with_mean=True, clf__C=2.154434690031882, clf__random_state=42, clf__penalty=l1 \n"
     ]
    },
    {
     "name": "stderr",
     "output_type": "stream",
     "text": [
      "/home/dima/jupyter/venv/lib/python3.5/site-packages/sklearn/linear_model/logistic.py:432: FutureWarning: Default solver will be changed to 'lbfgs' in 0.22. Specify a solver to silence this warning.\n",
      "  FutureWarning)\n"
     ]
    },
    {
     "name": "stdout",
     "output_type": "stream",
     "text": [
      "[CV]  scaler__with_mean=True, clf__C=2.154434690031882, clf__random_state=42, clf__penalty=l1, total=   5.1s\n",
      "[CV] scaler__with_mean=True, clf__C=2.154434690031882, clf__random_state=42, clf__penalty=l1 \n"
     ]
    },
    {
     "name": "stderr",
     "output_type": "stream",
     "text": [
      "/home/dima/jupyter/venv/lib/python3.5/site-packages/sklearn/linear_model/logistic.py:432: FutureWarning: Default solver will be changed to 'lbfgs' in 0.22. Specify a solver to silence this warning.\n",
      "  FutureWarning)\n"
     ]
    },
    {
     "name": "stdout",
     "output_type": "stream",
     "text": [
      "[CV]  scaler__with_mean=True, clf__C=2.154434690031882, clf__random_state=42, clf__penalty=l1, total=   8.8s\n",
      "[CV] scaler__with_mean=True, clf__C=2.154434690031882, clf__random_state=42, clf__penalty=l1 \n"
     ]
    },
    {
     "name": "stderr",
     "output_type": "stream",
     "text": [
      "/home/dima/jupyter/venv/lib/python3.5/site-packages/sklearn/linear_model/logistic.py:432: FutureWarning: Default solver will be changed to 'lbfgs' in 0.22. Specify a solver to silence this warning.\n",
      "  FutureWarning)\n"
     ]
    },
    {
     "name": "stdout",
     "output_type": "stream",
     "text": [
      "[CV]  scaler__with_mean=True, clf__C=2.154434690031882, clf__random_state=42, clf__penalty=l1, total=   5.8s\n",
      "[CV] scaler__with_mean=False, clf__C=2.154434690031882, clf__random_state=42, clf__penalty=l2 \n"
     ]
    },
    {
     "name": "stderr",
     "output_type": "stream",
     "text": [
      "/home/dima/jupyter/venv/lib/python3.5/site-packages/sklearn/linear_model/logistic.py:432: FutureWarning: Default solver will be changed to 'lbfgs' in 0.22. Specify a solver to silence this warning.\n",
      "  FutureWarning)\n"
     ]
    },
    {
     "name": "stdout",
     "output_type": "stream",
     "text": [
      "[CV]  scaler__with_mean=False, clf__C=2.154434690031882, clf__random_state=42, clf__penalty=l2, total=   0.2s\n",
      "[CV] scaler__with_mean=False, clf__C=2.154434690031882, clf__random_state=42, clf__penalty=l2 \n"
     ]
    },
    {
     "name": "stderr",
     "output_type": "stream",
     "text": [
      "/home/dima/jupyter/venv/lib/python3.5/site-packages/sklearn/linear_model/logistic.py:432: FutureWarning: Default solver will be changed to 'lbfgs' in 0.22. Specify a solver to silence this warning.\n",
      "  FutureWarning)\n"
     ]
    },
    {
     "name": "stdout",
     "output_type": "stream",
     "text": [
      "[CV]  scaler__with_mean=False, clf__C=2.154434690031882, clf__random_state=42, clf__penalty=l2, total=   0.2s\n",
      "[CV] scaler__with_mean=False, clf__C=2.154434690031882, clf__random_state=42, clf__penalty=l2 \n"
     ]
    },
    {
     "name": "stderr",
     "output_type": "stream",
     "text": [
      "/home/dima/jupyter/venv/lib/python3.5/site-packages/sklearn/linear_model/logistic.py:432: FutureWarning: Default solver will be changed to 'lbfgs' in 0.22. Specify a solver to silence this warning.\n",
      "  FutureWarning)\n"
     ]
    },
    {
     "name": "stdout",
     "output_type": "stream",
     "text": [
      "[CV]  scaler__with_mean=False, clf__C=2.154434690031882, clf__random_state=42, clf__penalty=l2, total=   0.3s\n",
      "[CV] scaler__with_mean=False, clf__C=2.154434690031882, clf__random_state=42, clf__penalty=l2 \n"
     ]
    },
    {
     "name": "stderr",
     "output_type": "stream",
     "text": [
      "/home/dima/jupyter/venv/lib/python3.5/site-packages/sklearn/linear_model/logistic.py:432: FutureWarning: Default solver will be changed to 'lbfgs' in 0.22. Specify a solver to silence this warning.\n",
      "  FutureWarning)\n"
     ]
    },
    {
     "name": "stdout",
     "output_type": "stream",
     "text": [
      "[CV]  scaler__with_mean=False, clf__C=2.154434690031882, clf__random_state=42, clf__penalty=l2, total=   0.3s\n",
      "[CV] scaler__with_mean=False, clf__C=2.154434690031882, clf__random_state=42, clf__penalty=l2 \n"
     ]
    },
    {
     "name": "stderr",
     "output_type": "stream",
     "text": [
      "/home/dima/jupyter/venv/lib/python3.5/site-packages/sklearn/linear_model/logistic.py:432: FutureWarning: Default solver will be changed to 'lbfgs' in 0.22. Specify a solver to silence this warning.\n",
      "  FutureWarning)\n"
     ]
    },
    {
     "name": "stdout",
     "output_type": "stream",
     "text": [
      "[CV]  scaler__with_mean=False, clf__C=2.154434690031882, clf__random_state=42, clf__penalty=l2, total=   0.3s\n",
      "[CV] scaler__with_mean=True, clf__C=2.154434690031882, clf__random_state=42, clf__penalty=l2 \n"
     ]
    },
    {
     "name": "stderr",
     "output_type": "stream",
     "text": [
      "/home/dima/jupyter/venv/lib/python3.5/site-packages/sklearn/linear_model/logistic.py:432: FutureWarning: Default solver will be changed to 'lbfgs' in 0.22. Specify a solver to silence this warning.\n",
      "  FutureWarning)\n"
     ]
    },
    {
     "name": "stdout",
     "output_type": "stream",
     "text": [
      "[CV]  scaler__with_mean=True, clf__C=2.154434690031882, clf__random_state=42, clf__penalty=l2, total=   0.3s\n",
      "[CV] scaler__with_mean=True, clf__C=2.154434690031882, clf__random_state=42, clf__penalty=l2 \n"
     ]
    },
    {
     "name": "stderr",
     "output_type": "stream",
     "text": [
      "/home/dima/jupyter/venv/lib/python3.5/site-packages/sklearn/linear_model/logistic.py:432: FutureWarning: Default solver will be changed to 'lbfgs' in 0.22. Specify a solver to silence this warning.\n",
      "  FutureWarning)\n"
     ]
    },
    {
     "name": "stdout",
     "output_type": "stream",
     "text": [
      "[CV]  scaler__with_mean=True, clf__C=2.154434690031882, clf__random_state=42, clf__penalty=l2, total=   0.4s\n",
      "[CV] scaler__with_mean=True, clf__C=2.154434690031882, clf__random_state=42, clf__penalty=l2 \n"
     ]
    },
    {
     "name": "stderr",
     "output_type": "stream",
     "text": [
      "/home/dima/jupyter/venv/lib/python3.5/site-packages/sklearn/linear_model/logistic.py:432: FutureWarning: Default solver will be changed to 'lbfgs' in 0.22. Specify a solver to silence this warning.\n",
      "  FutureWarning)\n"
     ]
    },
    {
     "name": "stdout",
     "output_type": "stream",
     "text": [
      "[CV]  scaler__with_mean=True, clf__C=2.154434690031882, clf__random_state=42, clf__penalty=l2, total=   0.3s\n",
      "[CV] scaler__with_mean=True, clf__C=2.154434690031882, clf__random_state=42, clf__penalty=l2 \n"
     ]
    },
    {
     "name": "stderr",
     "output_type": "stream",
     "text": [
      "/home/dima/jupyter/venv/lib/python3.5/site-packages/sklearn/linear_model/logistic.py:432: FutureWarning: Default solver will be changed to 'lbfgs' in 0.22. Specify a solver to silence this warning.\n",
      "  FutureWarning)\n"
     ]
    },
    {
     "name": "stdout",
     "output_type": "stream",
     "text": [
      "[CV]  scaler__with_mean=True, clf__C=2.154434690031882, clf__random_state=42, clf__penalty=l2, total=   0.4s\n",
      "[CV] scaler__with_mean=True, clf__C=2.154434690031882, clf__random_state=42, clf__penalty=l2 \n"
     ]
    },
    {
     "name": "stderr",
     "output_type": "stream",
     "text": [
      "/home/dima/jupyter/venv/lib/python3.5/site-packages/sklearn/linear_model/logistic.py:432: FutureWarning: Default solver will be changed to 'lbfgs' in 0.22. Specify a solver to silence this warning.\n",
      "  FutureWarning)\n"
     ]
    },
    {
     "name": "stdout",
     "output_type": "stream",
     "text": [
      "[CV]  scaler__with_mean=True, clf__C=2.154434690031882, clf__random_state=42, clf__penalty=l2, total=   0.3s\n",
      "[CV] scaler__with_mean=False, clf__C=16.681005372000556, clf__random_state=42, clf__penalty=l1 \n"
     ]
    },
    {
     "name": "stderr",
     "output_type": "stream",
     "text": [
      "/home/dima/jupyter/venv/lib/python3.5/site-packages/sklearn/linear_model/logistic.py:432: FutureWarning: Default solver will be changed to 'lbfgs' in 0.22. Specify a solver to silence this warning.\n",
      "  FutureWarning)\n"
     ]
    },
    {
     "name": "stdout",
     "output_type": "stream",
     "text": [
      "[CV]  scaler__with_mean=False, clf__C=16.681005372000556, clf__random_state=42, clf__penalty=l1, total=   4.8s\n",
      "[CV] scaler__with_mean=False, clf__C=16.681005372000556, clf__random_state=42, clf__penalty=l1 \n"
     ]
    },
    {
     "name": "stderr",
     "output_type": "stream",
     "text": [
      "/home/dima/jupyter/venv/lib/python3.5/site-packages/sklearn/linear_model/logistic.py:432: FutureWarning: Default solver will be changed to 'lbfgs' in 0.22. Specify a solver to silence this warning.\n",
      "  FutureWarning)\n"
     ]
    }
   ],
   "source": [
    "# Взять лучшую модель и сделать предсказания (с вероятностями (!!!)) для test выборки\n",
    "from sklearn.model_selection import GridSearchCV, RandomizedSearchCV\n",
    "from sklearn.pipeline import Pipeline\n",
    "from sklearn.preprocessing import StandardScaler\n",
    "\n",
    "model = Pipeline([\n",
    "    ('scaler', StandardScaler()),\n",
    "    ('clf', LogisticRegression())\n",
    "])\n",
    "\n",
    "param_grid = {\n",
    "    'scaler__with_mean': [False, True],\n",
    "    'clf__penalty': ['l1', 'l2'],\n",
    "    'clf__random_state': [42],\n",
    "    'clf__C': np.logspace(-5, 3, 10)\n",
    "}\n",
    "\n",
    "print(param_grid)\n",
    "\n",
    "# Задаем схему кросс-валидации\n",
    "cv = StratifiedKFold(n_splits=5, random_state=42, shuffle=True)\n",
    "\n",
    "grid_searcher = GridSearchCV(model, param_grid, \n",
    "                             scoring='roc_auc', \n",
    "                             n_jobs=-1, cv=cv, \n",
    "                             verbose=2)\n",
    "\n",
    "grid_searcher.fit(X, y)\n",
    "\n",
    "best_model = grid_searcher.best_estimator_\n",
    "predict = best_model.predict(X_test)\n",
    "\n",
    "accuracy_score(y_test, predict), \\\n",
    "precision_score(y_test, predict), \\\n",
    "recall_score(y_test, predict)\n",
    "## Your Code Here"
   ]
  },
  {
   "cell_type": "code",
   "execution_count": null,
   "metadata": {},
   "outputs": [],
   "source": [
    "# Померить roc_auc на тесте\n",
    "# Вывести текстом и на графике =)\n",
    "\n",
    "## Your Code Here\n",
    "\n",
    "from sklearn.metrics import roc_auc_score, roc_curve\n",
    "predict_proba = model.predict_proba(X_test)\n",
    "fpr, tpr, thresholds = roc_curve(y_test2 predict_proba[:,1])\n",
    "plt.figure(figsize=(5, 5))\n",
    "plt.plot(fpr, tpr)\n",
    "plt.plot([0, 1], [0, 1])\n",
    "plt.ylabel('tpr')\n",
    "plt.xlabel('fpr')\n",
    "plt.grid(True)\n",
    "plt.title('ROC curve')\n",
    "plt.xlim((-0.01, 1.01))\n",
    "plt.ylim((-0.01, 1.01))"
   ]
  },
  {
   "cell_type": "markdown",
   "metadata": {},
   "source": [
    "### Больше обязательных заданий нет, но ниже вы можете провести исследование, поиграться с данными\n",
    "### Это возможность написать код, который я посмотрю и в случае чего откомметирую. ;)\n",
    "### Это не оценивается и остается на ваше усмотрение. Просто дополнительная возможность"
   ]
  },
  {
   "cell_type": "code",
   "execution_count": null,
   "metadata": {},
   "outputs": [],
   "source": [
    "### И далее ;)"
   ]
  }
 ],
 "metadata": {
  "anaconda-cloud": {},
  "kernelspec": {
   "display_name": "Python3 (venv)",
   "language": "python",
   "name": "venv"
  },
  "language_info": {
   "codemirror_mode": {
    "name": "ipython",
    "version": 3
   },
   "file_extension": ".py",
   "mimetype": "text/x-python",
   "name": "python",
   "nbconvert_exporter": "python",
   "pygments_lexer": "ipython3",
   "version": "3.5.2"
  },
  "toc": {
   "base_numbering": 1,
   "nav_menu": {
    "height": "31px",
    "width": "253px"
   },
   "number_sections": false,
   "sideBar": true,
   "skip_h1_title": false,
   "title_cell": "Table of Contents",
   "title_sidebar": "Contents",
   "toc_cell": false,
   "toc_position": {},
   "toc_section_display": "block",
   "toc_window_display": false
  }
 },
 "nbformat": 4,
 "nbformat_minor": 2
}
